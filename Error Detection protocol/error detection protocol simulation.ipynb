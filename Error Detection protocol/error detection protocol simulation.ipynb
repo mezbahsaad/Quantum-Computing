{
  "cells": [
    {
      "cell_type": "markdown",
      "metadata": {
        "id": "xudXOImlRwrS"
      },
      "source": [
        "# Import the QISKit SDK"
      ]
    },
    {
      "cell_type": "code",
      "execution_count": 1,
      "metadata": {
        "colab": {
          "base_uri": "https://localhost:8080/"
        },
        "id": "Cu1fuYg3SAJG",
        "outputId": "3da4023f-5dca-4438-8b8f-7ffc3a9fa4c6"
      },
      "outputs": [
        {
          "name": "stdout",
          "output_type": "stream",
          "text": [
            "Requirement already satisfied: qiskit in c:\\users\\mezba\\appdata\\local\\programs\\python\\python311\\lib\\site-packages (0.44.1)"
          ]
        },
        {
          "name": "stderr",
          "output_type": "stream",
          "text": [
            "\n",
            "[notice] A new release of pip is available: 23.1.2 -> 23.2.1\n",
            "[notice] To update, run: python.exe -m pip install --upgrade pip\n"
          ]
        },
        {
          "name": "stdout",
          "output_type": "stream",
          "text": [
            "\n",
            "Requirement already satisfied: qiskit-terra==0.25.1 in c:\\users\\mezba\\appdata\\local\\programs\\python\\python311\\lib\\site-packages (from qiskit) (0.25.1)\n",
            "Requirement already satisfied: rustworkx>=0.13.0 in c:\\users\\mezba\\appdata\\local\\programs\\python\\python311\\lib\\site-packages (from qiskit-terra==0.25.1->qiskit) (0.13.1)\n",
            "Requirement already satisfied: numpy>=1.17 in c:\\users\\mezba\\appdata\\local\\programs\\python\\python311\\lib\\site-packages (from qiskit-terra==0.25.1->qiskit) (1.23.5)\n",
            "Requirement already satisfied: ply>=3.10 in c:\\users\\mezba\\appdata\\local\\programs\\python\\python311\\lib\\site-packages (from qiskit-terra==0.25.1->qiskit) (3.11)\n",
            "Requirement already satisfied: psutil>=5 in c:\\users\\mezba\\appdata\\roaming\\python\\python311\\site-packages (from qiskit-terra==0.25.1->qiskit) (5.9.5)\n",
            "Requirement already satisfied: scipy>=1.5 in c:\\users\\mezba\\appdata\\local\\programs\\python\\python311\\lib\\site-packages (from qiskit-terra==0.25.1->qiskit) (1.11.2)\n",
            "Requirement already satisfied: sympy>=1.3 in c:\\users\\mezba\\appdata\\local\\programs\\python\\python311\\lib\\site-packages (from qiskit-terra==0.25.1->qiskit) (1.12)\n",
            "Requirement already satisfied: dill>=0.3 in c:\\users\\mezba\\appdata\\local\\programs\\python\\python311\\lib\\site-packages (from qiskit-terra==0.25.1->qiskit) (0.3.7)\n",
            "Requirement already satisfied: python-dateutil>=2.8.0 in c:\\users\\mezba\\appdata\\roaming\\python\\python311\\site-packages (from qiskit-terra==0.25.1->qiskit) (2.8.2)\n",
            "Requirement already satisfied: stevedore>=3.0.0 in c:\\users\\mezba\\appdata\\local\\programs\\python\\python311\\lib\\site-packages (from qiskit-terra==0.25.1->qiskit) (5.1.0)\n",
            "Requirement already satisfied: six>=1.5 in c:\\users\\mezba\\appdata\\local\\programs\\python\\python311\\lib\\site-packages (from python-dateutil>=2.8.0->qiskit-terra==0.25.1->qiskit) (1.16.0)\n",
            "Requirement already satisfied: pbr!=2.1.0,>=2.0.0 in c:\\users\\mezba\\appdata\\local\\programs\\python\\python311\\lib\\site-packages (from stevedore>=3.0.0->qiskit-terra==0.25.1->qiskit) (5.11.1)\n",
            "Requirement already satisfied: mpmath>=0.19 in c:\\users\\mezba\\appdata\\local\\programs\\python\\python311\\lib\\site-packages (from sympy>=1.3->qiskit-terra==0.25.1->qiskit) (1.3.0)\n"
          ]
        }
      ],
      "source": [
        "!pip install qiskit"
      ]
    },
    {
      "cell_type": "code",
      "execution_count": 2,
      "metadata": {
        "id": "Da1ll2wmRwrS"
      },
      "outputs": [],
      "source": [
        "from qiskit import QuantumCircuit, ClassicalRegister, QuantumRegister"
      ]
    },
    {
      "cell_type": "code",
      "execution_count": 3,
      "metadata": {
        "colab": {
          "base_uri": "https://localhost:8080/"
        },
        "id": "HZfYdnpPTWI7",
        "outputId": "34dbc8a5-6a01-4bab-f266-3783fe91f465"
      },
      "outputs": [
        {
          "name": "stdout",
          "output_type": "stream",
          "text": [
            "Collecting qiskit_dynamics\n",
            "  Downloading qiskit_dynamics-0.4.2-py3-none-any.whl (187 kB)\n",
            "                                              0.0/187.7 kB ? eta -:--:--\n",
            "     ------                                  30.7/187.7 kB 1.3 MB/s eta 0:00:01\n",
            "     --------                              41.0/187.7 kB 326.8 kB/s eta 0:00:01\n",
            "     --------------                        71.7/187.7 kB 491.5 kB/s eta 0:00:01\n",
            "     ------------------                    92.2/187.7 kB 521.8 kB/s eta 0:00:01\n",
            "     ------------------                    92.2/187.7 kB 521.8 kB/s eta 0:00:01\n",
            "     -----------------------              122.9/187.7 kB 399.4 kB/s eta 0:00:01\n",
            "     -----------------------              122.9/187.7 kB 399.4 kB/s eta 0:00:01\n",
            "     -----------------------------        153.6/187.7 kB 382.3 kB/s eta 0:00:01\n",
            "     ------------------------------------ 187.7/187.7 kB 436.1 kB/s eta 0:00:00\n",
            "Requirement already satisfied: numpy>=1.17 in c:\\users\\mezba\\appdata\\local\\programs\\python\\python311\\lib\\site-packages (from qiskit_dynamics) (1.23.5)\n",
            "Requirement already satisfied: scipy>=1.4 in c:\\users\\mezba\\appdata\\local\\programs\\python\\python311\\lib\\site-packages (from qiskit_dynamics) (1.11.2)\n",
            "Requirement already satisfied: matplotlib>=3.0 in c:\\users\\mezba\\appdata\\local\\programs\\python\\python311\\lib\\site-packages (from qiskit_dynamics) (3.8.0)\n",
            "Requirement already satisfied: qiskit-terra>=0.23.0 in c:\\users\\mezba\\appdata\\local\\programs\\python\\python311\\lib\\site-packages (from qiskit_dynamics) (0.25.1)\n",
            "Collecting multiset>=3.0.1 (from qiskit_dynamics)\n",
            "  Downloading multiset-3.0.1-py2.py3-none-any.whl (9.6 kB)\n",
            "Requirement already satisfied: sympy>=1.12 in c:\\users\\mezba\\appdata\\local\\programs\\python\\python311\\lib\\site-packages (from qiskit_dynamics) (1.12)\n",
            "Requirement already satisfied: contourpy>=1.0.1 in c:\\users\\mezba\\appdata\\local\\programs\\python\\python311\\lib\\site-packages (from matplotlib>=3.0->qiskit_dynamics) (1.1.1)\n",
            "Requirement already satisfied: cycler>=0.10 in c:\\users\\mezba\\appdata\\local\\programs\\python\\python311\\lib\\site-packages (from matplotlib>=3.0->qiskit_dynamics) (0.11.0)\n",
            "Requirement already satisfied: fonttools>=4.22.0 in c:\\users\\mezba\\appdata\\local\\programs\\python\\python311\\lib\\site-packages (from matplotlib>=3.0->qiskit_dynamics) (4.42.1)\n",
            "Requirement already satisfied: kiwisolver>=1.0.1 in c:\\users\\mezba\\appdata\\local\\programs\\python\\python311\\lib\\site-packages (from matplotlib>=3.0->qiskit_dynamics) (1.4.5)\n",
            "Requirement already satisfied: packaging>=20.0 in c:\\users\\mezba\\appdata\\local\\programs\\python\\python311\\lib\\site-packages (from matplotlib>=3.0->qiskit_dynamics) (23.1)\n",
            "Requirement already satisfied: pillow>=6.2.0 in c:\\users\\mezba\\appdata\\local\\programs\\python\\python311\\lib\\site-packages (from matplotlib>=3.0->qiskit_dynamics) (10.0.1)\n",
            "Requirement already satisfied: pyparsing>=2.3.1 in c:\\users\\mezba\\appdata\\local\\programs\\python\\python311\\lib\\site-packages (from matplotlib>=3.0->qiskit_dynamics) (3.1.1)\n",
            "Requirement already satisfied: python-dateutil>=2.7 in c:\\users\\mezba\\appdata\\roaming\\python\\python311\\site-packages (from matplotlib>=3.0->qiskit_dynamics) (2.8.2)\n",
            "Requirement already satisfied: rustworkx>=0.13.0 in c:\\users\\mezba\\appdata\\local\\programs\\python\\python311\\lib\\site-packages (from qiskit-terra>=0.23.0->qiskit_dynamics) (0.13.1)\n",
            "Requirement already satisfied: ply>=3.10 in c:\\users\\mezba\\appdata\\local\\programs\\python\\python311\\lib\\site-packages (from qiskit-terra>=0.23.0->qiskit_dynamics) (3.11)\n",
            "Requirement already satisfied: psutil>=5 in c:\\users\\mezba\\appdata\\roaming\\python\\python311\\site-packages (from qiskit-terra>=0.23.0->qiskit_dynamics) (5.9.5)\n",
            "Requirement already satisfied: dill>=0.3 in c:\\users\\mezba\\appdata\\local\\programs\\python\\python311\\lib\\site-packages (from qiskit-terra>=0.23.0->qiskit_dynamics) (0.3.7)\n",
            "Requirement already satisfied: stevedore>=3.0.0 in c:\\users\\mezba\\appdata\\local\\programs\\python\\python311\\lib\\site-packages (from qiskit-terra>=0.23.0->qiskit_dynamics) (5.1.0)\n",
            "Requirement already satisfied: mpmath>=0.19 in c:\\users\\mezba\\appdata\\local\\programs\\python\\python311\\lib\\site-packages (from sympy>=1.12->qiskit_dynamics) (1.3.0)\n",
            "Requirement already satisfied: six>=1.5 in c:\\users\\mezba\\appdata\\local\\programs\\python\\python311\\lib\\site-packages (from python-dateutil>=2.7->matplotlib>=3.0->qiskit_dynamics) (1.16.0)\n",
            "Requirement already satisfied: pbr!=2.1.0,>=2.0.0 in c:\\users\\mezba\\appdata\\local\\programs\\python\\python311\\lib\\site-packages (from stevedore>=3.0.0->qiskit-terra>=0.23.0->qiskit_dynamics) (5.11.1)\n",
            "Installing collected packages: multiset, qiskit_dynamics\n",
            "Successfully installed multiset-3.0.1 qiskit_dynamics-0.4.2\n"
          ]
        },
        {
          "name": "stderr",
          "output_type": "stream",
          "text": [
            "\n",
            "[notice] A new release of pip is available: 23.1.2 -> 23.2.1\n",
            "[notice] To update, run: python.exe -m pip install --upgrade pip\n"
          ]
        }
      ],
      "source": [
        "!pip install qiskit_dynamics"
      ]
    },
    {
      "cell_type": "code",
      "execution_count": 4,
      "metadata": {
        "id": "7MkJNbZ1RwrT"
      },
      "outputs": [],
      "source": [
        "# from qiskit import available_backends, execute\n",
        "from qiskit_dynamics.array import Array"
      ]
    },
    {
      "cell_type": "code",
      "execution_count": 5,
      "metadata": {
        "id": "OKEhVG9fRwrT"
      },
      "outputs": [],
      "source": [
        "QX_TOKEN=\"8c18db0911b445e374f25bf6137c8eb680ba0b2cb4e2df01fe63ce937c49cd4665382fc2bb051bc22c14234225f1058f5bcb0556123ec712e7be475c0e267be3\""
      ]
    },
    {
      "cell_type": "code",
      "execution_count": 6,
      "metadata": {
        "id": "Zh7QyT1ERwrT"
      },
      "outputs": [],
      "source": [
        "QX_URL = \"https://quantumexperience.ng.bluemix.net.api\""
      ]
    },
    {
      "cell_type": "code",
      "execution_count": 7,
      "metadata": {
        "id": "lg3TcJl5RwrT"
      },
      "outputs": [],
      "source": [
        "q = QuantumRegister(15)"
      ]
    },
    {
      "cell_type": "code",
      "execution_count": 8,
      "metadata": {
        "id": "f4HG4ChHRwrT"
      },
      "outputs": [],
      "source": [
        "c = ClassicalRegister(15)"
      ]
    },
    {
      "cell_type": "code",
      "execution_count": 9,
      "metadata": {
        "id": "thIJH1w-RwrT"
      },
      "outputs": [],
      "source": [
        "qc = QuantumCircuit(q, c)"
      ]
    },
    {
      "cell_type": "code",
      "execution_count": 10,
      "metadata": {
        "id": "zlWvl2ozRwrU"
      },
      "outputs": [],
      "source": [
        "from math import pi"
      ]
    },
    {
      "cell_type": "markdown",
      "metadata": {
        "id": "SJV4U01JRwrU"
      },
      "source": [
        "# We are first prepare our entangled state"
      ]
    },
    {
      "cell_type": "code",
      "execution_count": 11,
      "metadata": {
        "colab": {
          "base_uri": "https://localhost:8080/"
        },
        "id": "yJb7qFaORwrU",
        "outputId": "05a86805-4edb-486b-cd21-26f32404ee22"
      },
      "outputs": [
        {
          "data": {
            "text/plain": [
              "<qiskit.circuit.instructionset.InstructionSet at 0x2235e504fa0>"
            ]
          },
          "execution_count": 11,
          "metadata": {},
          "output_type": "execute_result"
        }
      ],
      "source": [
        "qc.h(q[0])"
      ]
    },
    {
      "cell_type": "code",
      "execution_count": 12,
      "metadata": {
        "colab": {
          "base_uri": "https://localhost:8080/"
        },
        "id": "nTaXCCIARwrU",
        "outputId": "f215e902-0829-42bd-9063-40caad84374b"
      },
      "outputs": [
        {
          "data": {
            "text/plain": [
              "<qiskit.circuit.instructionset.InstructionSet at 0x2235e504eb0>"
            ]
          },
          "execution_count": 12,
          "metadata": {},
          "output_type": "execute_result"
        }
      ],
      "source": [
        "qc.h(q[2])"
      ]
    },
    {
      "cell_type": "code",
      "execution_count": 13,
      "metadata": {
        "colab": {
          "base_uri": "https://localhost:8080/"
        },
        "id": "c_ECJCDaRwrU",
        "outputId": "0fac1adf-4518-447d-b371-b59ae45ea131"
      },
      "outputs": [
        {
          "data": {
            "text/plain": [
              "<qiskit.circuit.instructionset.InstructionSet at 0x2235e504e80>"
            ]
          },
          "execution_count": 13,
          "metadata": {},
          "output_type": "execute_result"
        }
      ],
      "source": [
        "qc.h(q[3])"
      ]
    },
    {
      "cell_type": "code",
      "execution_count": 14,
      "metadata": {
        "colab": {
          "base_uri": "https://localhost:8080/"
        },
        "id": "_lqkm2lJRwrU",
        "outputId": "7fee2c0e-da82-4539-8bc4-12f8b34334dd"
      },
      "outputs": [
        {
          "data": {
            "text/plain": [
              "<qiskit.circuit.instructionset.InstructionSet at 0x2235e504cd0>"
            ]
          },
          "execution_count": 14,
          "metadata": {},
          "output_type": "execute_result"
        }
      ],
      "source": [
        "qc.h(q[6])"
      ]
    },
    {
      "cell_type": "code",
      "execution_count": 15,
      "metadata": {
        "colab": {
          "base_uri": "https://localhost:8080/"
        },
        "id": "Raf1Y7AWRwrU",
        "outputId": "b43fa81b-42b6-4bc0-8f63-a48951761cad"
      },
      "outputs": [
        {
          "data": {
            "text/plain": [
              "<qiskit.circuit.instructionset.InstructionSet at 0x2235e504d30>"
            ]
          },
          "execution_count": 15,
          "metadata": {},
          "output_type": "execute_result"
        }
      ],
      "source": [
        "qc.h(q[8])"
      ]
    },
    {
      "cell_type": "code",
      "execution_count": 16,
      "metadata": {
        "colab": {
          "base_uri": "https://localhost:8080/"
        },
        "id": "FjXL0fxXRwrV",
        "outputId": "0d75c017-c810-4033-c520-6dc64a44ccb1"
      },
      "outputs": [
        {
          "data": {
            "text/plain": [
              "<qiskit.circuit.instructionset.InstructionSet at 0x2235e5050f0>"
            ]
          },
          "execution_count": 16,
          "metadata": {},
          "output_type": "execute_result"
        }
      ],
      "source": [
        "qc.h(q[9])"
      ]
    },
    {
      "cell_type": "code",
      "execution_count": 17,
      "metadata": {
        "colab": {
          "base_uri": "https://localhost:8080/"
        },
        "id": "_k6XS_IeRwrV",
        "outputId": "9fa65b84-49c5-4f1d-d00d-a37cbfe94f48"
      },
      "outputs": [
        {
          "data": {
            "text/plain": [
              "<qiskit.circuit.instructionset.InstructionSet at 0x2235e504910>"
            ]
          },
          "execution_count": 17,
          "metadata": {},
          "output_type": "execute_result"
        }
      ],
      "source": [
        "qc.cx(q[2], q[1])"
      ]
    },
    {
      "cell_type": "code",
      "execution_count": 18,
      "metadata": {
        "colab": {
          "base_uri": "https://localhost:8080/"
        },
        "id": "F9QsV0N8RwrV",
        "outputId": "699fa4e6-1442-4074-bcb1-714c584a14a1"
      },
      "outputs": [
        {
          "data": {
            "text/plain": [
              "<qiskit.circuit.instructionset.InstructionSet at 0x2235e504ee0>"
            ]
          },
          "execution_count": 18,
          "metadata": {},
          "output_type": "execute_result"
        }
      ],
      "source": [
        "qc.cx(q[3], q[4])"
      ]
    },
    {
      "cell_type": "code",
      "execution_count": 19,
      "metadata": {
        "colab": {
          "base_uri": "https://localhost:8080/"
        },
        "id": "ZyyPvzpxRwrV",
        "outputId": "75a55980-3abb-4b3e-86a0-d214f27bb75b"
      },
      "outputs": [
        {
          "data": {
            "text/plain": [
              "<qiskit.circuit.instructionset.InstructionSet at 0x2235e505000>"
            ]
          },
          "execution_count": 19,
          "metadata": {},
          "output_type": "execute_result"
        }
      ],
      "source": [
        "qc.cx(q[6], q[5])"
      ]
    },
    {
      "cell_type": "code",
      "execution_count": 20,
      "metadata": {
        "colab": {
          "base_uri": "https://localhost:8080/"
        },
        "id": "TbV7pe25RwrV",
        "outputId": "486fa823-b0ee-4fd7-af50-908607c4973c"
      },
      "outputs": [
        {
          "data": {
            "text/plain": [
              "<qiskit.circuit.instructionset.InstructionSet at 0x2235e504df0>"
            ]
          },
          "execution_count": 20,
          "metadata": {},
          "output_type": "execute_result"
        }
      ],
      "source": [
        "qc.cx(q[8], q[7])"
      ]
    },
    {
      "cell_type": "code",
      "execution_count": 21,
      "metadata": {
        "colab": {
          "base_uri": "https://localhost:8080/"
        },
        "id": "j1pr1jD7RwrV",
        "outputId": "f4db160a-87b3-408c-ee7c-0de9f3afd751"
      },
      "outputs": [
        {
          "data": {
            "text/plain": [
              "<qiskit.circuit.instructionset.InstructionSet at 0x2235e504f10>"
            ]
          },
          "execution_count": 21,
          "metadata": {},
          "output_type": "execute_result"
        }
      ],
      "source": [
        "qc.cx(q[9], q[10])"
      ]
    },
    {
      "cell_type": "code",
      "execution_count": 22,
      "metadata": {
        "colab": {
          "base_uri": "https://localhost:8080/"
        },
        "id": "n0gVc_9nRwrV",
        "outputId": "182b8b48-0e2d-4088-ea81-9164c8ed44b6"
      },
      "outputs": [
        {
          "data": {
            "text/plain": [
              "<qiskit.circuit.instructionset.InstructionSet at 0x2235e504d60>"
            ]
          },
          "execution_count": 22,
          "metadata": {},
          "output_type": "execute_result"
        }
      ],
      "source": [
        "qc.cx(q[0], q[11])"
      ]
    },
    {
      "cell_type": "markdown",
      "metadata": {
        "id": "eJW7kMdNRwrV"
      },
      "source": []
    },
    {
      "cell_type": "code",
      "execution_count": 23,
      "metadata": {
        "colab": {
          "base_uri": "https://localhost:8080/"
        },
        "id": "eOnSdJJZRwrV",
        "outputId": "6c7046c8-64f5-4e56-e9c2-86e56033b284"
      },
      "outputs": [
        {
          "data": {
            "text/plain": [
              "<qiskit.circuit.instructionset.InstructionSet at 0x2235e5046a0>"
            ]
          },
          "execution_count": 23,
          "metadata": {},
          "output_type": "execute_result"
        }
      ],
      "source": [
        "qc.h(q[2])"
      ]
    },
    {
      "cell_type": "code",
      "execution_count": 24,
      "metadata": {
        "colab": {
          "base_uri": "https://localhost:8080/"
        },
        "id": "ZY7XhJZyRwrW",
        "outputId": "8b60fccd-a496-4d47-c8c4-7b9ec5b28ce3"
      },
      "outputs": [
        {
          "data": {
            "text/plain": [
              "<qiskit.circuit.instructionset.InstructionSet at 0x2235e504f40>"
            ]
          },
          "execution_count": 24,
          "metadata": {},
          "output_type": "execute_result"
        }
      ],
      "source": [
        "qc.h(q[5])"
      ]
    },
    {
      "cell_type": "code",
      "execution_count": 25,
      "metadata": {
        "colab": {
          "base_uri": "https://localhost:8080/"
        },
        "id": "ohnRfw_8RwrW",
        "outputId": "6bf707f0-a2d1-4466-cf41-c74b697dddaa"
      },
      "outputs": [
        {
          "data": {
            "text/plain": [
              "<qiskit.circuit.instructionset.InstructionSet at 0x2235e504e20>"
            ]
          },
          "execution_count": 25,
          "metadata": {},
          "output_type": "execute_result"
        }
      ],
      "source": [
        "qc.h(q[8])"
      ]
    },
    {
      "cell_type": "code",
      "execution_count": 26,
      "metadata": {
        "colab": {
          "base_uri": "https://localhost:8080/"
        },
        "id": "pN7h225eRwrW",
        "outputId": "0748b39f-af94-4e93-97e3-2d5d70e6a1ea"
      },
      "outputs": [
        {
          "data": {
            "text/plain": [
              "<qiskit.circuit.instructionset.InstructionSet at 0x2235e505240>"
            ]
          },
          "execution_count": 26,
          "metadata": {},
          "output_type": "execute_result"
        }
      ],
      "source": [
        "qc.h(q[10])"
      ]
    },
    {
      "cell_type": "markdown",
      "metadata": {
        "id": "Hp6QLYKhRwrW"
      },
      "source": []
    },
    {
      "cell_type": "code",
      "execution_count": 27,
      "metadata": {
        "colab": {
          "base_uri": "https://localhost:8080/"
        },
        "id": "Tu4Bsc8yRwrW",
        "outputId": "747b5e4b-10ce-42d4-dadc-f53c57793f08"
      },
      "outputs": [
        {
          "data": {
            "text/plain": [
              "<qiskit.circuit.instructionset.InstructionSet at 0x2235e5051e0>"
            ]
          },
          "execution_count": 27,
          "metadata": {},
          "output_type": "execute_result"
        }
      ],
      "source": [
        "qc.cx(q[0], q[1])"
      ]
    },
    {
      "cell_type": "code",
      "execution_count": 28,
      "metadata": {
        "colab": {
          "base_uri": "https://localhost:8080/"
        },
        "id": "EJN-4QFlRwrW",
        "outputId": "9de45f51-6a9e-452d-81f8-5f2b046ec094"
      },
      "outputs": [
        {
          "data": {
            "text/plain": [
              "<qiskit.circuit.instructionset.InstructionSet at 0x2235e504d00>"
            ]
          },
          "execution_count": 28,
          "metadata": {},
          "output_type": "execute_result"
        }
      ],
      "source": [
        "qc.cx(q[3], q[2])"
      ]
    },
    {
      "cell_type": "code",
      "execution_count": 29,
      "metadata": {
        "colab": {
          "base_uri": "https://localhost:8080/"
        },
        "id": "D-fk6toSRwrW",
        "outputId": "d7762a3b-fdf0-4049-9ce4-db6db061bb0f"
      },
      "outputs": [
        {
          "data": {
            "text/plain": [
              "<qiskit.circuit.instructionset.InstructionSet at 0x2235e5053f0>"
            ]
          },
          "execution_count": 29,
          "metadata": {},
          "output_type": "execute_result"
        }
      ],
      "source": [
        "qc.cx(q[5], q[4])"
      ]
    },
    {
      "cell_type": "code",
      "execution_count": 30,
      "metadata": {
        "colab": {
          "base_uri": "https://localhost:8080/"
        },
        "id": "iDFuW7dQRwrW",
        "outputId": "ea0a4402-c08e-4fa0-b01f-d4c737987d03"
      },
      "outputs": [
        {
          "data": {
            "text/plain": [
              "<qiskit.circuit.instructionset.InstructionSet at 0x2235e504940>"
            ]
          },
          "execution_count": 30,
          "metadata": {},
          "output_type": "execute_result"
        }
      ],
      "source": [
        "qc.cx(q[6], q[7])"
      ]
    },
    {
      "cell_type": "code",
      "execution_count": 31,
      "metadata": {
        "colab": {
          "base_uri": "https://localhost:8080/"
        },
        "id": "W3iNQ79MRwrW",
        "outputId": "8031bc5c-8f31-4c8e-f694-144d0f896192"
      },
      "outputs": [
        {
          "data": {
            "text/plain": [
              "<qiskit.circuit.instructionset.InstructionSet at 0x2235e504c70>"
            ]
          },
          "execution_count": 31,
          "metadata": {},
          "output_type": "execute_result"
        }
      ],
      "source": [
        "qc.cx(q[9], q[8])"
      ]
    },
    {
      "cell_type": "code",
      "execution_count": 32,
      "metadata": {
        "colab": {
          "base_uri": "https://localhost:8080/"
        },
        "id": "BD9bNkuTRwrX",
        "outputId": "c08f8ed3-98e8-41c4-dc6e-3d3a72127a6e"
      },
      "outputs": [
        {
          "data": {
            "text/plain": [
              "<qiskit.circuit.instructionset.InstructionSet at 0x2235e505360>"
            ]
          },
          "execution_count": 32,
          "metadata": {},
          "output_type": "execute_result"
        }
      ],
      "source": [
        "qc.cx(q[10], q[11])"
      ]
    },
    {
      "cell_type": "code",
      "execution_count": 33,
      "metadata": {
        "colab": {
          "base_uri": "https://localhost:8080/"
        },
        "id": "CHJ6mzOxRwrX",
        "outputId": "991a8569-9581-4279-ed3e-ac56d9c3ec6c"
      },
      "outputs": [
        {
          "data": {
            "text/plain": [
              "<qiskit.circuit.instructionset.InstructionSet at 0x2235e505090>"
            ]
          },
          "execution_count": 33,
          "metadata": {},
          "output_type": "execute_result"
        }
      ],
      "source": [
        "qc.h(q[1])"
      ]
    },
    {
      "cell_type": "code",
      "execution_count": 34,
      "metadata": {
        "colab": {
          "base_uri": "https://localhost:8080/"
        },
        "id": "Eu2_QfgYRwrX",
        "outputId": "f01bd792-b5cf-4cea-958a-59709f1db6cd"
      },
      "outputs": [
        {
          "data": {
            "text/plain": [
              "<qiskit.circuit.instructionset.InstructionSet at 0x2235e504f70>"
            ]
          },
          "execution_count": 34,
          "metadata": {},
          "output_type": "execute_result"
        }
      ],
      "source": [
        "qc.h(q[2])"
      ]
    },
    {
      "cell_type": "code",
      "execution_count": 35,
      "metadata": {
        "colab": {
          "base_uri": "https://localhost:8080/"
        },
        "id": "b5NxMqwxRwrX",
        "outputId": "4e1f4f43-6528-4c9f-c2c8-127067771731"
      },
      "outputs": [
        {
          "data": {
            "text/plain": [
              "<qiskit.circuit.instructionset.InstructionSet at 0x2235e505330>"
            ]
          },
          "execution_count": 35,
          "metadata": {},
          "output_type": "execute_result"
        }
      ],
      "source": [
        "qc.h(q[4])"
      ]
    },
    {
      "cell_type": "code",
      "execution_count": 36,
      "metadata": {
        "colab": {
          "base_uri": "https://localhost:8080/"
        },
        "id": "hGh25ML3RwrX",
        "outputId": "86bcbdd1-bd10-4dae-d691-937679f376b3"
      },
      "outputs": [
        {
          "data": {
            "text/plain": [
              "<qiskit.circuit.instructionset.InstructionSet at 0x2235e505390>"
            ]
          },
          "execution_count": 36,
          "metadata": {},
          "output_type": "execute_result"
        }
      ],
      "source": [
        "qc.h(q[7])"
      ]
    },
    {
      "cell_type": "code",
      "execution_count": 37,
      "metadata": {
        "colab": {
          "base_uri": "https://localhost:8080/"
        },
        "id": "wxPwKKWvRwrX",
        "outputId": "40ddf158-ce56-4271-e1ee-402b663019a1"
      },
      "outputs": [
        {
          "data": {
            "text/plain": [
              "<qiskit.circuit.instructionset.InstructionSet at 0x2235e505180>"
            ]
          },
          "execution_count": 37,
          "metadata": {},
          "output_type": "execute_result"
        }
      ],
      "source": [
        "qc.h(q[8])"
      ]
    },
    {
      "cell_type": "code",
      "execution_count": 38,
      "metadata": {
        "colab": {
          "base_uri": "https://localhost:8080/"
        },
        "id": "14eRNgVrRwrX",
        "outputId": "efcf51d9-970e-4884-fecc-26b1ce76e3f2"
      },
      "outputs": [
        {
          "data": {
            "text/plain": [
              "<qiskit.circuit.instructionset.InstructionSet at 0x2235e505450>"
            ]
          },
          "execution_count": 38,
          "metadata": {},
          "output_type": "execute_result"
        }
      ],
      "source": [
        "qc.h(q[11])"
      ]
    },
    {
      "cell_type": "markdown",
      "metadata": {
        "id": "xYIawVSTRwrZ"
      },
      "source": [
        "# Addition of another qubit to make 13 qubit entangled state"
      ]
    },
    {
      "cell_type": "code",
      "execution_count": 39,
      "metadata": {
        "colab": {
          "base_uri": "https://localhost:8080/"
        },
        "id": "mWfSVxkGRwrZ",
        "outputId": "5a9477dc-a6a5-4abd-8014-121971ce2487"
      },
      "outputs": [
        {
          "data": {
            "text/plain": [
              "<qiskit.circuit.instructionset.InstructionSet at 0x2235e504c40>"
            ]
          },
          "execution_count": 39,
          "metadata": {},
          "output_type": "execute_result"
        }
      ],
      "source": [
        "qc.cx(q[0], q[12])"
      ]
    },
    {
      "cell_type": "code",
      "execution_count": 40,
      "metadata": {
        "colab": {
          "base_uri": "https://localhost:8080/"
        },
        "id": "U0DPxl0MRwrZ",
        "outputId": "b98f9c60-2361-4e1e-a0ac-019b12c0188e"
      },
      "outputs": [
        {
          "data": {
            "text/plain": [
              "<qiskit.circuit.instructionset.InstructionSet at 0x2235e5055d0>"
            ]
          },
          "execution_count": 40,
          "metadata": {},
          "output_type": "execute_result"
        }
      ],
      "source": [
        "qc.cx(q[1], q[12])"
      ]
    },
    {
      "cell_type": "code",
      "execution_count": 41,
      "metadata": {
        "colab": {
          "base_uri": "https://localhost:8080/"
        },
        "id": "M7rAssVGRwrZ",
        "outputId": "833bf676-bcfa-4b48-ccd5-cb7fc7427637"
      },
      "outputs": [
        {
          "data": {
            "text/plain": [
              "<qiskit.circuit.instructionset.InstructionSet at 0x2235e504ca0>"
            ]
          },
          "execution_count": 41,
          "metadata": {},
          "output_type": "execute_result"
        }
      ],
      "source": [
        "qc.cx(q[2], q[12])"
      ]
    },
    {
      "cell_type": "code",
      "execution_count": 42,
      "metadata": {
        "colab": {
          "base_uri": "https://localhost:8080/"
        },
        "id": "7viWISJ-Rwra",
        "outputId": "42cd251d-c90a-4a8c-820c-08715fbc2cbb"
      },
      "outputs": [
        {
          "data": {
            "text/plain": [
              "<qiskit.circuit.instructionset.InstructionSet at 0x2235e505060>"
            ]
          },
          "execution_count": 42,
          "metadata": {},
          "output_type": "execute_result"
        }
      ],
      "source": [
        "qc.cx(q[3], q[12])"
      ]
    },
    {
      "cell_type": "code",
      "execution_count": 43,
      "metadata": {
        "colab": {
          "base_uri": "https://localhost:8080/"
        },
        "id": "_I2C-K9zRwra",
        "outputId": "d76298e2-6f2f-4bdf-d082-627648f713be"
      },
      "outputs": [
        {
          "data": {
            "text/plain": [
              "<qiskit.circuit.instructionset.InstructionSet at 0x2235e5052a0>"
            ]
          },
          "execution_count": 43,
          "metadata": {},
          "output_type": "execute_result"
        }
      ],
      "source": [
        "qc.cx(q[4], q[12])"
      ]
    },
    {
      "cell_type": "code",
      "execution_count": 44,
      "metadata": {
        "colab": {
          "base_uri": "https://localhost:8080/"
        },
        "id": "GtCaYVf0Rwra",
        "outputId": "78b6d681-eb16-436d-8af3-dab2f2e15130"
      },
      "outputs": [
        {
          "data": {
            "text/plain": [
              "<qiskit.circuit.instructionset.InstructionSet at 0x2235e5056c0>"
            ]
          },
          "execution_count": 44,
          "metadata": {},
          "output_type": "execute_result"
        }
      ],
      "source": [
        "qc.cx(q[5], q[12])"
      ]
    },
    {
      "cell_type": "code",
      "execution_count": 45,
      "metadata": {
        "colab": {
          "base_uri": "https://localhost:8080/"
        },
        "id": "YpiFGPiSRwra",
        "outputId": "9c9bba54-3516-43d4-9bcd-e61b43a8b8b7"
      },
      "outputs": [
        {
          "data": {
            "text/plain": [
              "<qiskit.circuit.instructionset.InstructionSet at 0x2235e5048b0>"
            ]
          },
          "execution_count": 45,
          "metadata": {},
          "output_type": "execute_result"
        }
      ],
      "source": [
        "qc.cx(q[6], q[12])"
      ]
    },
    {
      "cell_type": "code",
      "execution_count": 46,
      "metadata": {
        "colab": {
          "base_uri": "https://localhost:8080/"
        },
        "id": "8Ghxuc1zRwra",
        "outputId": "9cd77f5e-3a2f-4049-ca1b-411acd0d291a"
      },
      "outputs": [
        {
          "data": {
            "text/plain": [
              "<qiskit.circuit.instructionset.InstructionSet at 0x2235e505120>"
            ]
          },
          "execution_count": 46,
          "metadata": {},
          "output_type": "execute_result"
        }
      ],
      "source": [
        "qc.cx(q[7], q[12])"
      ]
    },
    {
      "cell_type": "code",
      "execution_count": 47,
      "metadata": {
        "colab": {
          "base_uri": "https://localhost:8080/"
        },
        "id": "3Q3uHnH3Rwra",
        "outputId": "8dc5fc53-8d96-4deb-d7bd-6b6fc18d752f"
      },
      "outputs": [
        {
          "data": {
            "text/plain": [
              "<qiskit.circuit.instructionset.InstructionSet at 0x2235e505540>"
            ]
          },
          "execution_count": 47,
          "metadata": {},
          "output_type": "execute_result"
        }
      ],
      "source": [
        "qc.cx(q[8], q[12])"
      ]
    },
    {
      "cell_type": "code",
      "execution_count": 48,
      "metadata": {
        "colab": {
          "base_uri": "https://localhost:8080/"
        },
        "id": "qIIYGKpmRwra",
        "outputId": "8ef55aed-cc00-47c5-c4a9-c9f8564ae671"
      },
      "outputs": [
        {
          "data": {
            "text/plain": [
              "<qiskit.circuit.instructionset.InstructionSet at 0x2235e505510>"
            ]
          },
          "execution_count": 48,
          "metadata": {},
          "output_type": "execute_result"
        }
      ],
      "source": [
        "qc.cx(q[9], q[12])"
      ]
    },
    {
      "cell_type": "code",
      "execution_count": 49,
      "metadata": {
        "colab": {
          "base_uri": "https://localhost:8080/"
        },
        "id": "dev8Ah4ERwrb",
        "outputId": "d211b6bc-647b-42be-f909-ccbfef7b5069"
      },
      "outputs": [
        {
          "data": {
            "text/plain": [
              "<qiskit.circuit.instructionset.InstructionSet at 0x2235e5057b0>"
            ]
          },
          "execution_count": 49,
          "metadata": {},
          "output_type": "execute_result"
        }
      ],
      "source": [
        "qc.cx(q[10], q[12])"
      ]
    },
    {
      "cell_type": "code",
      "execution_count": 50,
      "metadata": {
        "colab": {
          "base_uri": "https://localhost:8080/"
        },
        "id": "djZXUOgmRwrb",
        "outputId": "2c724b21-46a8-48d5-fbf7-3f89390b9fa5"
      },
      "outputs": [
        {
          "data": {
            "text/plain": [
              "<qiskit.circuit.instructionset.InstructionSet at 0x2235e5054b0>"
            ]
          },
          "execution_count": 50,
          "metadata": {},
          "output_type": "execute_result"
        }
      ],
      "source": [
        "qc.cx(q[11], q[12])"
      ]
    },
    {
      "cell_type": "markdown",
      "metadata": {
        "id": "vGtGQ5GcRwrb"
      },
      "source": [
        "# Introduction of Error"
      ]
    },
    {
      "cell_type": "markdown",
      "metadata": {
        "id": "6Fba60NrRwrb"
      },
      "source": [
        "# Addition of first ancillary error syndrome qubit"
      ]
    },
    {
      "cell_type": "code",
      "execution_count": null,
      "metadata": {
        "id": "5JkTH9c-Rwrb"
      },
      "outputs": [],
      "source": []
    },
    {
      "cell_type": "code",
      "execution_count": 51,
      "metadata": {
        "colab": {
          "base_uri": "https://localhost:8080/"
        },
        "id": "XcP2_yO7Rwrb",
        "outputId": "a9559fe3-f569-422c-a44e-39faf818009d"
      },
      "outputs": [
        {
          "data": {
            "text/plain": [
              "<qiskit.circuit.instructionset.InstructionSet at 0x2235e505870>"
            ]
          },
          "execution_count": 51,
          "metadata": {},
          "output_type": "execute_result"
        }
      ],
      "source": [
        "qc.cx(q[0], q[13])"
      ]
    },
    {
      "cell_type": "code",
      "execution_count": 52,
      "metadata": {
        "colab": {
          "base_uri": "https://localhost:8080/"
        },
        "id": "7QvC3b2IRwrb",
        "outputId": "cae461a6-0c09-4b4a-a047-8778dfed6965"
      },
      "outputs": [
        {
          "data": {
            "text/plain": [
              "<qiskit.circuit.instructionset.InstructionSet at 0x2235e505810>"
            ]
          },
          "execution_count": 52,
          "metadata": {},
          "output_type": "execute_result"
        }
      ],
      "source": [
        "qc.cx(q[1], q[13])"
      ]
    },
    {
      "cell_type": "code",
      "execution_count": 53,
      "metadata": {
        "colab": {
          "base_uri": "https://localhost:8080/"
        },
        "id": "KjUBQhF6Rwrb",
        "outputId": "dfff1c06-54f1-4c3b-da10-a8cc8ea7626f"
      },
      "outputs": [
        {
          "data": {
            "text/plain": [
              "<qiskit.circuit.instructionset.InstructionSet at 0x2235e505840>"
            ]
          },
          "execution_count": 53,
          "metadata": {},
          "output_type": "execute_result"
        }
      ],
      "source": [
        "qc.cx(q[2], q[13])"
      ]
    },
    {
      "cell_type": "code",
      "execution_count": 54,
      "metadata": {
        "colab": {
          "base_uri": "https://localhost:8080/"
        },
        "id": "TY4VbX7bRwrc",
        "outputId": "c04f2147-cfcf-43e2-9197-bf54b0551d45"
      },
      "outputs": [
        {
          "data": {
            "text/plain": [
              "<qiskit.circuit.instructionset.InstructionSet at 0x2235e505570>"
            ]
          },
          "execution_count": 54,
          "metadata": {},
          "output_type": "execute_result"
        }
      ],
      "source": [
        "qc.cx(q[3], q[13])"
      ]
    },
    {
      "cell_type": "code",
      "execution_count": 55,
      "metadata": {
        "colab": {
          "base_uri": "https://localhost:8080/"
        },
        "id": "YiX0A6_KRwrc",
        "outputId": "ba4128e0-307d-4293-84fe-902f5c82d779"
      },
      "outputs": [
        {
          "data": {
            "text/plain": [
              "<qiskit.circuit.instructionset.InstructionSet at 0x2235e505750>"
            ]
          },
          "execution_count": 55,
          "metadata": {},
          "output_type": "execute_result"
        }
      ],
      "source": [
        "qc.cx(q[4], q[13])"
      ]
    },
    {
      "cell_type": "code",
      "execution_count": 56,
      "metadata": {
        "colab": {
          "base_uri": "https://localhost:8080/"
        },
        "id": "Ku3-eYylRwrc",
        "outputId": "a8206c86-3a15-4d5c-9b05-bc214b81de6c"
      },
      "outputs": [
        {
          "data": {
            "text/plain": [
              "<qiskit.circuit.instructionset.InstructionSet at 0x2235e505210>"
            ]
          },
          "execution_count": 56,
          "metadata": {},
          "output_type": "execute_result"
        }
      ],
      "source": [
        "qc.cx(q[5], q[13])"
      ]
    },
    {
      "cell_type": "code",
      "execution_count": 57,
      "metadata": {
        "colab": {
          "base_uri": "https://localhost:8080/"
        },
        "id": "_waTauGhRwrc",
        "outputId": "4fc69914-644c-4a4b-8914-350deb10a3b2"
      },
      "outputs": [
        {
          "data": {
            "text/plain": [
              "<qiskit.circuit.instructionset.InstructionSet at 0x2235e504dc0>"
            ]
          },
          "execution_count": 57,
          "metadata": {},
          "output_type": "execute_result"
        }
      ],
      "source": [
        "qc.cx(q[6], q[13])"
      ]
    },
    {
      "cell_type": "code",
      "execution_count": 58,
      "metadata": {
        "colab": {
          "base_uri": "https://localhost:8080/"
        },
        "id": "iSwAjxCkRwrc",
        "outputId": "f07c9551-25a2-45f6-b5b5-7836af5dc03b"
      },
      "outputs": [
        {
          "data": {
            "text/plain": [
              "<qiskit.circuit.instructionset.InstructionSet at 0x2235e5056f0>"
            ]
          },
          "execution_count": 58,
          "metadata": {},
          "output_type": "execute_result"
        }
      ],
      "source": [
        "qc.cx(q[7], q[13])"
      ]
    },
    {
      "cell_type": "code",
      "execution_count": 59,
      "metadata": {
        "colab": {
          "base_uri": "https://localhost:8080/"
        },
        "id": "W-ZAxKdHRwrd",
        "outputId": "d2ac6258-2972-4003-d025-b0da6959a83a"
      },
      "outputs": [
        {
          "data": {
            "text/plain": [
              "<qiskit.circuit.instructionset.InstructionSet at 0x2235e504640>"
            ]
          },
          "execution_count": 59,
          "metadata": {},
          "output_type": "execute_result"
        }
      ],
      "source": [
        "qc.cx(q[8], q[13])"
      ]
    },
    {
      "cell_type": "code",
      "execution_count": 60,
      "metadata": {
        "colab": {
          "base_uri": "https://localhost:8080/"
        },
        "id": "cAq_BmkWRwrd",
        "outputId": "ed8bfc19-c831-487e-e943-68dc7158d51f"
      },
      "outputs": [
        {
          "data": {
            "text/plain": [
              "<qiskit.circuit.instructionset.InstructionSet at 0x2235e5051b0>"
            ]
          },
          "execution_count": 60,
          "metadata": {},
          "output_type": "execute_result"
        }
      ],
      "source": [
        "qc.cx(q[9], q[13])"
      ]
    },
    {
      "cell_type": "code",
      "execution_count": 61,
      "metadata": {
        "colab": {
          "base_uri": "https://localhost:8080/"
        },
        "id": "LE_CmYQeRwrd",
        "outputId": "96d7952b-ae2c-48f2-8450-50bc8ea57d7e"
      },
      "outputs": [
        {
          "data": {
            "text/plain": [
              "<qiskit.circuit.instructionset.InstructionSet at 0x2235e505420>"
            ]
          },
          "execution_count": 61,
          "metadata": {},
          "output_type": "execute_result"
        }
      ],
      "source": [
        "qc.cx(q[10], q[13])"
      ]
    },
    {
      "cell_type": "code",
      "execution_count": 62,
      "metadata": {
        "colab": {
          "base_uri": "https://localhost:8080/"
        },
        "id": "_C4rBYx0Rwrd",
        "outputId": "a991c881-e725-43c5-a172-33d4e3b93858"
      },
      "outputs": [
        {
          "data": {
            "text/plain": [
              "<qiskit.circuit.instructionset.InstructionSet at 0x2235e505660>"
            ]
          },
          "execution_count": 62,
          "metadata": {},
          "output_type": "execute_result"
        }
      ],
      "source": [
        "qc.cx(q[11], q[13])"
      ]
    },
    {
      "cell_type": "code",
      "execution_count": 63,
      "metadata": {
        "colab": {
          "base_uri": "https://localhost:8080/"
        },
        "id": "VabEBgN0Rwrd",
        "outputId": "4d9516ba-f6e9-4ebc-ed2e-00d7dcfb8735"
      },
      "outputs": [
        {
          "data": {
            "text/plain": [
              "<qiskit.circuit.instructionset.InstructionSet at 0x2235e505900>"
            ]
          },
          "execution_count": 63,
          "metadata": {},
          "output_type": "execute_result"
        }
      ],
      "source": [
        "qc.cx(q[12], q[13])"
      ]
    },
    {
      "cell_type": "code",
      "execution_count": null,
      "metadata": {
        "id": "xHAJ8M_-Rwrd"
      },
      "outputs": [],
      "source": []
    },
    {
      "cell_type": "markdown",
      "metadata": {
        "id": "9XI9qCzJRwrd"
      },
      "source": [
        "# Addition of second ancillary error syndrome qubit"
      ]
    },
    {
      "cell_type": "code",
      "execution_count": 64,
      "metadata": {
        "colab": {
          "base_uri": "https://localhost:8080/"
        },
        "id": "I53cxYqyRwre",
        "outputId": "e67f36a1-69a8-4683-af61-d7f87c434f19"
      },
      "outputs": [
        {
          "data": {
            "text/plain": [
              "<qiskit.circuit.instructionset.InstructionSet at 0x2235e505600>"
            ]
          },
          "execution_count": 64,
          "metadata": {},
          "output_type": "execute_result"
        }
      ],
      "source": [
        "qc.h(q[14])"
      ]
    },
    {
      "cell_type": "code",
      "execution_count": null,
      "metadata": {
        "id": "CB1XarQXRwre"
      },
      "outputs": [],
      "source": []
    },
    {
      "cell_type": "code",
      "execution_count": 65,
      "metadata": {
        "colab": {
          "base_uri": "https://localhost:8080/"
        },
        "id": "CeYNzaNURwre",
        "outputId": "25d808f9-8273-4c15-cdee-c1db45c88feb"
      },
      "outputs": [
        {
          "data": {
            "text/plain": [
              "<qiskit.circuit.instructionset.InstructionSet at 0x2235e5057e0>"
            ]
          },
          "execution_count": 65,
          "metadata": {},
          "output_type": "execute_result"
        }
      ],
      "source": [
        "qc.cx(q[14], q[0])"
      ]
    },
    {
      "cell_type": "code",
      "execution_count": 66,
      "metadata": {
        "colab": {
          "base_uri": "https://localhost:8080/"
        },
        "id": "J-Nnm3aGRwre",
        "outputId": "24b02701-687d-4e6d-fcb3-88e72bf845c6"
      },
      "outputs": [
        {
          "data": {
            "text/plain": [
              "<qiskit.circuit.instructionset.InstructionSet at 0x2235e505030>"
            ]
          },
          "execution_count": 66,
          "metadata": {},
          "output_type": "execute_result"
        }
      ],
      "source": [
        "qc.cx(q[14], q[1])"
      ]
    },
    {
      "cell_type": "code",
      "execution_count": 67,
      "metadata": {
        "colab": {
          "base_uri": "https://localhost:8080/"
        },
        "id": "xqy03KIVRwre",
        "outputId": "70d7a78d-7571-4cd4-a36d-8f08ddf0d3eb"
      },
      "outputs": [
        {
          "data": {
            "text/plain": [
              "<qiskit.circuit.instructionset.InstructionSet at 0x2235e505270>"
            ]
          },
          "execution_count": 67,
          "metadata": {},
          "output_type": "execute_result"
        }
      ],
      "source": [
        "qc.cx(q[14], q[2])"
      ]
    },
    {
      "cell_type": "code",
      "execution_count": 68,
      "metadata": {
        "colab": {
          "base_uri": "https://localhost:8080/"
        },
        "id": "zKqG4hHjRwre",
        "outputId": "ad8a8cbd-1ca1-41c0-cdcf-7ee9990ecb7e"
      },
      "outputs": [
        {
          "data": {
            "text/plain": [
              "<qiskit.circuit.instructionset.InstructionSet at 0x2235e505a20>"
            ]
          },
          "execution_count": 68,
          "metadata": {},
          "output_type": "execute_result"
        }
      ],
      "source": [
        "qc.cx(q[14], q[3])"
      ]
    },
    {
      "cell_type": "code",
      "execution_count": 69,
      "metadata": {
        "colab": {
          "base_uri": "https://localhost:8080/"
        },
        "id": "iytsP1iIRwrf",
        "outputId": "2572444c-4881-4505-ad22-e2255f2cc7d1"
      },
      "outputs": [
        {
          "data": {
            "text/plain": [
              "<qiskit.circuit.instructionset.InstructionSet at 0x2235e505b40>"
            ]
          },
          "execution_count": 69,
          "metadata": {},
          "output_type": "execute_result"
        }
      ],
      "source": [
        "qc.cx(q[14], q[4])"
      ]
    },
    {
      "cell_type": "code",
      "execution_count": 70,
      "metadata": {
        "colab": {
          "base_uri": "https://localhost:8080/"
        },
        "id": "QHu0xmEiRwrf",
        "outputId": "4ab1fd3e-3739-4d17-c8fd-86c03227f8cb"
      },
      "outputs": [
        {
          "data": {
            "text/plain": [
              "<qiskit.circuit.instructionset.InstructionSet at 0x2235e505720>"
            ]
          },
          "execution_count": 70,
          "metadata": {},
          "output_type": "execute_result"
        }
      ],
      "source": [
        "qc.cx(q[14], q[5])"
      ]
    },
    {
      "cell_type": "code",
      "execution_count": 71,
      "metadata": {
        "colab": {
          "base_uri": "https://localhost:8080/"
        },
        "id": "OYcBtpFaRwrf",
        "outputId": "7ab39efc-c0c6-4670-8bff-e91cdaf0a500"
      },
      "outputs": [
        {
          "data": {
            "text/plain": [
              "<qiskit.circuit.instructionset.InstructionSet at 0x2235e505960>"
            ]
          },
          "execution_count": 71,
          "metadata": {},
          "output_type": "execute_result"
        }
      ],
      "source": [
        "qc.cx(q[14], q[6])"
      ]
    },
    {
      "cell_type": "code",
      "execution_count": 72,
      "metadata": {
        "colab": {
          "base_uri": "https://localhost:8080/"
        },
        "id": "jR2y7CCtRwrf",
        "outputId": "3b67a9ce-b020-4f12-9b51-54679f095d28"
      },
      "outputs": [
        {
          "data": {
            "text/plain": [
              "<qiskit.circuit.instructionset.InstructionSet at 0x2235e505300>"
            ]
          },
          "execution_count": 72,
          "metadata": {},
          "output_type": "execute_result"
        }
      ],
      "source": [
        "qc.cx(q[14], q[7])"
      ]
    },
    {
      "cell_type": "code",
      "execution_count": 73,
      "metadata": {
        "colab": {
          "base_uri": "https://localhost:8080/"
        },
        "id": "gRVreuHyRwrf",
        "outputId": "5efe62c2-f54f-4343-df19-9436b82d9e0b"
      },
      "outputs": [
        {
          "data": {
            "text/plain": [
              "<qiskit.circuit.instructionset.InstructionSet at 0x2235e505ae0>"
            ]
          },
          "execution_count": 73,
          "metadata": {},
          "output_type": "execute_result"
        }
      ],
      "source": [
        "qc.cx(q[14], q[8])"
      ]
    },
    {
      "cell_type": "code",
      "execution_count": 74,
      "metadata": {
        "colab": {
          "base_uri": "https://localhost:8080/"
        },
        "id": "L3k2YYW-Rwrg",
        "outputId": "4141e879-d0e4-4026-9088-38f151cdb750"
      },
      "outputs": [
        {
          "data": {
            "text/plain": [
              "<qiskit.circuit.instructionset.InstructionSet at 0x2235e505a50>"
            ]
          },
          "execution_count": 74,
          "metadata": {},
          "output_type": "execute_result"
        }
      ],
      "source": [
        "qc.cx(q[14], q[9])"
      ]
    },
    {
      "cell_type": "code",
      "execution_count": 75,
      "metadata": {
        "colab": {
          "base_uri": "https://localhost:8080/"
        },
        "id": "Z3wfXep4Rwrg",
        "outputId": "f67b1052-fd4d-48e8-d425-01700b5d4c83"
      },
      "outputs": [
        {
          "data": {
            "text/plain": [
              "<qiskit.circuit.instructionset.InstructionSet at 0x2235e5059f0>"
            ]
          },
          "execution_count": 75,
          "metadata": {},
          "output_type": "execute_result"
        }
      ],
      "source": [
        "qc.cx(q[14], q[10])"
      ]
    },
    {
      "cell_type": "code",
      "execution_count": 76,
      "metadata": {
        "colab": {
          "base_uri": "https://localhost:8080/"
        },
        "id": "HR7NVUV8Rwrg",
        "outputId": "e0c3f0e7-d0ae-43e6-f7b5-1541bae1660e"
      },
      "outputs": [
        {
          "data": {
            "text/plain": [
              "<qiskit.circuit.instructionset.InstructionSet at 0x2235e5055a0>"
            ]
          },
          "execution_count": 76,
          "metadata": {},
          "output_type": "execute_result"
        }
      ],
      "source": [
        "qc.cx(q[14], q[11])"
      ]
    },
    {
      "cell_type": "code",
      "execution_count": null,
      "metadata": {
        "id": "ybVxbeJRRwrg"
      },
      "outputs": [],
      "source": []
    },
    {
      "cell_type": "code",
      "execution_count": 77,
      "metadata": {
        "colab": {
          "base_uri": "https://localhost:8080/"
        },
        "id": "mNgRAaH5Rwrg",
        "outputId": "794aac79-83fa-4280-ec54-c6b9216bd52e"
      },
      "outputs": [
        {
          "data": {
            "text/plain": [
              "<qiskit.circuit.instructionset.InstructionSet at 0x2235e505bd0>"
            ]
          },
          "execution_count": 77,
          "metadata": {},
          "output_type": "execute_result"
        }
      ],
      "source": [
        "qc.h(q[14])"
      ]
    },
    {
      "cell_type": "code",
      "execution_count": null,
      "metadata": {
        "id": "5GWPa-kfRwrg"
      },
      "outputs": [],
      "source": []
    },
    {
      "cell_type": "code",
      "execution_count": 78,
      "metadata": {
        "colab": {
          "base_uri": "https://localhost:8080/"
        },
        "id": "IHV7se0FRwrg",
        "outputId": "758bdaa9-e802-4152-f242-474bcf5a5f91"
      },
      "outputs": [
        {
          "data": {
            "text/plain": [
              "<qiskit.circuit.instructionset.InstructionSet at 0x2235e505d80>"
            ]
          },
          "execution_count": 78,
          "metadata": {},
          "output_type": "execute_result"
        }
      ],
      "source": [
        "qc.measure(q[13], c[13])"
      ]
    },
    {
      "cell_type": "code",
      "execution_count": 79,
      "metadata": {
        "colab": {
          "base_uri": "https://localhost:8080/"
        },
        "id": "6X9Gefl7Rwrg",
        "outputId": "63429c2f-bf44-4360-c3f8-48f8e63d539e"
      },
      "outputs": [
        {
          "data": {
            "text/plain": [
              "<qiskit.circuit.instructionset.InstructionSet at 0x2235e5052d0>"
            ]
          },
          "execution_count": 79,
          "metadata": {},
          "output_type": "execute_result"
        }
      ],
      "source": [
        "qc.measure(q[14], c[14])"
      ]
    },
    {
      "cell_type": "markdown",
      "metadata": {
        "id": "XfWZuFRYRwrh"
      },
      "source": [
        "# See a list of available local simulators"
      ]
    },
    {
      "cell_type": "code",
      "execution_count": null,
      "metadata": {
        "id": "J8LUG4UGRwrh"
      },
      "outputs": [],
      "source": []
    },
    {
      "cell_type": "code",
      "execution_count": 80,
      "metadata": {
        "colab": {
          "base_uri": "https://localhost:8080/"
        },
        "id": "PSk2S4BoRwrh",
        "outputId": "ce0d60cf-97a2-461a-d4f1-1bce2456417e"
      },
      "outputs": [
        {
          "name": "stdout",
          "output_type": "stream",
          "text": [
            "Local backends:  ('numpy',)\n"
          ]
        }
      ],
      "source": [
        "print(\"Local backends: \", Array.available_backends())"
      ]
    },
    {
      "cell_type": "markdown",
      "metadata": {
        "id": "25OqMoEYRwrh"
      },
      "source": [
        "# Compile and run the Quantum circuit on a simulator backend"
      ]
    },
    {
      "cell_type": "code",
      "execution_count": 81,
      "metadata": {
        "colab": {
          "base_uri": "https://localhost:8080/",
          "height": 1000
        },
        "id": "4jkWeVi2W0MJ",
        "outputId": "4fd1f31f-a347-4618-c797-dce1ad77d4dc"
      },
      "outputs": [
        {
          "data": {
            "text/html": [
              "<pre style=\"word-wrap: normal;white-space: pre;background: #fff0;line-height: 1.1;font-family: &quot;Courier New&quot;,Courier,monospace\">          ┌───┐                                                  ┌───┐     »\n",
              " q0_0: |0>┤ H ├───────■────■─────────■──────────────■────────────┤ X ├─────»\n",
              "          └───┘┌───┐  │  ┌─┴─┐┌───┐  │              │            └─┬─┘     »\n",
              " q0_1: |0>─────┤ X ├──┼──┤ X ├┤ H ├──┼─────────■────┼─────────■────┼───────»\n",
              "          ┌───┐└─┬─┘  │  ├───┤├───┤  │  ┌───┐  │    │         │    │       »\n",
              " q0_2: |0>┤ H ├──■────┼──┤ H ├┤ X ├──┼──┤ H ├──┼────┼────■────┼────┼───────»\n",
              "          ├───┤       │  └───┘└─┬─┘  │  └───┘  │    │    │    │    │       »\n",
              " q0_3: |0>┤ H ├──■────┼─────────■────┼─────────┼────┼────┼────┼────┼────■──»\n",
              "          └───┘┌─┴─┐  │       ┌───┐  │  ┌───┐  │    │    │    │    │    │  »\n",
              " q0_4: |0>─────┤ X ├──┼───────┤ X ├──┼──┤ H ├──┼────┼────┼────┼────┼────┼──»\n",
              "               ├───┤  │  ┌───┐└─┬─┘  │  └───┘  │    │    │    │    │    │  »\n",
              " q0_5: |0>─────┤ X ├──┼──┤ H ├──■────┼─────────┼────┼────┼────┼────┼────┼──»\n",
              "          ┌───┐└─┬─┘  │  └───┘       │         │    │    │    │    │    │  »\n",
              " q0_6: |0>┤ H ├──■────┼────■─────────┼─────────┼────┼────┼────┼────┼────┼──»\n",
              "          └───┘┌───┐  │  ┌─┴─┐┌───┐  │         │    │    │    │    │    │  »\n",
              " q0_7: |0>─────┤ X ├──┼──┤ X ├┤ H ├──┼─────────┼────┼────┼────┼────┼────┼──»\n",
              "          ┌───┐└─┬─┘  │  ├───┤├───┤  │  ┌───┐  │    │    │    │    │    │  »\n",
              " q0_8: |0>┤ H ├──■────┼──┤ H ├┤ X ├──┼──┤ H ├──┼────┼────┼────┼────┼────┼──»\n",
              "          ├───┤       │  └───┘└─┬─┘  │  └───┘  │    │    │    │    │    │  »\n",
              " q0_9: |0>┤ H ├──■────┼─────────■────┼─────────┼────┼────┼────┼────┼────┼──»\n",
              "          └───┘┌─┴─┐  │  ┌───┐       │         │    │    │    │    │    │  »\n",
              "q0_10: |0>─────┤ X ├──┼──┤ H ├──■────┼─────────┼────┼────┼────┼────┼────┼──»\n",
              "               └───┘┌─┴─┐└───┘┌─┴─┐  │  ┌───┐  │    │    │    │    │    │  »\n",
              "q0_11: |0>──────────┤ X ├─────┤ X ├──┼──┤ H ├──┼────┼────┼────┼────┼────┼──»\n",
              "                    └───┘     └───┘┌─┴─┐└───┘┌─┴─┐  │  ┌─┴─┐  │    │  ┌─┴─┐»\n",
              "q0_12: |0>─────────────────────────┤ X ├─────┤ X ├──┼──┤ X ├──┼────┼──┤ X ├»\n",
              "                                   └───┘     └───┘┌─┴─┐└───┘┌─┴─┐  │  └───┘»\n",
              "q0_13: |0>────────────────────────────────────────┤ X ├─────┤ X ├──┼───────»\n",
              "          ┌───┐                                   └───┘     └───┘  │       »\n",
              "q0_14: |0>┤ H ├────────────────────────────────────────────────────■───────»\n",
              "          └───┘                                                            »\n",
              " c0: 0 15/═════════════════════════════════════════════════════════════════»\n",
              "                                                                           »\n",
              "«                                                                             »\n",
              "« q0_0: ──────────────────────────────────────────────────────────────────────»\n",
              "«            ┌───┐                                                            »\n",
              "« q0_1: ─────┤ X ├────────────────────────────────────────────────────────────»\n",
              "«            └─┬─┘          ┌───┐                                             »\n",
              "« q0_2: ──■────┼────────────┤ X ├─────────────────────────────────────────────»\n",
              "«         │    │            └─┬─┘          ┌───┐                              »\n",
              "« q0_3: ──┼────┼─────────■────┼────────────┤ X ├──────────────────────────────»\n",
              "«         │    │         │    │            └─┬─┘          ┌───┐               »\n",
              "« q0_4: ──┼────┼────■────┼────┼─────────■────┼────────────┤ X ├───────────────»\n",
              "«         │    │    │    │    │         │    │            └─┬─┘          ┌───┐»\n",
              "« q0_5: ──┼────┼────┼────┼────┼────■────┼────┼─────────■────┼────────────┤ X ├»\n",
              "«         │    │    │    │    │    │    │    │         │    │            └─┬─┘»\n",
              "« q0_6: ──┼────┼────┼────┼────┼────┼────┼────┼────■────┼────┼─────────■────┼──»\n",
              "«         │    │    │    │    │    │    │    │    │    │    │         │    │  »\n",
              "« q0_7: ──┼────┼────┼────┼────┼────┼────┼────┼────┼────┼────┼────■────┼────┼──»\n",
              "«         │    │    │    │    │    │    │    │    │    │    │    │    │    │  »\n",
              "« q0_8: ──┼────┼────┼────┼────┼────┼────┼────┼────┼────┼────┼────┼────┼────┼──»\n",
              "«         │    │    │    │    │    │    │    │    │    │    │    │    │    │  »\n",
              "« q0_9: ──┼────┼────┼────┼────┼────┼────┼────┼────┼────┼────┼────┼────┼────┼──»\n",
              "«         │    │    │    │    │    │    │    │    │    │    │    │    │    │  »\n",
              "«q0_10: ──┼────┼────┼────┼────┼────┼────┼────┼────┼────┼────┼────┼────┼────┼──»\n",
              "«         │    │    │    │    │    │    │    │    │    │    │    │    │    │  »\n",
              "«q0_11: ──┼────┼────┼────┼────┼────┼────┼────┼────┼────┼────┼────┼────┼────┼──»\n",
              "«         │    │  ┌─┴─┐  │    │  ┌─┴─┐  │    │  ┌─┴─┐  │    │  ┌─┴─┐  │    │  »\n",
              "«q0_12: ──┼────┼──┤ X ├──┼────┼──┤ X ├──┼────┼──┤ X ├──┼────┼──┤ X ├──┼────┼──»\n",
              "«       ┌─┴─┐  │  └───┘┌─┴─┐  │  └───┘┌─┴─┐  │  └───┘┌─┴─┐  │  └───┘┌─┴─┐  │  »\n",
              "«q0_13: ┤ X ├──┼───────┤ X ├──┼───────┤ X ├──┼───────┤ X ├──┼───────┤ X ├──┼──»\n",
              "«       └───┘  │       └───┘  │       └───┘  │       └───┘  │       └───┘  │  »\n",
              "«q0_14: ───────■──────────────■──────────────■──────────────■──────────────■──»\n",
              "«                                                                             »\n",
              "«c0: 15/══════════════════════════════════════════════════════════════════════»\n",
              "«                                                                             »\n",
              "«                                                                             »\n",
              "« q0_0: ──────────────────────────────────────────────────────────────────────»\n",
              "«                                                                             »\n",
              "« q0_1: ──────────────────────────────────────────────────────────────────────»\n",
              "«                                                                             »\n",
              "« q0_2: ──────────────────────────────────────────────────────────────────────»\n",
              "«                                                                             »\n",
              "« q0_3: ──────────────────────────────────────────────────────────────────────»\n",
              "«                                                                             »\n",
              "« q0_4: ──────────────────────────────────────────────────────────────────────»\n",
              "«                                                                             »\n",
              "« q0_5: ──────────────────────────────────────────────────────────────────────»\n",
              "«                 ┌───┐                                                       »\n",
              "« q0_6: ──────────┤ X ├───────────────────────────────────────────────────────»\n",
              "«                 └─┬─┘          ┌───┐                                        »\n",
              "« q0_7: ───────■────┼────────────┤ X ├────────────────────────────────────────»\n",
              "«              │    │            └─┬─┘          ┌───┐                         »\n",
              "« q0_8: ──■────┼────┼─────────■────┼────────────┤ X ├─────────────────────────»\n",
              "«         │    │    │         │    │            └─┬─┘          ┌───┐          »\n",
              "« q0_9: ──┼────┼────┼────■────┼────┼─────────■────┼────────────┤ X ├──────────»\n",
              "«         │    │    │    │    │    │         │    │            └─┬─┘     ┌───┐»\n",
              "«q0_10: ──┼────┼────┼────┼────┼────┼────■────┼────┼─────────■────┼───────┤ X ├»\n",
              "«         │    │    │    │    │    │    │    │    │         │    │       └─┬─┘»\n",
              "«q0_11: ──┼────┼────┼────┼────┼────┼────┼────┼────┼────■────┼────┼────■────┼──»\n",
              "«       ┌─┴─┐  │    │  ┌─┴─┐  │    │  ┌─┴─┐  │    │  ┌─┴─┐  │    │    │    │  »\n",
              "«q0_12: ┤ X ├──┼────┼──┤ X ├──┼────┼──┤ X ├──┼────┼──┤ X ├──┼────┼────┼────┼──»\n",
              "«       └───┘┌─┴─┐  │  └───┘┌─┴─┐  │  └───┘┌─┴─┐  │  └───┘┌─┴─┐  │  ┌─┴─┐  │  »\n",
              "«q0_13: ─────┤ X ├──┼───────┤ X ├──┼───────┤ X ├──┼───────┤ X ├──┼──┤ X ├──┼──»\n",
              "«            └───┘  │       └───┘  │       └───┘  │       └───┘  │  └───┘  │  »\n",
              "«q0_14: ────────────■──────────────■──────────────■──────────────■─────────■──»\n",
              "«                                                                             »\n",
              "«c0: 15/══════════════════════════════════════════════════════════════════════»\n",
              "«                                                                             »\n",
              "«                            \n",
              "« q0_0: ─────────────────────\n",
              "«                            \n",
              "« q0_1: ─────────────────────\n",
              "«                            \n",
              "« q0_2: ─────────────────────\n",
              "«                            \n",
              "« q0_3: ─────────────────────\n",
              "«                            \n",
              "« q0_4: ─────────────────────\n",
              "«                            \n",
              "« q0_5: ─────────────────────\n",
              "«                            \n",
              "« q0_6: ─────────────────────\n",
              "«                            \n",
              "« q0_7: ─────────────────────\n",
              "«                            \n",
              "« q0_8: ─────────────────────\n",
              "«                            \n",
              "« q0_9: ─────────────────────\n",
              "«                            \n",
              "«q0_10: ─────────────────────\n",
              "«            ┌───┐           \n",
              "«q0_11: ─────┤ X ├───────────\n",
              "«            └─┬─┘           \n",
              "«q0_12: ──■────┼─────────────\n",
              "«       ┌─┴─┐  │       ┌─┐   \n",
              "«q0_13: ┤ X ├──┼───────┤M├───\n",
              "«       └───┘  │  ┌───┐└╥┘┌─┐\n",
              "«q0_14: ───────■──┤ H ├─╫─┤M├\n",
              "«                 └───┘ ║ └╥┘\n",
              "«c0: 15/════════════════╩══╩═\n",
              "«                       13 14</pre>"
            ],
            "text/plain": [
              "          ┌───┐                                                  ┌───┐     »\n",
              " q0_0: |0>┤ H ├───────■────■─────────■──────────────■────────────┤ X ├─────»\n",
              "          └───┘┌───┐  │  ┌─┴─┐┌───┐  │              │            └─┬─┘     »\n",
              " q0_1: |0>─────┤ X ├──┼──┤ X ├┤ H ├──┼─────────■────┼─────────■────┼───────»\n",
              "          ┌───┐└─┬─┘  │  ├───┤├───┤  │  ┌───┐  │    │         │    │       »\n",
              " q0_2: |0>┤ H ├──■────┼──┤ H ├┤ X ├──┼──┤ H ├──┼────┼────■────┼────┼───────»\n",
              "          ├───┤       │  └───┘└─┬─┘  │  └───┘  │    │    │    │    │       »\n",
              " q0_3: |0>┤ H ├──■────┼─────────■────┼─────────┼────┼────┼────┼────┼────■──»\n",
              "          └───┘┌─┴─┐  │       ┌───┐  │  ┌───┐  │    │    │    │    │    │  »\n",
              " q0_4: |0>─────┤ X ├──┼───────┤ X ├──┼──┤ H ├──┼────┼────┼────┼────┼────┼──»\n",
              "               ├───┤  │  ┌───┐└─┬─┘  │  └───┘  │    │    │    │    │    │  »\n",
              " q0_5: |0>─────┤ X ├──┼──┤ H ├──■────┼─────────┼────┼────┼────┼────┼────┼──»\n",
              "          ┌───┐└─┬─┘  │  └───┘       │         │    │    │    │    │    │  »\n",
              " q0_6: |0>┤ H ├──■────┼────■─────────┼─────────┼────┼────┼────┼────┼────┼──»\n",
              "          └───┘┌───┐  │  ┌─┴─┐┌───┐  │         │    │    │    │    │    │  »\n",
              " q0_7: |0>─────┤ X ├──┼──┤ X ├┤ H ├──┼─────────┼────┼────┼────┼────┼────┼──»\n",
              "          ┌───┐└─┬─┘  │  ├───┤├───┤  │  ┌───┐  │    │    │    │    │    │  »\n",
              " q0_8: |0>┤ H ├──■────┼──┤ H ├┤ X ├──┼──┤ H ├──┼────┼────┼────┼────┼────┼──»\n",
              "          ├───┤       │  └───┘└─┬─┘  │  └───┘  │    │    │    │    │    │  »\n",
              " q0_9: |0>┤ H ├──■────┼─────────■────┼─────────┼────┼────┼────┼────┼────┼──»\n",
              "          └───┘┌─┴─┐  │  ┌───┐       │         │    │    │    │    │    │  »\n",
              "q0_10: |0>─────┤ X ├──┼──┤ H ├──■────┼─────────┼────┼────┼────┼────┼────┼──»\n",
              "               └───┘┌─┴─┐└───┘┌─┴─┐  │  ┌───┐  │    │    │    │    │    │  »\n",
              "q0_11: |0>──────────┤ X ├─────┤ X ├──┼──┤ H ├──┼────┼────┼────┼────┼────┼──»\n",
              "                    └───┘     └───┘┌─┴─┐└───┘┌─┴─┐  │  ┌─┴─┐  │    │  ┌─┴─┐»\n",
              "q0_12: |0>─────────────────────────┤ X ├─────┤ X ├──┼──┤ X ├──┼────┼──┤ X ├»\n",
              "                                   └───┘     └───┘┌─┴─┐└───┘┌─┴─┐  │  └───┘»\n",
              "q0_13: |0>────────────────────────────────────────┤ X ├─────┤ X ├──┼───────»\n",
              "          ┌───┐                                   └───┘     └───┘  │       »\n",
              "q0_14: |0>┤ H ├────────────────────────────────────────────────────■───────»\n",
              "          └───┘                                                            »\n",
              " c0: 0 15/═════════════════════════════════════════════════════════════════»\n",
              "                                                                           »\n",
              "«                                                                             »\n",
              "« q0_0: ──────────────────────────────────────────────────────────────────────»\n",
              "«            ┌───┐                                                            »\n",
              "« q0_1: ─────┤ X ├────────────────────────────────────────────────────────────»\n",
              "«            └─┬─┘          ┌───┐                                             »\n",
              "« q0_2: ──■────┼────────────┤ X ├─────────────────────────────────────────────»\n",
              "«         │    │            └─┬─┘          ┌───┐                              »\n",
              "« q0_3: ──┼────┼─────────■────┼────────────┤ X ├──────────────────────────────»\n",
              "«         │    │         │    │            └─┬─┘          ┌───┐               »\n",
              "« q0_4: ──┼────┼────■────┼────┼─────────■────┼────────────┤ X ├───────────────»\n",
              "«         │    │    │    │    │         │    │            └─┬─┘          ┌───┐»\n",
              "« q0_5: ──┼────┼────┼────┼────┼────■────┼────┼─────────■────┼────────────┤ X ├»\n",
              "«         │    │    │    │    │    │    │    │         │    │            └─┬─┘»\n",
              "« q0_6: ──┼────┼────┼────┼────┼────┼────┼────┼────■────┼────┼─────────■────┼──»\n",
              "«         │    │    │    │    │    │    │    │    │    │    │         │    │  »\n",
              "« q0_7: ──┼────┼────┼────┼────┼────┼────┼────┼────┼────┼────┼────■────┼────┼──»\n",
              "«         │    │    │    │    │    │    │    │    │    │    │    │    │    │  »\n",
              "« q0_8: ──┼────┼────┼────┼────┼────┼────┼────┼────┼────┼────┼────┼────┼────┼──»\n",
              "«         │    │    │    │    │    │    │    │    │    │    │    │    │    │  »\n",
              "« q0_9: ──┼────┼────┼────┼────┼────┼────┼────┼────┼────┼────┼────┼────┼────┼──»\n",
              "«         │    │    │    │    │    │    │    │    │    │    │    │    │    │  »\n",
              "«q0_10: ──┼────┼────┼────┼────┼────┼────┼────┼────┼────┼────┼────┼────┼────┼──»\n",
              "«         │    │    │    │    │    │    │    │    │    │    │    │    │    │  »\n",
              "«q0_11: ──┼────┼────┼────┼────┼────┼────┼────┼────┼────┼────┼────┼────┼────┼──»\n",
              "«         │    │  ┌─┴─┐  │    │  ┌─┴─┐  │    │  ┌─┴─┐  │    │  ┌─┴─┐  │    │  »\n",
              "«q0_12: ──┼────┼──┤ X ├──┼────┼──┤ X ├──┼────┼──┤ X ├──┼────┼──┤ X ├──┼────┼──»\n",
              "«       ┌─┴─┐  │  └───┘┌─┴─┐  │  └───┘┌─┴─┐  │  └───┘┌─┴─┐  │  └───┘┌─┴─┐  │  »\n",
              "«q0_13: ┤ X ├──┼───────┤ X ├──┼───────┤ X ├──┼───────┤ X ├──┼───────┤ X ├──┼──»\n",
              "«       └───┘  │       └───┘  │       └───┘  │       └───┘  │       └───┘  │  »\n",
              "«q0_14: ───────■──────────────■──────────────■──────────────■──────────────■──»\n",
              "«                                                                             »\n",
              "«c0: 15/══════════════════════════════════════════════════════════════════════»\n",
              "«                                                                             »\n",
              "«                                                                             »\n",
              "« q0_0: ──────────────────────────────────────────────────────────────────────»\n",
              "«                                                                             »\n",
              "« q0_1: ──────────────────────────────────────────────────────────────────────»\n",
              "«                                                                             »\n",
              "« q0_2: ──────────────────────────────────────────────────────────────────────»\n",
              "«                                                                             »\n",
              "« q0_3: ──────────────────────────────────────────────────────────────────────»\n",
              "«                                                                             »\n",
              "« q0_4: ──────────────────────────────────────────────────────────────────────»\n",
              "«                                                                             »\n",
              "« q0_5: ──────────────────────────────────────────────────────────────────────»\n",
              "«                 ┌───┐                                                       »\n",
              "« q0_6: ──────────┤ X ├───────────────────────────────────────────────────────»\n",
              "«                 └─┬─┘          ┌───┐                                        »\n",
              "« q0_7: ───────■────┼────────────┤ X ├────────────────────────────────────────»\n",
              "«              │    │            └─┬─┘          ┌───┐                         »\n",
              "« q0_8: ──■────┼────┼─────────■────┼────────────┤ X ├─────────────────────────»\n",
              "«         │    │    │         │    │            └─┬─┘          ┌───┐          »\n",
              "« q0_9: ──┼────┼────┼────■────┼────┼─────────■────┼────────────┤ X ├──────────»\n",
              "«         │    │    │    │    │    │         │    │            └─┬─┘     ┌───┐»\n",
              "«q0_10: ──┼────┼────┼────┼────┼────┼────■────┼────┼─────────■────┼───────┤ X ├»\n",
              "«         │    │    │    │    │    │    │    │    │         │    │       └─┬─┘»\n",
              "«q0_11: ──┼────┼────┼────┼────┼────┼────┼────┼────┼────■────┼────┼────■────┼──»\n",
              "«       ┌─┴─┐  │    │  ┌─┴─┐  │    │  ┌─┴─┐  │    │  ┌─┴─┐  │    │    │    │  »\n",
              "«q0_12: ┤ X ├──┼────┼──┤ X ├──┼────┼──┤ X ├──┼────┼──┤ X ├──┼────┼────┼────┼──»\n",
              "«       └───┘┌─┴─┐  │  └───┘┌─┴─┐  │  └───┘┌─┴─┐  │  └───┘┌─┴─┐  │  ┌─┴─┐  │  »\n",
              "«q0_13: ─────┤ X ├──┼───────┤ X ├──┼───────┤ X ├──┼───────┤ X ├──┼──┤ X ├──┼──»\n",
              "«            └───┘  │       └───┘  │       └───┘  │       └───┘  │  └───┘  │  »\n",
              "«q0_14: ────────────■──────────────■──────────────■──────────────■─────────■──»\n",
              "«                                                                             »\n",
              "«c0: 15/══════════════════════════════════════════════════════════════════════»\n",
              "«                                                                             »\n",
              "«                            \n",
              "« q0_0: ─────────────────────\n",
              "«                            \n",
              "« q0_1: ─────────────────────\n",
              "«                            \n",
              "« q0_2: ─────────────────────\n",
              "«                            \n",
              "« q0_3: ─────────────────────\n",
              "«                            \n",
              "« q0_4: ─────────────────────\n",
              "«                            \n",
              "« q0_5: ─────────────────────\n",
              "«                            \n",
              "« q0_6: ─────────────────────\n",
              "«                            \n",
              "« q0_7: ─────────────────────\n",
              "«                            \n",
              "« q0_8: ─────────────────────\n",
              "«                            \n",
              "« q0_9: ─────────────────────\n",
              "«                            \n",
              "«q0_10: ─────────────────────\n",
              "«            ┌───┐           \n",
              "«q0_11: ─────┤ X ├───────────\n",
              "«            └─┬─┘           \n",
              "«q0_12: ──■────┼─────────────\n",
              "«       ┌─┴─┐  │       ┌─┐   \n",
              "«q0_13: ┤ X ├──┼───────┤M├───\n",
              "«       └───┘  │  ┌───┐└╥┘┌─┐\n",
              "«q0_14: ───────■──┤ H ├─╫─┤M├\n",
              "«                 └───┘ ║ └╥┘\n",
              "«c0: 15/════════════════╩══╩═\n",
              "«                       13 14"
            ]
          },
          "execution_count": 81,
          "metadata": {},
          "output_type": "execute_result"
        }
      ],
      "source": [
        "qc.draw(initial_state= True)"
      ]
    },
    {
      "cell_type": "code",
      "execution_count": 82,
      "metadata": {
        "id": "wOxh8qI4Rwrh"
      },
      "outputs": [],
      "source": [
        "from qiskit import execute"
      ]
    },
    {
      "cell_type": "code",
      "execution_count": 83,
      "metadata": {
        "id": "xERMOYhXRwrh"
      },
      "outputs": [],
      "source": [
        "# job_sim = execute(qc, \"local_qasm_simulator\", shots=8192, max_credits=10)"
      ]
    },
    {
      "cell_type": "code",
      "execution_count": 84,
      "metadata": {
        "id": "QNIs6J3aRwrh"
      },
      "outputs": [],
      "source": [
        "# sim_result = job_sim.result()"
      ]
    },
    {
      "cell_type": "code",
      "execution_count": 85,
      "metadata": {
        "colab": {
          "base_uri": "https://localhost:8080/"
        },
        "id": "5rIr3bmCYlXr",
        "outputId": "92b5557a-09e9-44c7-dcbd-7ea5b6f427f5"
      },
      "outputs": [
        {
          "name": "stdout",
          "output_type": "stream",
          "text": [
            "Requirement already satisfied: qiskit-ibm-provider in c:\\users\\mezba\\appdata\\local\\programs\\python\\python311\\lib\\site-packages (0.7.0)\n",
            "Requirement already satisfied: qiskit>=0.44.1 in c:\\users\\mezba\\appdata\\local\\programs\\python\\python311\\lib\\site-packages (from qiskit-ibm-provider) (0.44.1)\n",
            "Requirement already satisfied: requests>=2.19 in c:\\users\\mezba\\appdata\\local\\programs\\python\\python311\\lib\\site-packages (from qiskit-ibm-provider) (2.31.0)\n",
            "Requirement already satisfied: requests-ntlm>=1.1.0 in c:\\users\\mezba\\appdata\\local\\programs\\python\\python311\\lib\\site-packages (from qiskit-ibm-provider) (1.1.0)\n",
            "Requirement already satisfied: numpy>=1.13 in c:\\users\\mezba\\appdata\\local\\programs\\python\\python311\\lib\\site-packages (from qiskit-ibm-provider) (1.23.5)\n",
            "Requirement already satisfied: urllib3>=1.21.1 in c:\\users\\mezba\\appdata\\local\\programs\\python\\python311\\lib\\site-packages (from qiskit-ibm-provider) (2.0.4)\n",
            "Requirement already satisfied: python-dateutil>=2.8.0 in c:\\users\\mezba\\appdata\\roaming\\python\\python311\\site-packages (from qiskit-ibm-provider) (2.8.2)\n",
            "Requirement already satisfied: websocket-client>=1.5.1 in c:\\users\\mezba\\appdata\\local\\programs\\python\\python311\\lib\\site-packages (from qiskit-ibm-provider) (1.6.3)\n",
            "Requirement already satisfied: websockets>=10.0 in c:\\users\\mezba\\appdata\\local\\programs\\python\\python311\\lib\\site-packages (from qiskit-ibm-provider) (11.0.3)\n",
            "Requirement already satisfied: typing-extensions>=4.3 in c:\\users\\mezba\\appdata\\local\\programs\\python\\python311\\lib\\site-packages (from qiskit-ibm-provider) (4.8.0)\n",
            "Requirement already satisfied: six>=1.5 in c:\\users\\mezba\\appdata\\local\\programs\\python\\python311\\lib\\site-packages (from python-dateutil>=2.8.0->qiskit-ibm-provider) (1.16.0)\n",
            "Requirement already satisfied: qiskit-terra==0.25.1 in c:\\users\\mezba\\appdata\\local\\programs\\python\\python311\\lib\\site-packages (from qiskit>=0.44.1->qiskit-ibm-provider) (0.25.1)\n",
            "Requirement already satisfied: rustworkx>=0.13.0 in c:\\users\\mezba\\appdata\\local\\programs\\python\\python311\\lib\\site-packages (from qiskit-terra==0.25.1->qiskit>=0.44.1->qiskit-ibm-provider) (0.13.1)\n",
            "Requirement already satisfied: ply>=3.10 in c:\\users\\mezba\\appdata\\local\\programs\\python\\python311\\lib\\site-packages (from qiskit-terra==0.25.1->qiskit>=0.44.1->qiskit-ibm-provider) (3.11)\n",
            "Requirement already satisfied: psutil>=5 in c:\\users\\mezba\\appdata\\roaming\\python\\python311\\site-packages (from qiskit-terra==0.25.1->qiskit>=0.44.1->qiskit-ibm-provider) (5.9.5)\n",
            "Requirement already satisfied: scipy>=1.5 in c:\\users\\mezba\\appdata\\local\\programs\\python\\python311\\lib\\site-packages (from qiskit-terra==0.25.1->qiskit>=0.44.1->qiskit-ibm-provider) (1.11.2)\n",
            "Requirement already satisfied: sympy>=1.3 in c:\\users\\mezba\\appdata\\local\\programs\\python\\python311\\lib\\site-packages (from qiskit-terra==0.25.1->qiskit>=0.44.1->qiskit-ibm-provider) (1.12)\n",
            "Requirement already satisfied: dill>=0.3 in c:\\users\\mezba\\appdata\\local\\programs\\python\\python311\\lib\\site-packages (from qiskit-terra==0.25.1->qiskit>=0.44.1->qiskit-ibm-provider) (0.3.7)\n",
            "Requirement already satisfied: stevedore>=3.0.0 in c:\\users\\mezba\\appdata\\local\\programs\\python\\python311\\lib\\site-packages (from qiskit-terra==0.25.1->qiskit>=0.44.1->qiskit-ibm-provider) (5.1.0)\n",
            "Requirement already satisfied: charset-normalizer<4,>=2 in c:\\users\\mezba\\appdata\\local\\programs\\python\\python311\\lib\\site-packages (from requests>=2.19->qiskit-ibm-provider) (3.2.0)\n",
            "Requirement already satisfied: idna<4,>=2.5 in c:\\users\\mezba\\appdata\\local\\programs\\python\\python311\\lib\\site-packages (from requests>=2.19->qiskit-ibm-provider) (3.4)\n",
            "Requirement already satisfied: certifi>=2017.4.17 in c:\\users\\mezba\\appdata\\local\\programs\\python\\python311\\lib\\site-packages (from requests>=2.19->qiskit-ibm-provider) (2023.7.22)\n",
            "Requirement already satisfied: ntlm-auth>=1.0.2 in c:\\users\\mezba\\appdata\\local\\programs\\python\\python311\\lib\\site-packages (from requests-ntlm>=1.1.0->qiskit-ibm-provider) (1.5.0)\n",
            "Requirement already satisfied: cryptography>=1.3 in c:\\users\\mezba\\appdata\\local\\programs\\python\\python311\\lib\\site-packages (from requests-ntlm>=1.1.0->qiskit-ibm-provider) (41.0.3)\n",
            "Requirement already satisfied: cffi>=1.12 in c:\\users\\mezba\\appdata\\local\\programs\\python\\python311\\lib\\site-packages (from cryptography>=1.3->requests-ntlm>=1.1.0->qiskit-ibm-provider) (1.15.1)\n",
            "Requirement already satisfied: pycparser in c:\\users\\mezba\\appdata\\local\\programs\\python\\python311\\lib\\site-packages (from cffi>=1.12->cryptography>=1.3->requests-ntlm>=1.1.0->qiskit-ibm-provider) (2.21)\n",
            "Requirement already satisfied: pbr!=2.1.0,>=2.0.0 in c:\\users\\mezba\\appdata\\local\\programs\\python\\python311\\lib\\site-packages (from stevedore>=3.0.0->qiskit-terra==0.25.1->qiskit>=0.44.1->qiskit-ibm-provider) (5.11.1)\n",
            "Requirement already satisfied: mpmath>=0.19 in c:\\users\\mezba\\appdata\\local\\programs\\python\\python311\\lib\\site-packages (from sympy>=1.3->qiskit-terra==0.25.1->qiskit>=0.44.1->qiskit-ibm-provider) (1.3.0)\n"
          ]
        },
        {
          "name": "stderr",
          "output_type": "stream",
          "text": [
            "\n",
            "[notice] A new release of pip is available: 23.1.2 -> 23.2.1\n",
            "[notice] To update, run: python.exe -m pip install --upgrade pip\n"
          ]
        }
      ],
      "source": [
        "!pip install qiskit-ibm-provider"
      ]
    },
    {
      "cell_type": "code",
      "execution_count": 86,
      "metadata": {
        "id": "Kydb8B80XPn-"
      },
      "outputs": [],
      "source": [
        "from qiskit import QuantumCircuit, execute\n",
        "from qiskit_ibm_provider import IBMProvider\n",
        "\n",
        "# save API token\n",
        "IBMProvider.save_account('8c18db0911b445e374f25bf6137c8eb680ba0b2cb4e2df01fe63ce937c49cd4665382fc2bb051bc22c14234225f1058f5bcb0556123ec712e7be475c0e267be3', overwrite=True)\n",
        "\n",
        "provider = IBMProvider()\n",
        "qc.measure_all()\n",
        "\n",
        "# Select a backend.\n",
        "backend = provider.get_backend(\"ibmq_qasm_simulator\")\n",
        "\n",
        "# simulate the circuit\n",
        "job_sim = execute(qc, backend=backend, shots=8192, max_credits=10)\n",
        "\n",
        "# # Submit a job.\n",
        "# job = backend.run(transpiled)\n",
        "# # Get results.\n",
        "# print(job.result().get_counts())\n",
        "# # get result\n",
        "# result = job.result()"
      ]
    },
    {
      "cell_type": "markdown",
      "metadata": {
        "id": "gustJguYRwrh"
      },
      "source": [
        "# Show the results"
      ]
    },
    {
      "cell_type": "code",
      "execution_count": 87,
      "metadata": {
        "id": "pNjfFlGKRwri"
      },
      "outputs": [],
      "source": [
        "sim_result = job_sim.result()"
      ]
    },
    {
      "cell_type": "code",
      "execution_count": 88,
      "metadata": {
        "colab": {
          "base_uri": "https://localhost:8080/"
        },
        "id": "OJftUE0QRwri",
        "outputId": "2ce32a2d-fb6f-41a0-f5e1-c78b859155d1"
      },
      "outputs": [
        {
          "name": "stdout",
          "output_type": "stream",
          "text": [
            "{'001111101001010 000000000000000': 1, '000101010000100 000000000000000': 1, '000010101011100 000000000000000': 1, '000011101101110 000000000000000': 1, '000100110010011 000000000000000': 1, '000010101101001 000000000000000': 1, '000001110110010 000000000000000': 1, '000000011010100 000000000000000': 1, '000000100000010 000000000000000': 1, '000111110110001 000000000000000': 1, '000100010010100 000000000000000': 2, '001110011111011 000000000000000': 1, '001001010001011 000000000000000': 1, '001011100001111 000000000000000': 1, '000011111101010 000000000000000': 1, '001001010010101 000000000000000': 1, '000111001010010 000000000000000': 1, '000100001100001 000000000000000': 1, '000101100010000 000000000000000': 1, '000001100001100 000000000000000': 2, '001000100110000 000000000000000': 1, '000010100001001 000000000000000': 1, '000010110100000 000000000000000': 1, '001011111011011 000000000000000': 1, '001101100110011 000000000000000': 1, '001100010110010 000000000000000': 1, '000001111000101 000000000000000': 1, '001110000100000 000000000000000': 2, '000011110110101 000000000000000': 1, '000101111111110 000000000000000': 1, '000010111011011 000000000000000': 1, '000111110100011 000000000000000': 1, '001111000001100 000000000000000': 1, '000101100011111 000000000000000': 1, '000101110111100 000000000000000': 1, '000110001110001 000000000000000': 1, '000000100100011 000000000000000': 1, '001101111101101 000000000000000': 2, '000110000001001 000000000000000': 1, '001011101010110 000000000000000': 1, '000000100000100 000000000000000': 1, '001100110110101 000000000000000': 1, '000101010010011 000000000000000': 1, '001011010111111 000000000000000': 1, '001100101100100 000000000000000': 1, '000100010011110 000000000000000': 1, '000001100011110 000000000000000': 1, '001101011010011 000000000000000': 1, '000010110110111 000000000000000': 1, '000101001001011 000000000000000': 1, '001100111011010 000000000000000': 1, '001100110000000 000000000000000': 1, '001111101100100 000000000000000': 2, '000100100111111 000000000000000': 1, '001010001011100 000000000000000': 1, '000110110100010 000000000000000': 1, '000000010110100 000000000000000': 1, '001111100110001 000000000000000': 1, '001101111100001 000000000000000': 1, '001110110001101 000000000000000': 2, '001101110010101 000000000000000': 2, '000110000111001 000000000000000': 1, '001100011011011 000000000000000': 1, '001110010001001 000000000000000': 1, '000000110010100 000000000000000': 1, '001110110100000 000000000000000': 1, '000111111100010 000000000000000': 1, '001000001010100 000000000000000': 1, '000110011110011 000000000000000': 1, '000111010100001 000000000000000': 1, '001010100110001 000000000000000': 1, '000011001100101 000000000000000': 1, '000110111000100 000000000000000': 1, '000001111100111 000000000000000': 1, '001011101001011 000000000000000': 1, '001011101100101 000000000000000': 1, '000011111110111 000000000000000': 1, '001001100101001 000000000000000': 1, '000101101010111 000000000000000': 2, '001010011110110 000000000000000': 1, '001111010000111 000000000000000': 2, '001111001001101 000000000000000': 1, '000100000000100 000000000000000': 1, '000010010100111 000000000000000': 1, '001100111001110 000000000000000': 1, '000110110010001 000000000000000': 1, '001110110101100 000000000000000': 1, '000110000011011 000000000000000': 2, '000011000000101 000000000000000': 1, '001011001000011 000000000000000': 1, '000010101101111 000000000000000': 1, '000101000110000 000000000000000': 1, '001110001100010 000000000000000': 1, '001100100100011 000000000000000': 1, '001100101111100 000000000000000': 1, '001010011101110 000000000000000': 1, '000010011010000 000000000000000': 1, '000111111010100 000000000000000': 1, '001111110010111 000000000000000': 1, '001011001100100 000000000000000': 4, '000101011011011 000000000000000': 2, '000011101110110 000000000000000': 1, '001101110011001 000000000000000': 2, '000001101100101 000000000000000': 1, '000000010011100 000000000000000': 1, '001001011010111 000000000000000': 1, '000011110101000 000000000000000': 1, '001111110110101 000000000000000': 1, '000101100001101 000000000000000': 2, '000111100111100 000000000000000': 2, '000101101101000 000000000000000': 1, '001110101011111 000000000000000': 1, '001101000101010 000000000000000': 1, '001101000011001 000000000000000': 1, '001011101101111 000000000000000': 2, '001001010000010 000000000000000': 1, '000101010110111 000000000000000': 1, '001010011000110 000000000000000': 1, '001100010110100 000000000000000': 1, '000101000000101 000000000000000': 4, '000010001101011 000000000000000': 2, '001100001000100 000000000000000': 2, '001111111101100 000000000000000': 1, '001000011110010 000000000000000': 1, '001001110111001 000000000000000': 1, '000111001010001 000000000000000': 1, '000000111111011 000000000000000': 1, '000011010011010 000000000000000': 3, '001110001111001 000000000000000': 1, '001111110111111 000000000000000': 1, '000011001011001 000000000000000': 2, '001001101100001 000000000000000': 1, '001011101000100 000000000000000': 1, '001101000010101 000000000000000': 1, '001011110100000 000000000000000': 1, '000111001110000 000000000000000': 2, '000001011010011 000000000000000': 1, '000101001011111 000000000000000': 1, '000011010011001 000000000000000': 2, '001001011111111 000000000000000': 1, '000101000010111 000000000000000': 1, '001010010101111 000000000000000': 1, '000111010011011 000000000000000': 1, '000000011011110 000000000000000': 1, '000001100001010 000000000000000': 1, '001101110110111 000000000000000': 1, '000000001110111 000000000000000': 2, '001100010000001 000000000000000': 1, '000011000010001 000000000000000': 2, '001110011101100 000000000000000': 2, '001101010010001 000000000000000': 1, '000110100011010 000000000000000': 2, '000010000111110 000000000000000': 1, '001011010011101 000000000000000': 2, '001110000000001 000000000000000': 1, '000111011100110 000000000000000': 1, '001110110001110 000000000000000': 1, '000010111010010 000000000000000': 1, '000000011110000 000000000000000': 1, '000000001011111 000000000000000': 1, '000100011110111 000000000000000': 1, '000110100001101 000000000000000': 1, '001000111101101 000000000000000': 1, '001001100010000 000000000000000': 1, '000110001010000 000000000000000': 1, '001110010000011 000000000000000': 1, '000111110110010 000000000000000': 1, '001010011001001 000000000000000': 1, '000001000111110 000000000000000': 1, '000010011000100 000000000000000': 1, '001011010001001 000000000000000': 1, '000000000101101 000000000000000': 1, '001101000001011 000000000000000': 1, '000001011101010 000000000000000': 1, '001011110100011 000000000000000': 2, '000100100101000 000000000000000': 1, '000100100011000 000000000000000': 2, '001011001100111 000000000000000': 1, '000110101100010 000000000000000': 1, '000110101111100 000000000000000': 1, '000110000111111 000000000000000': 1, '001000111110110 000000000000000': 2, '000111010111100 000000000000000': 1, '001110011111101 000000000000000': 1, '001001001001011 000000000000000': 1, '001001001010011 000000000000000': 2, '001011001001100 000000000000000': 2, '000000100011001 000000000000000': 2, '000010101100011 000000000000000': 1, '000000000111100 000000000000000': 1, '001111100001101 000000000000000': 1, '000001100100111 000000000000000': 1, '001011100010001 000000000000000': 1, '000001010000000 000000000000000': 2, '001001010001101 000000000000000': 2, '001010000010111 000000000000000': 2, '001110010000000 000000000000000': 1, '000100110110010 000000000000000': 3, '000101110011000 000000000000000': 1, '001110010100111 000000000000000': 4, '000111111101101 000000000000000': 3, '001010000011011 000000000000000': 2, '000000001001101 000000000000000': 1, '000101101011110 000000000000000': 1, '001100010111011 000000000000000': 2, '001001010110100 000000000000000': 3, '001110000001110 000000000000000': 2, '000011001101111 000000000000000': 2, '000111010000110 000000000000000': 1, '001111111011111 000000000000000': 2, '001110100101000 000000000000000': 2, '000100100101101 000000000000000': 3, '000010100011000 000000000000000': 3, '001110011011100 000000000000000': 2, '001010000010100 000000000000000': 1, '000011001001000 000000000000000': 1, '000111110011100 000000000000000': 2, '000111101011100 000000000000000': 2, '001110010111100 000000000000000': 1, '000001111000000 000000000000000': 3, '001010101101101 000000000000000': 3, '001010010010000 000000000000000': 4, '000110111110001 000000000000000': 1, '000101101101011 000000000000000': 4, '000110011100111 000000000000000': 3, '000100110100011 000000000000000': 2, '001101011111110 000000000000000': 4, '001011001110101 000000000000000': 3, '000010000110111 000000000000000': 2, '000010110010000 000000000000000': 3, '001111011101101 000000000000000': 1, '000110100100000 000000000000000': 2, '001001100100011 000000000000000': 2, '000100101000100 000000000000000': 3, '001111110010010 000000000000000': 3, '000011100100011 000000000000000': 5, '001011100001010 000000000000000': 2, '001000000100000 000000000000000': 3, '000010100001111 000000000000000': 1, '001010110000101 000000000000000': 2, '001111000011101 000000000000000': 2, '000110100001011 000000000000000': 1, '000000000111001 000000000000000': 2, '001100100010011 000000000000000': 1, '001100001001110 000000000000000': 5, '001001100111000 000000000000000': 2, '000111011000111 000000000000000': 2, '001101111111100 000000000000000': 2, '000001110000100 000000000000000': 4, '001110101001110 000000000000000': 2, '001111111000111 000000000000000': 2, '001010101110000 000000000000000': 3, '001001010011100 000000000000000': 2, '001011100011000 000000000000000': 1, '001001011111100 000000000000000': 2, '001101100000000 000000000000000': 3, '000110000010001 000000000000000': 1, '000110101000101 000000000000000': 3, '001110010010010 000000000000000': 2, '000010011100110 000000000000000': 1, '000110010010000 000000000000000': 2, '000011000100111 000000000000000': 1, '001110001110110 000000000000000': 1, '001100010101010 000000000000000': 3, '001011111100111 000000000000000': 3, '001101000000111 000000000000000': 3, '000100101000010 000000000000000': 2, '001100010000100 000000000000000': 1, '001001111100110 000000000000000': 1, '001101111101000 000000000000000': 3, '001110001010010 000000000000000': 5, '001011100011101 000000000000000': 3, '001010110110110 000000000000000': 1, '000000010010000 000000000000000': 2, '000101001101100 000000000000000': 1, '000110000111100 000000000000000': 4, '000001010001010 000000000000000': 2, '000011001000001 000000000000000': 7, '001110100100001 000000000000000': 6, '000110110110011 000000000000000': 2, '000101110010100 000000000000000': 1, '000101001100101 000000000000000': 3, '000100011010000 000000000000000': 1, '001011100000000 000000000000000': 2, '001110111100010 000000000000000': 3, '000010100110110 000000000000000': 3, '001010000011000 000000000000000': 6, '001001100010110 000000000000000': 3, '000110100100110 000000000000000': 2, '001010010110100 000000000000000': 1, '001000001110000 000000000000000': 2, '000011000111100 000000000000000': 3, '000100101011100 000000000000000': 4, '000101010100011 000000000000000': 2, '001100111111000 000000000000000': 2, '001000111010111 000000000000000': 2, '000000010111011 000000000000000': 4, '000110001100101 000000000000000': 2, '000101100011100 000000000000000': 3, '001100001101010 000000000000000': 2, '001010111110010 000000000000000': 2, '001100011101011 000000000000000': 3, '001100100011100 000000000000000': 3, '001000000110010 000000000000000': 1, '001101111010010 000000000000000': 2, '000111011011001 000000000000000': 5, '001100100110001 000000000000000': 1, '000111000101001 000000000000000': 1, '000001000011111 000000000000000': 1, '001001100010101 000000000000000': 1, '000110011111001 000000000000000': 3, '001100101010111 000000000000000': 3, '001100101110011 000000000000000': 1, '000111110110100 000000000000000': 1, '000000010000100 000000000000000': 2, '001101101010101 000000000000000': 2, '000010001111001 000000000000000': 3, '000011011011011 000000000000000': 1, '000010101000001 000000000000000': 4, '000111110101010 000000000000000': 2, '000111010000000 000000000000000': 5, '000110100010000 000000000000000': 4, '000001001000000 000000000000000': 2, '001111100011010 000000000000000': 3, '000010110111000 000000000000000': 2, '000110110101110 000000000000000': 3, '000110000110011 000000000000000': 2, '000010101111101 000000000000000': 3, '001101100000101 000000000000000': 1, '001110111100100 000000000000000': 1, '000100000100000 000000000000000': 2, '001000100010111 000000000000000': 3, '001110011011010 000000000000000': 2, '000000010110001 000000000000000': 1, '001101011111000 000000000000000': 2, '001011100101110 000000000000000': 3, '001100110010100 000000000000000': 2, '001000110110111 000000000000000': 2, '001010000101000 000000000000000': 4, '000110001100110 000000000000000': 3, '000010001110110 000000000000000': 1, '001110011001101 000000000000000': 2, '001110011011001 000000000000000': 5, '000001001111001 000000000000000': 3, '000000001000010 000000000000000': 5, '001100001100011 000000000000000': 2, '001010010000001 000000000000000': 5, '000110000110110 000000000000000': 1, '001001101011101 000000000000000': 2, '001011101010011 000000000000000': 1, '001000000001110 000000000000000': 5, '000111000011100 000000000000000': 2, '001000000011111 000000000000000': 3, '000000001110010 000000000000000': 3, '000100100000110 000000000000000': 4, '001111111001011 000000000000000': 4, '001111110000011 000000000000000': 1, '001100111100000 000000000000000': 4, '001101101111110 000000000000000': 1, '001011110101010 000000000000000': 2, '001011110110111 000000000000000': 1, '001101010100010 000000000000000': 4, '000110110111100 000000000000000': 2, '000110110011101 000000000000000': 4, '001010110110101 000000000000000': 1, '000111010001010 000000000000000': 1, '001101011001000 000000000000000': 4, '001111110100010 000000000000000': 3, '000110001101100 000000000000000': 2, '001101001110000 000000000000000': 2, '000000110111100 000000000000000': 1, '000011010010000 000000000000000': 1, '001100001010011 000000000000000': 2, '001010111110001 000000000000000': 2, '000110001100000 000000000000000': 1, '000110001001110 000000000000000': 2, '001111100111101 000000000000000': 1, '001100011011101 000000000000000': 2, '000011110110110 000000000000000': 1, '001010111011010 000000000000000': 4, '001010010111110 000000000000000': 2, '000000010101100 000000000000000': 2, '000000000000110 000000000000000': 3, '001111101111111 000000000000000': 2, '001101111110110 000000000000000': 2, '000111100011110 000000000000000': 3, '001000011101111 000000000000000': 2, '000101111001110 000000000000000': 1, '001111000110000 000000000000000': 2, '001111010111101 000000000000000': 2, '001010111001011 000000000000000': 1, '000001111010001 000000000000000': 3, '001000011000100 000000000000000': 2, '000011111101111 000000000000000': 2, '000011101001100 000000000000000': 4, '001000001111010 000000000000000': 2, '000001000000100 000000000000000': 2, '001001110010100 000000000000000': 3, '000001101011010 000000000000000': 2, '000100100000000 000000000000000': 5, '001010011101101 000000000000000': 3, '001001001100011 000000000000000': 2, '000111101000001 000000000000000': 3, '001101111000000 000000000000000': 1, '001000001101000 000000000000000': 2, '000111000000111 000000000000000': 1, '000000110000110 000000000000000': 1, '001001110001010 000000000000000': 4, '000000110000011 000000000000000': 3, '001000101011100 000000000000000': 2, '000010100111111 000000000000000': 1, '000010100100111 000000000000000': 4, '001111101110101 000000000000000': 4, '001010100100101 000000000000000': 2, '001010001111110 000000000000000': 1, '001110000001101 000000000000000': 4, '001111101000000 000000000000000': 2, '001011001010001 000000000000000': 2, '000111100000110 000000000000000': 5, '000011000000000 000000000000000': 1, '000111110111110 000000000000000': 2, '001100000111111 000000000000000': 2, '001001100010011 000000000000000': 2, '000010100011101 000000000000000': 2, '001111111110100 000000000000000': 4, '001100111011111 000000000000000': 2, '000100111000000 000000000000000': 4, '001000111100100 000000000000000': 3, '001100010011111 000000000000000': 2, '001110100000000 000000000000000': 1, '000110011001100 000000000000000': 4, '001000111001111 000000000000000': 3, '000101100111101 000000000000000': 4, '001101111000011 000000000000000': 2, '001000111101000 000000000000000': 4, '001011000101001 000000000000000': 3, '001010000110101 000000000000000': 2, '001101011011111 000000000000000': 2, '001010100101010 000000000000000': 1, '001111111001000 000000000000000': 2, '000110110110000 000000000000000': 3, '000000100101100 000000000000000': 4, '000101010111110 000000000000000': 2, '000011100010110 000000000000000': 2, '000010010011000 000000000000000': 2, '001101000110111 000000000000000': 1, '001101100100100 000000000000000': 1, '000001010110110 000000000000000': 5, '001100111010011 000000000000000': 3, '001111101100001 000000000000000': 2, '001010110100001 000000000000000': 3, '001001011000101 000000000000000': 2, '001001101001010 000000000000000': 2, '001000110101111 000000000000000': 1, '001111111010000 000000000000000': 2, '000111101001000 000000000000000': 1, '001011100111010 000000000000000': 2, '000011001000010 000000000000000': 3, '001010000101011 000000000000000': 5, '001110100111001 000000000000000': 1, '000011011101011 000000000000000': 3, '000011010011111 000000000000000': 1, '001111101101110 000000000000000': 2, '001110111001001 000000000000000': 3, '001101010111100 000000000000000': 4, '000111011111000 000000000000000': 2, '001111000010100 000000000000000': 2, '000000001100011 000000000000000': 2, '001110011000111 000000000000000': 2, '000011110011101 000000000000000': 3, '001001100000010 000000000000000': 5, '000010010011011 000000000000000': 3, '001011001100010 000000000000000': 3, '001000111011000 000000000000000': 2, '001101000001000 000000000000000': 3, '001101001111111 000000000000000': 2, '000110011111010 000000000000000': 1, '000010101100110 000000000000000': 2, '001001001011010 000000000000000': 1, '000100111011101 000000000000000': 4, '000001100101101 000000000000000': 1, '001001001110001 000000000000000': 1, '001111110001100 000000000000000': 2, '001110101000100 000000000000000': 3, '001000000101010 000000000000000': 2, '000001001001111 000000000000000': 3, '001000111101110 000000000000000': 2, '001010100010000 000000000000000': 2, '001001001010101 000000000000000': 4, '000000111111000 000000000000000': 2, '000111100100100 000000000000000': 3, '000110011100100 000000000000000': 3, '001100001011010 000000000000000': 2, '001111000010010 000000000000000': 4, '000100010000011 000000000000000': 2, '001000100011011 000000000000000': 2, '001001001010000 000000000000000': 5, '000001100010100 000000000000000': 3, '000000111101001 000000000000000': 3, '001111101001100 000000000000000': 2, '001010100101111 000000000000000': 2, '000000110101101 000000000000000': 1, '000000100110111 000000000000000': 3, '000110001001011 000000000000000': 1, '001001001101111 000000000000000': 6, '000100000110001 000000000000000': 3, '001010110111100 000000000000000': 2, '001010011010100 000000000000000': 1, '000001100000110 000000000000000': 1, '000011101011101 000000000000000': 3, '001001000000110 000000000000000': 1, '001001000110101 000000000000000': 3, '000010001111111 000000000000000': 3, '000000111101111 000000000000000': 2, '000010000000111 000000000000000': 3, '000111011000010 000000000000000': 3, '000010010100010 000000000000000': 3, '001111001000100 000000000000000': 3, '001110101000010 000000000000000': 2, '001001111100000 000000000000000': 1, '000111101100101 000000000000000': 3, '000010010011101 000000000000000': 4, '001110000011010 000000000000000': 2, '000010101011001 000000000000000': 2, '001100110010111 000000000000000': 2, '001100010110001 000000000000000': 1, '000101000001001 000000000000000': 2, '000100011101001 000000000000000': 4, '000100011101100 000000000000000': 3, '000000000101000 000000000000000': 2, '000001100100001 000000000000000': 1, '000001111010111 000000000000000': 1, '000011100101001 000000000000000': 1, '000010011100000 000000000000000': 5, '001000011010011 000000000000000': 1, '000000101011110 000000000000000': 2, '001011111000101 000000000000000': 4, '000010110101100 000000000000000': 2, '001011010111010 000000000000000': 8, '001001000110000 000000000000000': 4, '001010100011111 000000000000000': 2, '001011101100000 000000000000000': 2, '001111100000100 000000000000000': 6, '001110100111010 000000000000000': 2, '001110110111011 000000000000000': 1, '000000111110111 000000000000000': 2, '001010000010010 000000000000000': 1, '000000101000110 000000000000000': 3, '001001001011001 000000000000000': 1, '000110001001101 000000000000000': 3, '001010011010111 000000000000000': 3, '001110111101110 000000000000000': 4, '000010001001100 000000000000000': 4, '001101011101001 000000000000000': 3, '000011101110011 000000000000000': 1, '000111000001000 000000000000000': 2, '001010011011011 000000000000000': 2, '001001011010001 000000000000000': 5, '000011000101000 000000000000000': 3, '000001101100000 000000000000000': 1, '000000110111111 000000000000000': 2, '000100001010100 000000000000000': 3, '001010000000110 000000000000000': 3, '001100001001101 000000000000000': 5, '000101110101101 000000000000000': 1, '001110010011110 000000000000000': 3, '000101101100100 000000000000000': 3, '001010011100111 000000000000000': 3, '001100000101011 000000000000000': 1, '001100010110111 000000000000000': 6, '001011001100001 000000000000000': 1, '001110101000111 000000000000000': 1, '000011110001111 000000000000000': 2, '001111101101000 000000000000000': 2, '000101010001110 000000000000000': 1, '001010111111011 000000000000000': 1, '000001010001111 000000000000000': 2, '001100010100101 000000000000000': 4, '001110000001011 000000000000000': 4, '000000101000011 000000000000000': 3, '001011010001100 000000000000000': 4, '001110101011001 000000000000000': 2, '001111100010011 000000000000000': 2, '001110011100000 000000000000000': 2, '000101000100100 000000000000000': 3, '000001101001011 000000000000000': 1, '000101111011100 000000000000000': 4, '001101000011100 000000000000000': 3, '000010110111101 000000000000000': 3, '001000101000001 000000000000000': 1, '000101110000000 000000000000000': 2, '000001010101110 000000000000000': 3, '000111101111011 000000000000000': 2, '001110011011111 000000000000000': 2, '000001000110111 000000000000000': 1, '001010100101100 000000000000000': 3, '000010101010101 000000000000000': 2, '000100111010010 000000000000000': 3, '001001111111110 000000000000000': 1, '000011011100111 000000000000000': 2, '001001110011101 000000000000000': 4, '000101010001000 000000000000000': 3, '000001110011010 000000000000000': 3, '001000100100100 000000000000000': 2, '000111111011011 000000000000000': 5, '000100001110110 000000000000000': 2, '000101110001010 000000000000000': 3, '001011000000010 000000000000000': 1, '001010111111000 000000000000000': 5, '001000010110101 000000000000000': 2, '001000101100000 000000000000000': 4, '000001101100011 000000000000000': 2, '001000011001011 000000000000000': 1, '000101111111011 000000000000000': 3, '000110111001101 000000000000000': 4, '001111101111100 000000000000000': 1, '001110111010001 000000000000000': 5, '001001110010111 000000000000000': 2, '001101110000001 000000000000000': 1, '001001100110010 000000000000000': 1, '000100000010110 000000000000000': 1, '001100111000001 000000000000000': 1, '001000010011000 000000000000000': 1, '001001101110000 000000000000000': 2, '001011001010100 000000000000000': 2, '001000010110011 000000000000000': 2, '001000110100101 000000000000000': 1, '001010111100011 000000000000000': 3, '001010111110100 000000000000000': 3, '001111101111001 000000000000000': 6, '001101001011000 000000000000000': 1, '000101101000011 000000000000000': 2, '000001000110100 000000000000000': 2, '000010000010011 000000000000000': 1, '000001100111100 000000000000000': 2, '000000010010101 000000000000000': 1, '001111001000001 000000000000000': 6, '000011100101111 000000000000000': 1, '000010011001101 000000000000000': 3, '000100011110001 000000000000000': 2, '000000110001100 000000000000000': 2, '001111100111011 000000000000000': 2, '000010100110101 000000000000000': 4, '000111011010000 000000000000000': 4, '001101110010011 000000000000000': 2, '000010101000010 000000000000000': 1, '001111011111001 000000000000000': 3, '001001000101000 000000000000000': 5, '001001111110111 000000000000000': 2, '000010011010011 000000000000000': 3, '000110001000010 000000000000000': 3, '000010001000011 000000000000000': 7, '001000101100110 000000000000000': 3, '001000011111000 000000000000000': 1, '001101110011010 000000000000000': 2, '001100001000010 000000000000000': 2, '001010011010010 000000000000000': 6, '001011110001000 000000000000000': 5, '001101011001011 000000000000000': 3, '000010010101101 000000000000000': 1, '000110100110010 000000000000000': 3, '001010100111101 000000000000000': 3, '000100010100001 000000000000000': 2, '000110001110010 000000000000000': 1, '001111010101100 000000000000000': 4, '000101000010001 000000000000000': 4, '001111111100011 000000000000000': 2, '001100100010101 000000000000000': 5, '001111001111011 000000000000000': 2, '000101101000000 000000000000000': 3, '001101000111011 000000000000000': 2, '001110110000010 000000000000000': 4, '001000110101001 000000000000000': 3, '000100001000000 000000000000000': 1, '001111000111111 000000000000000': 3, '000101010101001 000000000000000': 3, '001001010111000 000000000000000': 1, '001011010100111 000000000000000': 1, '001111110000101 000000000000000': 3, '000101001110111 000000000000000': 2, '001010110010010 000000000000000': 1, '001110111101101 000000000000000': 2, '000111100101110 000000000000000': 1, '001111100111110 000000000000000': 3, '000010100010010 000000000000000': 1, '000111101000010 000000000000000': 3, '001010110110000 000000000000000': 3, '001101101000100 000000000000000': 4, '000110010111011 000000000000000': 3, '001110011001011 000000000000000': 2, '001110110101111 000000000000000': 3, '000111111011000 000000000000000': 3, '001100100111000 000000000000000': 2, '000110001010101 000000000000000': 3, '001101111001001 000000000000000': 5, '000101001011001 000000000000000': 2, '001000100000000 000000000000000': 3, '001001100100110 000000000000000': 4, '000011011010111 000000000000000': 2, '001011100011110 000000000000000': 4, '001100111100011 000000000000000': 2, '001101100011011 000000000000000': 2, '001001110110000 000000000000000': 3, '000000001100101 000000000000000': 3, '000011111110010 000000000000000': 2, '000101101111001 000000000000000': 2, '001111100000001 000000000000000': 1, '001010101000110 000000000000000': 7, '000001000101001 000000000000000': 6, '000000101100001 000000000000000': 6, '001000001111111 000000000000000': 3, '000011111110100 000000000000000': 2, '000011000010010 000000000000000': 2, '000111100011101 000000000000000': 2, '001000111111100 000000000000000': 1, '001110001011000 000000000000000': 3, '000110001000111 000000000000000': 1, '001000000100110 000000000000000': 2, '000100000101100 000000000000000': 3, '000010011111101 000000000000000': 2, '000111011101100 000000000000000': 3, '000000001111101 000000000000000': 5, '001110011111000 000000000000000': 2, '000011011011000 000000000000000': 4, '000010011011100 000000000000000': 3, '000110100011111 000000000000000': 2, '000001011011001 000000000000000': 2, '000101001110100 000000000000000': 5, '000101110000011 000000000000000': 3, '000010111110101 000000000000000': 2, '001101101101001 000000000000000': 3, '000100011000111 000000000000000': 2, '001011110111101 000000000000000': 4, '000000111000100 000000000000000': 2, '001011000110010 000000000000000': 4, '001000111010001 000000000000000': 4, '001011000000111 000000000000000': 1, '000010111010111 000000000000000': 4, '000001110001110 000000000000000': 2, '001111000110110 000000000000000': 1, '001101110100101 000000000000000': 3, '000000011110101 000000000000000': 1, '001110101001011 000000000000000': 2, '000110101011110 000000000000000': 2, '000001001100001 000000000000000': 2, '001111000101011 000000000000000': 2, '001111000111001 000000000000000': 2, '000100101100000 000000000000000': 3, '001000011100011 000000000000000': 1, '000110010111101 000000000000000': 2, '000000011001100 000000000000000': 4, '000101001100000 000000000000000': 3, '000000011111111 000000000000000': 2, '001001000001111 000000000000000': 1, '000011000101110 000000000000000': 2, '000111000100110 000000000000000': 4, '000000110111001 000000000000000': 3, '001110110111110 000000000000000': 4, '001101101110001 000000000000000': 3, '000011101101000 000000000000000': 2, '001010111111101 000000000000000': 2, '001101110110100 000000000000000': 1, '001111010001011 000000000000000': 2, '000011110000000 000000000000000': 4, '000000100010000 000000000000000': 3, '000001011101001 000000000000000': 2, '000011101000011 000000000000000': 1, '001101011011100 000000000000000': 2, '000001111110011 000000000000000': 1, '000110110000000 000000000000000': 1, '000000011111100 000000000000000': 3, '000111101101010 000000000000000': 2, '000011000100010 000000000000000': 1, '000001000111011 000000000000000': 5, '000001011000010 000000000000000': 4, '001001100111101 000000000000000': 5, '001101001100001 000000000000000': 1, '001111011100001 000000000000000': 1, '001101100010111 000000000000000': 5, '001110111000110 000000000000000': 4, '001100110011000 000000000000000': 1, '001101100010001 000000000000000': 3, '001111111101001 000000000000000': 2, '000001011000111 000000000000000': 3, '000010010100100 000000000000000': 5, '000110100011001 000000000000000': 4, '000110100110100 000000000000000': 1, '000110100101100 000000000000000': 3, '001100110001100 000000000000000': 3, '001100001110100 000000000000000': 2, '000011000001010 000000000000000': 2, '000100111001100 000000000000000': 3, '001000100010001 000000000000000': 5, '000010111110011 000000000000000': 2, '001011010011000 000000000000000': 3, '000110011000000 000000000000000': 3, '000111010111111 000000000000000': 1, '001100001001011 000000000000000': 2, '000000000110101 000000000000000': 1, '001010111011100 000000000000000': 4, '001110100000110 000000000000000': 3, '001000011010000 000000000000000': 2, '000010010001001 000000000000000': 2, '000000000100010 000000000000000': 3, '001101101101010 000000000000000': 2, '001001100001011 000000000000000': 3, '000111001000101 000000000000000': 7, '001011110101111 000000000000000': 2, '000000010100101 000000000000000': 4, '001011100010010 000000000000000': 2, '001100000001100 000000000000000': 3, '001010001101001 000000000000000': 1, '001101000000001 000000000000000': 3, '001011011110001 000000000000000': 5, '000001001100010 000000000000000': 1, '000010111100100 000000000000000': 1, '001101000100011 000000000000000': 3, '001111001010110 000000000000000': 2, '001010011111100 000000000000000': 4, '000001100010111 000000000000000': 2, '001110010101011 000000000000000': 4, '000010000001000 000000000000000': 3, '000001011101111 000000000000000': 1, '000110000100100 000000000000000': 2, '000010100100100 000000000000000': 1, '000011101001001 000000000000000': 1, '001001101111111 000000000000000': 1, '001100011010100 000000000000000': 4, '001101010101000 000000000000000': 2, '000100000111110 000000000000000': 1, '001001100011100 000000000000000': 3, '001111000101101 000000000000000': 3, '000011011111001 000000000000000': 4, '000010000000010 000000000000000': 2, '000010110000111 000000000000000': 3, '001010101100010 000000000000000': 3, '001100111110111 000000000000000': 7, '001001001011100 000000000000000': 5, '001111110110000 000000000000000': 1, '000110001111000 000000000000000': 1, '001101100010010 000000000000000': 3, '001110001011101 000000000000000': 3, '000101111110010 000000000000000': 2, '001110100001111 000000000000000': 2, '000000100000001 000000000000000': 3, '001000011011001 000000000000000': 2, '000101101011011 000000000000000': 2, '001101100101110 000000000000000': 2, '000010101011010 000000000000000': 2, '001001000011000 000000000000000': 1, '001000100111100 000000000000000': 3, '000111000011111 000000000000000': 2, '000001100001111 000000000000000': 2, '000001110000010 000000000000000': 1, '001000101001101 000000000000000': 4, '000110111000111 000000000000000': 6, '001101011101010 000000000000000': 2, '000010100100010 000000000000000': 1, '000000001001000 000000000000000': 2, '001011000010011 000000000000000': 2, '001000011010110 000000000000000': 1, '001001101100111 000000000000000': 3, '000111001010100 000000000000000': 2, '001100010001110 000000000000000': 1, '000101101011000 000000000000000': 3, '000100101100011 000000000000000': 4, '000100001101110 000000000000000': 1, '000111101101001 000000000000000': 2, '001110000011100 000000000000000': 4, '001000100110110 000000000000000': 5, '001101000100101 000000000000000': 5, '000011111100110 000000000000000': 4, '000000001001011 000000000000000': 5, '001110110100110 000000000000000': 3, '001010001001000 000000000000000': 1, '001000010011011 000000000000000': 2, '000101111001101 000000000000000': 4, '001010100111110 000000000000000': 3, '001001100011001 000000000000000': 1, '000010110011010 000000000000000': 4, '001000110111110 000000000000000': 5, '000000111101010 000000000000000': 2, '001110101111101 000000000000000': 3, '000101000001100 000000000000000': 2, '001001101101000 000000000000000': 5, '001101101001011 000000000000000': 2, '001111110000000 000000000000000': 2, '001110000000100 000000000000000': 3, '001001000111010 000000000000000': 5, '001110001000101 000000000000000': 3, '000011001100000 000000000000000': 3, '001011100110000 000000000000000': 1, '001000101110010 000000000000000': 2, '001110101110111 000000000000000': 2, '001110110011010 000000000000000': 3, '001100001100101 000000000000000': 3, '000011111100000 000000000000000': 3, '001111011101000 000000000000000': 1, '001110000010000 000000000000000': 3, '000000011101011 000000000000000': 2, '001011000101010 000000000000000': 2, '000100000110111 000000000000000': 1, '001101101111011 000000000000000': 2, '000100010110011 000000000000000': 6, '000000110101000 000000000000000': 4, '001110110010000 000000000000000': 5, '000011100000100 000000000000000': 3, '000001101001000 000000000000000': 2, '001011100000101 000000000000000': 2, '000100001100100 000000000000000': 2, '001000100001111 000000000000000': 2, '001111010100000 000000000000000': 4, '001111110101101 000000000000000': 5, '000111011001110 000000000000000': 3, '001011100001001 000000000000000': 3, '001000010000101 000000000000000': 2, '000001011100110 000000000000000': 2, '001100011000000 000000000000000': 5, '000111001000110 000000000000000': 2, '000001000000111 000000000000000': 3, '001000110000001 000000000000000': 2, '000010100101110 000000000000000': 2, '000001110100011 000000000000000': 4, '001001000011101 000000000000000': 2, '000010110010101 000000000000000': 2, '000010110000001 000000000000000': 5, '000100001101101 000000000000000': 1, '001010001100110 000000000000000': 3, '001100100000111 000000000000000': 2, '000111000001011 000000000000000': 1, '001001010110010 000000000000000': 4, '000101001000100 000000000000000': 3, '001011001111010 000000000000000': 3, '001111111011001 000000000000000': 2, '001110010001111 000000000000000': 5, '000101111101100 000000000000000': 3, '000100101001101 000000000000000': 2, '000000011011000 000000000000000': 5, '000011101000110 000000000000000': 1, '000100100011011 000000000000000': 2, '000110011011000 000000000000000': 3, '001101000000100 000000000000000': 6, '001011011000010 000000000000000': 5, '000010111011101 000000000000000': 1, '001010101111010 000000000000000': 3, '001010101001111 000000000000000': 1, '000010100010100 000000000000000': 2, '000001111100100 000000000000000': 4, '000010011011010 000000000000000': 5, '001010111101100 000000000000000': 3, '001000000010110 000000000000000': 3, '000100110110100 000000000000000': 1, '000100111001111 000000000000000': 3, '000111100010111 000000000000000': 4, '000111110100101 000000000000000': 3, '000100010101101 000000000000000': 2, '001010100010110 000000000000000': 1, '001011100000011 000000000000000': 1, '000100001100111 000000000000000': 1, '001101110001101 000000000000000': 4, '001010111111110 000000000000000': 2, '001110011101010 000000000000000': 1, '000111101111101 000000000000000': 4, '000111000010011 000000000000000': 3, '000101011010010 000000000000000': 2, '000010111111010 000000000000000': 3, '000000101000101 000000000000000': 2, '001110110100101 000000000000000': 2, '000011010110010 000000000000000': 2, '000001001000101 000000000000000': 2, '000101000001010 000000000000000': 1, '001001101010001 000000000000000': 4, '001010010011001 000000000000000': 3, '000101011011000 000000000000000': 4, '000000010110111 000000000000000': 3, '000111111000110 000000000000000': 4, '001110101100101 000000000000000': 4, '001000001110110 000000000000000': 1, '001100100000001 000000000000000': 2, '000111101101100 000000000000000': 2, '000100110111110 000000000000000': 1, '000011010000001 000000000000000': 3, '000101000101000 000000000000000': 3, '001101010001010 000000000000000': 2, '001001011110011 000000000000000': 2, '000010000010110 000000000000000': 4, '001101010000000 000000000000000': 5, '000011111111000 000000000000000': 1, '000110101001010 000000000000000': 2, '001011001011000 000000000000000': 2, '001010010100000 000000000000000': 3, '000011011101110 000000000000000': 6, '000101010011001 000000000000000': 3, '000010111111100 000000000000000': 3, '001111101101011 000000000000000': 3, '001111100100000 000000000000000': 1, '000101111010011 000000000000000': 2, '001011100100111 000000000000000': 1, '001011110101001 000000000000000': 4, '000110110001001 000000000000000': 3, '001111010000001 000000000000000': 2, '000010101010000 000000000000000': 2, '000110110001010 000000000000000': 3, '001010100000010 000000000000000': 1, '001001110100010 000000000000000': 2, '000110010000111 000000000000000': 5, '000010010000110 000000000000000': 2, '001010001000111 000000000000000': 3, '001110001100100 000000000000000': 2, '000000101010001 000000000000000': 3, '001001001101100 000000000000000': 4, '001010111101001 000000000000000': 2, '001000100100111 000000000000000': 1, '001100110000101 000000000000000': 3, '000000100101111 000000000000000': 3, '001010010100101 000000000000000': 3, '000101100100011 000000000000000': 2, '001001110000000 000000000000000': 1, '001010011001100 000000000000000': 1, '001011111001010 000000000000000': 2, '001000110001110 000000000000000': 3, '000101101111100 000000000000000': 2, '000000011110110 000000000000000': 3, '000100110111000 000000000000000': 1, '001001110100100 000000000000000': 2, '001100111000111 000000000000000': 3, '001001110101000 000000000000000': 3, '000101110101000 000000000000000': 3, '001100000000000 000000000000000': 4, '001001100000100 000000000000000': 3, '000110000101011 000000000000000': 5, '001011101000010 000000000000000': 4, '001010101111001 000000000000000': 5, '001101110011111 000000000000000': 3, '001010011010001 000000000000000': 2, '001001110100111 000000000000000': 3, '001100101000101 000000000000000': 4, '000000000110110 000000000000000': 2, '000011011010100 000000000000000': 2, '001011011000111 000000000000000': 3, '001100011010010 000000000000000': 1, '000111011100000 000000000000000': 1, '000010001110011 000000000000000': 1, '001110111011110 000000000000000': 1, '001111000100001 000000000000000': 2, '000110011001010 000000000000000': 2, '000100111111100 000000000000000': 1, '001111100000111 000000000000000': 3, '001011001000000 000000000000000': 5, '001010100011001 000000000000000': 4, '001001110110011 000000000000000': 1, '001110110110010 000000000000000': 1, '000100111010001 000000000000000': 2, '001111001010000 000000000000000': 3, '000100110010101 000000000000000': 1, '000000011000101 000000000000000': 3, '000000011101000 000000000000000': 2, '000101110010111 000000000000000': 3, '000111100001001 000000000000000': 1, '001101010000011 000000000000000': 1, '001011010000011 000000000000000': 6, '001100110111100 000000000000000': 2, '001100010010000 000000000000000': 2, '000101011100111 000000000000000': 2, '000011011101000 000000000000000': 3, '001011100001100 000000000000000': 2, '000110101110011 000000000000000': 1, '001101001100100 000000000000000': 5, '001011011100011 000000000000000': 1, '000000110100010 000000000000000': 3, '000100010111010 000000000000000': 2, '001011100110011 000000000000000': 4, '001100101100001 000000000000000': 4, '001101000001110 000000000000000': 2, '001001111100101 000000000000000': 5, '001110110101010 000000000000000': 4, '001100110101110 000000000000000': 3, '001011010100010 000000000000000': 4, '001101010100100 000000000000000': 2, '000111010110110 000000000000000': 2, '001010001110010 000000000000000': 2, '000101011100100 000000000000000': 3, '000011101010010 000000000000000': 2, '000010001011000 000000000000000': 5, '000001000100101 000000000000000': 2, '000000011101110 000000000000000': 3, '001010101000101 000000000000000': 4, '001001011100010 000000000000000': 3, '001100100001000 000000000000000': 2, '000101011000011 000000000000000': 2, '001001000110110 000000000000000': 1, '001010001111011 000000000000000': 1, '001111000011011 000000000000000': 3, '001100001110010 000000000000000': 2, '000111001111111 000000000000000': 4, '000111100110011 000000000000000': 2, '001000100011000 000000000000000': 2, '000001010011101 000000000000000': 2, '000001011110010 000000000000000': 2, '000100100001010 000000000000000': 1, '001001111100011 000000000000000': 2, '001101111111111 000000000000000': 3, '001101011100000 000000000000000': 1, '001000100000110 000000000000000': 1, '000010010101011 000000000000000': 1, '000100000010101 000000000000000': 3, '000101000110110 000000000000000': 2, '000100100001100 000000000000000': 1, '000011001100110 000000000000000': 1, '001100000110000 000000000000000': 1, '000001110111110 000000000000000': 4, '000011111010011 000000000000000': 2, '000011001111011 000000000000000': 3, '001010101100100 000000000000000': 4, '000011101110101 000000000000000': 4, '001111110011110 000000000000000': 4, '001110010110101 000000000000000': 4, '001010011011000 000000000000000': 3, '001101001100010 000000000000000': 2, '001000111100111 000000000000000': 2, '000100100011110 000000000000000': 2, '000011010000010 000000000000000': 4, '000010001001111 000000000000000': 2, '000010010110101 000000000000000': 2, '000000111000111 000000000000000': 4, '001110011000010 000000000000000': 1, '001100100011111 000000000000000': 4, '001000110111101 000000000000000': 2, '000100011111000 000000000000000': 5, '000010100011110 000000000000000': 1, '000101011011110 000000000000000': 5, '000110101101011 000000000000000': 1, '000011010111000 000000000000000': 2, '000010111101101 000000000000000': 2, '000101100100110 000000000000000': 3, '000101101101110 000000000000000': 3, '000011100011001 000000000000000': 5, '001110111111100 000000000000000': 2, '000000101001010 000000000000000': 3, '001110000011111 000000000000000': 2, '001100101100010 000000000000000': 7, '000100010001100 000000000000000': 2, '000110110000110 000000000000000': 4, '000100100010100 000000000000000': 1, '000011111101100 000000000000000': 2, '000010110001110 000000000000000': 3, '000100011110100 000000000000000': 2, '001010000000000 000000000000000': 2, '000010101110010 000000000000000': 2, '001010100000001 000000000000000': 4, '000000001010011 000000000000000': 2, '001110000100011 000000000000000': 1, '001110001110101 000000000000000': 2, '001100011110000 000000000000000': 2, '000011011001001 000000000000000': 2, '001000010010100 000000000000000': 2, '001011100110101 000000000000000': 3, '001010111001101 000000000000000': 4, '001001101001001 000000000000000': 2, '000100110011111 000000000000000': 2, '000111001001010 000000000000000': 1, '000111100100010 000000000000000': 1, '001000011000001 000000000000000': 3, '001111011001001 000000000000000': 3, '000000001100000 000000000000000': 3, '001011011111110 000000000000000': 2, '001110110111000 000000000000000': 2, '001000011111011 000000000000000': 3, '001101111010001 000000000000000': 6, '001000001011101 000000000000000': 2, '000100001011000 000000000000000': 4, '001001101010100 000000000000000': 2, '000011110001010 000000000000000': 2, '001110101110100 000000000000000': 4, '000000100111110 000000000000000': 1, '000111001100100 000000000000000': 3, '000010010000000 000000000000000': 1, '000000111011111 000000000000000': 2, '000010011111000 000000000000000': 4, '001000110001011 000000000000000': 1, '001010001110001 000000000000000': 3, '001010101001010 000000000000000': 2, '001111001011100 000000000000000': 1, '000010110001101 000000000000000': 4, '000010010010111 000000000000000': 4, '000100001101011 000000000000000': 2, '000111100001010 000000000000000': 3, '000001001010001 000000000000000': 2, '000111010101000 000000000000000': 2, '000001001010010 000000000000000': 1, '000100111101000 000000000000000': 3, '000110110111111 000000000000000': 1, '000000000010010 000000000000000': 3, '001101010110101 000000000000000': 10, '000110010011001 000000000000000': 3, '001001111110100 000000000000000': 1, '000100011111110 000000000000000': 2, '000110110100100 000000000000000': 3, '000000010000001 000000000000000': 4, '000110011100001 000000000000000': 1, '001101010010100 000000000000000': 4, '001101000010011 000000000000000': 3, '001110000000010 000000000000000': 1, '001100000010111 000000000000000': 5, '001101110111011 000000000000000': 3, '000010000110001 000000000000000': 2, '001100001110001 000000000000000': 1, '000101001010011 000000000000000': 2, '000111010011110 000000000000000': 2, '001010011000011 000000000000000': 1, '001101010001001 000000000000000': 2, '000100110110001 000000000000000': 2, '001100010000010 000000000000000': 3, '001001011111010 000000000000000': 1, '001101111100111 000000000000000': 1, '001110000000111 000000000000000': 3, '001001111101001 000000000000000': 7, '001011011001110 000000000000000': 3, '001001010101001 000000000000000': 1, '001111100011001 000000000000000': 1, '000001001101011 000000000000000': 2, '001010010100011 000000000000000': 5, '000011000011101 000000000000000': 2, '000001001100111 000000000000000': 1, '000010100101000 000000000000000': 2, '000000110100001 000000000000000': 1, '000001011111000 000000000000000': 4, '001110111110110 000000000000000': 3, '001000011010101 000000000000000': 2, '000010010000011 000000000000000': 2, '001001001011111 000000000000000': 5, '001101111111010 000000000000000': 2, '001001011110110 000000000000000': 1, '001011000111101 000000000000000': 4, '001000001101011 000000000000000': 1, '001010001000010 000000000000000': 3, '001100101001100 000000000000000': 3, '000000101010010 000000000000000': 5, '000100000001101 000000000000000': 3, '001001111010000 000000000000000': 3, '000001111010010 000000000000000': 2, '001110000100110 000000000000000': 1, '001110011010000 000000000000000': 3, '001010100010011 000000000000000': 3, '000110110000011 000000000000000': 2, '001011000011100 000000000000000': 2, '000100000101111 000000000000000': 5, '001000000011100 000000000000000': 3, '001010001100011 000000000000000': 1, '001100101100111 000000000000000': 1, '001011101000111 000000000000000': 1, '001101011011001 000000000000000': 2, '001001001000111 000000000000000': 4, '001011010111001 000000000000000': 3, '001010000100001 000000000000000': 4, '000001110111101 000000000000000': 2, '001101010011101 000000000000000': 1, '001011110110001 000000000000000': 1, '000101011000000 000000000000000': 3, '001100101111111 000000000000000': 4, '000001110110100 000000000000000': 4, '000001010111100 000000000000000': 3, '000000101100111 000000000000000': 1, '001110001011110 000000000000000': 2, '000100010010010 000000000000000': 6, '001100011011110 000000000000000': 2, '001000011101001 000000000000000': 5, '001101010110110 000000000000000': 1, '000011111111101 000000000000000': 3, '000101001111101 000000000000000': 2, '001111101001111 000000000000000': 4, '001111101101101 000000000000000': 1, '001001011011011 000000000000000': 1, '000001000100000 000000000000000': 1, '000010010101000 000000000000000': 4, '000011010100011 000000000000000': 1, '000000000110011 000000000000000': 4, '001001110011011 000000000000000': 2, '000010100000110 000000000000000': 2, '000001110011100 000000000000000': 2, '001100001011111 000000000000000': 2, '000111010101011 000000000000000': 3, '001110000101100 000000000000000': 3, '001110001001010 000000000000000': 3, '001011010000110 000000000000000': 2, '001111000000110 000000000000000': 4, '000001111011110 000000000000000': 1, '000010111001001 000000000000000': 3, '001111010011100 000000000000000': 4, '000101011010111 000000000000000': 4, '001011011000100 000000000000000': 2, '000000000001100 000000000000000': 2, '000010000101100 000000000000000': 1, '000111001000000 000000000000000': 1, '001111100111000 000000000000000': 2, '000010001101101 000000000000000': 2, '000110011010100 000000000000000': 2, '001000000101100 000000000000000': 3, '001110101100110 000000000000000': 3, '001110100110110 000000000000000': 2, '001111001101001 000000000000000': 5, '000110010101010 000000000000000': 2, '001110010110110 000000000000000': 1, '001100000100001 000000000000000': 4, '001011001010010 000000000000000': 5, '001111110111100 000000000000000': 1, '000110000011110 000000000000000': 2, '000000000010001 000000000000000': 2, '000001001101110 000000000000000': 2, '001111101011011 000000000000000': 1, '000001101011001 000000000000000': 2, '001111001101100 000000000000000': 3, '001100101011110 000000000000000': 4, '001110010110011 000000000000000': 2, '000100010111111 000000000000000': 1, '001100010000111 000000000000000': 5, '000100000100110 000000000000000': 7, '001111000100100 000000000000000': 2, '000011100110010 000000000000000': 1, '000001111111001 000000000000000': 1, '000000011000000 000000000000000': 2, '000110011010001 000000000000000': 2, '001011011011111 000000000000000': 2, '001111111000100 000000000000000': 3, '000001000000001 000000000000000': 2, '000100111110101 000000000000000': 2, '000111001001111 000000000000000': 4, '001001001100110 000000000000000': 4, '001011000001110 000000000000000': 2, '000110110101101 000000000000000': 1, '000010011110100 000000000000000': 4, '000010000000001 000000000000000': 1, '001111001110111 000000000000000': 1, '001000110010110 000000000000000': 4, '001001010100011 000000000000000': 4, '001000110000100 000000000000000': 2, '001111100101100 000000000000000': 4, '001100101110110 000000000000000': 1, '001111101000110 000000000000000': 4, '000100000110010 000000000000000': 2, '001100000011000 000000000000000': 1, '000001000001110 000000000000000': 2, '000011101111100 000000000000000': 3, '000010000101010 000000000000000': 1, '001000111011101 000000000000000': 3, '000100111010100 000000000000000': 2, '000010100111100 000000000000000': 4, '001111000110101 000000000000000': 1, '000001011000100 000000000000000': 2, '001101100100111 000000000000000': 1, '001010010000100 000000000000000': 2, '001100111101001 000000000000000': 3, '001110010111010 000000000000000': 2, '000100110000010 000000000000000': 3, '001100010100011 000000000000000': 2, '000111101010110 000000000000000': 3, '000000011001111 000000000000000': 1, '000000010011010 000000000000000': 2, '001110001101000 000000000000000': 3, '001001010011001 000000000000000': 3, '000110101111010 000000000000000': 5, '001101000000010 000000000000000': 1, '001011011111101 000000000000000': 1, '000001110110001 000000000000000': 2, '000101101000110 000000000000000': 4, '000111101110010 000000000000000': 2, '000000101010111 000000000000000': 5, '000001000111101 000000000000000': 6, '001100100101001 000000000000000': 1, '000111001110101 000000000000000': 1, '001000101101001 000000000000000': 4, '001001100111110 000000000000000': 2, '000000110110011 000000000000000': 1, '001110000110111 000000000000000': 1, '000000101110000 000000000000000': 3, '000101111010110 000000000000000': 2, '000000010001101 000000000000000': 1, '001101111100010 000000000000000': 3, '000111011110010 000000000000000': 5, '000000101101101 000000000000000': 3, '001100000110110 000000000000000': 2, '000110100001000 000000000000000': 1, '001010110000110 000000000000000': 3, '000011100111101 000000000000000': 3, '000111101011010 000000000000000': 4, '000100010010001 000000000000000': 2, '000110110101000 000000000000000': 2, '000001001001001 000000000000000': 2, '000111100110110 000000000000000': 1, '001111100010000 000000000000000': 2, '001111110101000 000000000000000': 3, '001001000111100 000000000000000': 2, '000100000001000 000000000000000': 3, '000011010101111 000000000000000': 4, '001100110000011 000000000000000': 1, '000000001000001 000000000000000': 1, '000011111011100 000000000000000': 2, '000101000111001 000000000000000': 5, '000011010101010 000000000000000': 3, '000101100101111 000000000000000': 5, '000000101101000 000000000000000': 1, '001111001110010 000000000000000': 2, '000100000001011 000000000000000': 2, '001101001000110 000000000000000': 3, '001100101110000 000000000000000': 1, '001100011111111 000000000000000': 3, '000010101111000 000000000000000': 1, '000011101000101 000000000000000': 1, '000101111011001 000000000000000': 4, '001001100111011 000000000000000': 2, '001110001101011 000000000000000': 3, '000101111110111 000000000000000': 2, '000101101001111 000000000000000': 2, '000100110010110 000000000000000': 4, '001000110011100 000000000000000': 1, '001100000110101 000000000000000': 3, '001101011000111 000000000000000': 1, '001110111111001 000000000000000': 2, '001101100100001 000000000000000': 3, '001001001101001 000000000000000': 1, '001011011001101 000000000000000': 4, '001001001111110 000000000000000': 1, '000011111111110 000000000000000': 6, '000001011110001 000000000000000': 3, '001101100100010 000000000000000': 3, '001001011101101 000000000000000': 2, '000111111100111 000000000000000': 1, '001011001101011 000000000000000': 4, '000110110110110 000000000000000': 2, '001110011111110 000000000000000': 4, '001011111100010 000000000000000': 3, '001101111011011 000000000000000': 2, '001111100001110 000000000000000': 5, '001100011001111 000000000000000': 3, '001111000010111 000000000000000': 1, '001100001000111 000000000000000': 2, '001000011100101 000000000000000': 1, '001001110011110 000000000000000': 2, '001111011110000 000000000000000': 1, '001110011001000 000000000000000': 3, '000010110110100 000000000000000': 4, '001010010011100 000000000000000': 7, '001011010101110 000000000000000': 5, '001110101111000 000000000000000': 1, '001001010100000 000000000000000': 3, '000101110110110 000000000000000': 3, '001111101011110 000000000000000': 2, '000001101111000 000000000000000': 1, '001101111100100 000000000000000': 1, '001011100101011 000000000000000': 4, '000010010000101 000000000000000': 3, '000011000011000 000000000000000': 6, '001011000100110 000000000000000': 1, '001000111001100 000000000000000': 3, '000010011101001 000000000000000': 2, '000000011011101 000000000000000': 1, '000001001010111 000000000000000': 1, '000100101101010 000000000000000': 2, '001110010010001 000000000000000': 3, '001100001100110 000000000000000': 4, '000111000001110 000000000000000': 3, '000010011110001 000000000000000': 1, '001011100100010 000000000000000': 2, '000111110011001 000000000000000': 5, '000010110001000 000000000000000': 4, '000001111110110 000000000000000': 2, '000111011011010 000000000000000': 2, '000011000110110 000000000000000': 2, '001100001111000 000000000000000': 2, '001111010101001 000000000000000': 2, '001100100111011 000000000000000': 5, '001110111111010 000000000000000': 3, '001000100010010 000000000000000': 3, '001000011001101 000000000000000': 1, '000110111101111 000000000000000': 2, '001101110100000 000000000000000': 4, '001001000101110 000000000000000': 4, '001111110010001 000000000000000': 2, '001110101110001 000000000000000': 4, '001011011111000 000000000000000': 3, '000011110101110 000000000000000': 3, '000001011111101 000000000000000': 1, '000101100000010 000000000000000': 1, '000101100000100 000000000000000': 3, '001101110111101 000000000000000': 3, '000001110101111 000000000000000': 3, '000011110100001 000000000000000': 3, '001011001011110 000000000000000': 4, '000111011100011 000000000000000': 2, '000100010001010 000000000000000': 4, '000111011010101 000000000000000': 7, '000000110010010 000000000000000': 1, '000110001011111 000000000000000': 2, '000001010110011 000000000000000': 1, '000000010101111 000000000000000': 1, '001111110011101 000000000000000': 3, '001101110100011 000000000000000': 3, '000100110001000 000000000000000': 1, '000001100011011 000000000000000': 3, '000000011100111 000000000000000': 3, '001010110010100 000000000000000': 1, '001000010000011 000000000000000': 2, '000111111101011 000000000000000': 4, '001011011011001 000000000000000': 3, '000100110111101 000000000000000': 1, '001101000010000 000000000000000': 4, '000111101100000 000000000000000': 2, '000000101111010 000000000000000': 4, '000110111011111 000000000000000': 1, '000101100101100 000000000000000': 4, '000101101011101 000000000000000': 1, '000110000000011 000000000000000': 2, '001010101101110 000000000000000': 2, '001111011010001 000000000000000': 2, '001110011000001 000000000000000': 3, '000011101010001 000000000000000': 2, '001100011101110 000000000000000': 1, '000110111110100 000000000000000': 2, '000011110011000 000000000000000': 4, '000010101100000 000000000000000': 2, '001001100000111 000000000000000': 1, '001011010010100 000000000000000': 2, '001000011111101 000000000000000': 1, '001100101111010 000000000000000': 2, '000001110111011 000000000000000': 3, '001000110110001 000000000000000': 2, '000001010100100 000000000000000': 4, '000011001111101 000000000000000': 2, '001111010001000 000000000000000': 5, '000110110101011 000000000000000': 4, '000101111000001 000000000000000': 3, '000110100001110 000000000000000': 3, '001001110001001 000000000000000': 3, '000101011110011 000000000000000': 4, '000011101100100 000000000000000': 2, '001110011100110 000000000000000': 3, '001010101100001 000000000000000': 3, '001111010100011 000000000000000': 2, '001000010101101 000000000000000': 4, '001111010001110 000000000000000': 3, '001100000100100 000000000000000': 3, '000011001101010 000000000000000': 3, '001000010001010 000000000000000': 2, '000111101001110 000000000000000': 2, '000110010110111 000000000000000': 3, '000111001100001 000000000000000': 1, '000111010111001 000000000000000': 2, '000000001110100 000000000000000': 2, '001000000001101 000000000000000': 4, '000011110000011 000000000000000': 1, '001111001011001 000000000000000': 5, '001101101101100 000000000000000': 1, '000000010001000 000000000000000': 4, '000100111101101 000000000000000': 2, '000000110110000 000000000000000': 1, '001100000110011 000000000000000': 1, '001100001011001 000000000000000': 2, '000100111110000 000000000000000': 3, '001010110101000 000000000000000': 1, '000101100001110 000000000000000': 1, '001011000000001 000000000000000': 4, '001110101011100 000000000000000': 1, '000010111001111 000000000000000': 2, '000101111110100 000000000000000': 3, '001111100100101 000000000000000': 1, '001110100100100 000000000000000': 2, '001100110010010 000000000000000': 2, '000001001111111 000000000000000': 3, '001011100111111 000000000000000': 3, '000011010100101 000000000000000': 2, '000001100011101 000000000000000': 3, '000100000001110 000000000000000': 3, '001001011000110 000000000000000': 4, '000111100000000 000000000000000': 4, '001100010010011 000000000000000': 2, '001010100111011 000000000000000': 6, '001110110001000 000000000000000': 3, '000011100110111 000000000000000': 7, '000010111111111 000000000000000': 3, '001101101010000 000000000000000': 1, '000001011100000 000000000000000': 2, '001100011110011 000000000000000': 3, '000011111101001 000000000000000': 2, '001000110100110 000000000000000': 2, '000101111100101 000000000000000': 5, '000001001011011 000000000000000': 2, '000100000000010 000000000000000': 4, '000110110100001 000000000000000': 3, '001000001011011 000000000000000': 3, '001000000010000 000000000000000': 4, '000010101101100 000000000000000': 2, '000110110010100 000000000000000': 2, '000011011011110 000000000000000': 3, '001110111010010 000000000000000': 3, '001101001001001 000000000000000': 1, '000001000100011 000000000000000': 1, '000011111001110 000000000000000': 3, '001000010010010 000000000000000': 3, '001010101101000 000000000000000': 1, '001001110101101 000000000000000': 2, '000011111010000 000000000000000': 2, '001100110011110 000000000000000': 2, '001101100111111 000000000000000': 3, '000001100010001 000000000000000': 3, '001110101010000 000000000000000': 1, '000001110100110 000000000000000': 3, '001110001110000 000000000000000': 3, '001010000011110 000000000000000': 1, '000100101011010 000000000000000': 2, '000110101101110 000000000000000': 1, '000111011001011 000000000000000': 2, '000110100111011 000000000000000': 4, '000110000100010 000000000000000': 1, '001100000010010 000000000000000': 4, '000000011010001 000000000000000': 5, '001000100010100 000000000000000': 2, '000111101110001 000000000000000': 2, '001001100011111 000000000000000': 3, '001011011011010 000000000000000': 4, '000011100010000 000000000000000': 2, '000100110010000 000000000000000': 1, '000111110100000 000000000000000': 1, '000001000111000 000000000000000': 2, '000101111100110 000000000000000': 4, '001111001110001 000000000000000': 3, '000111101110111 000000000000000': 1, '001010001001110 000000000000000': 3, '000101110100100 000000000000000': 3, '001010110101101 000000000000000': 3, '001100000000101 000000000000000': 5, '000100110000100 000000000000000': 1, '000010000111101 000000000000000': 6, '000111111101000 000000000000000': 3, '001100011010001 000000000000000': 1, '001010001101111 000000000000000': 1, '000100110101010 000000000000000': 4, '001010101100111 000000000000000': 3, '000001100111010 000000000000000': 3, '001010001010110 000000000000000': 1, '000010000111011 000000000000000': 2, '000101001101010 000000000000000': 2, '000110110010111 000000000000000': 4, '001010010011010 000000000000000': 5, '001101100110110 000000000000000': 2, '001100100110111 000000000000000': 4, '000110001101010 000000000000000': 1, '001011101111101 000000000000000': 2, '001010100100000 000000000000000': 3, '001001000010100 000000000000000': 6, '001100001110111 000000000000000': 2, '001100010010110 000000000000000': 2, '000011000010100 000000000000000': 1, '000111101011111 000000000000000': 3, '001101001011101 000000000000000': 2, '001000100000011 000000000000000': 1, '001100000111100 000000000000000': 1, '000111001110110 000000000000000': 3, '001010000011101 000000000000000': 4, '001001000010010 000000000000000': 1, '000101000111100 000000000000000': 4, '001001101100100 000000000000000': 1, '000010000010000 000000000000000': 4, '000110010011111 000000000000000': 4, '001110110110100 000000000000000': 2, '000110100000111 000000000000000': 2, '001111101100111 000000000000000': 2, '001110011000100 000000000000000': 4, '000010010111010 000000000000000': 5, '000100100101011 000000000000000': 1, '001111110101110 000000000000000': 6, '000100110001110 000000000000000': 4, '000100101101001 000000000000000': 4, '001100001101001 000000000000000': 1, '001110101000001 000000000000000': 2, '000100100101110 000000000000000': 2, '001111111010110 000000000000000': 1, '001010101111100 000000000000000': 1, '001001000000000 000000000000000': 2, '000000101110011 000000000000000': 3, '000100111111111 000000000000000': 1, '001101101011100 000000000000000': 3, '001000010111010 000000000000000': 3, '001000101101111 000000000000000': 2, '000110101011011 000000000000000': 3, '001010110001001 000000000000000': 8, '001110111001100 000000000000000': 4, '000110011101110 000000000000000': 3, '001001011101110 000000000000000': 2, '001001101110101 000000000000000': 2, '000011111001101 000000000000000': 1, '000100110100000 000000000000000': 3, '001101011100011 000000000000000': 3, '001101100001001 000000000000000': 4, '001110111011011 000000000000000': 1, '001100010111000 000000000000000': 3, '001000101100011 000000000000000': 1, '001100011101101 000000000000000': 3, '001101011101100 000000000000000': 2, '000010111100111 000000000000000': 1, '000011010110001 000000000000000': 1, '000100101110111 000000000000000': 3, '001101110100110 000000000000000': 1, '001011011101100 000000000000000': 4, '000100001111100 000000000000000': 2, '000100000100011 000000000000000': 1, '000001110001000 000000000000000': 4, '000000001011001 000000000000000': 4, '001000010111100 000000000000000': 1, '000101011011101 000000000000000': 2, '000100000111101 000000000000000': 4, '001001010001110 000000000000000': 4, '001101111110101 000000000000000': 2, '001111100011100 000000000000000': 3, '001100111011100 000000000000000': 5, '000010011001011 000000000000000': 1, '000011001110010 000000000000000': 1, '001001111111011 000000000000000': 2, '001111111001110 000000000000000': 6, '001111101000101 000000000000000': 1, '000111111110011 000000000000000': 1, '000101111101001 000000000000000': 4, '001111101010100 000000000000000': 1, '001110110110001 000000000000000': 1, '000100110001101 000000000000000': 3, '001101011000100 000000000000000': 2, '000011100001000 000000000000000': 1, '001011010010010 000000000000000': 6, '000000001011100 000000000000000': 3, '000011111001000 000000000000000': 3, '001110100110011 000000000000000': 2, '000111111111100 000000000000000': 3, '000110101001100 000000000000000': 2, '001100101000110 000000000000000': 2, '000010000111000 000000000000000': 3, '001110000111101 000000000000000': 4, '000010101000111 000000000000000': 3, '000100001100010 000000000000000': 1, '000100110001011 000000000000000': 3, '000001010010010 000000000000000': 5, '001001100101100 000000000000000': 3, '001110001100111 000000000000000': 2, '000110111001110 000000000000000': 2, '001010001011010 000000000000000': 4, '000100010110000 000000000000000': 5, '001000101101010 000000000000000': 3, '001110100100111 000000000000000': 2, '001101110101100 000000000000000': 2, '001101111101110 000000000000000': 2, '000001010000110 000000000000000': 2, '000110011011011 000000000000000': 3, '001001101000011 000000000000000': 3, '000011100011111 000000000000000': 4, '000111110001011 000000000000000': 3, '001100111001011 000000000000000': 4, '001111110010100 000000000000000': 2, '000010110000010 000000000000000': 3, '000001111101101 000000000000000': 5, '000000111001101 000000000000000': 1, '001111011110011 000000000000000': 1, '000000111110001 000000000000000': 3, '001100000010001 000000000000000': 6, '000001110010101 000000000000000': 4, '000001011110100 000000000000000': 3, '001011101011001 000000000000000': 3, '000000011100010 000000000000000': 3, '000011010111101 000000000000000': 4, '001001100110001 000000000000000': 3, '000010010010100 000000000000000': 3, '001010011001010 000000000000000': 1, '000111101101111 000000000000000': 2, '001110100101011 000000000000000': 2, '000110111011001 000000000000000': 2, '000111000101100 000000000000000': 3, '000110100110111 000000000000000': 4, '000111100101011 000000000000000': 2, '000100000101001 000000000000000': 4, '000101110011110 000000000000000': 3, '001111111111000 000000000000000': 3, '001011001001111 000000000000000': 5, '000110100100101 000000000000000': 5, '001111001101010 000000000000000': 2, '000101010101010 000000000000000': 2, '001101000110100 000000000000000': 6, '001111000100111 000000000000000': 3, '001111111111101 000000000000000': 4, '000010001111100 000000000000000': 4, '000000011110011 000000000000000': 4, '001101010110000 000000000000000': 2, '000010011110111 000000000000000': 1, '000011101000000 000000000000000': 2, '000000100001110 000000000000000': 3, '001001001101010 000000000000000': 3, '000110111010000 000000000000000': 4, '000101011111100 000000000000000': 3, '000101100000001 000000000000000': 2, '000011000111111 000000000000000': 2, '000000010001110 000000000000000': 1, '000011000101101 000000000000000': 3, '000000110100100 000000000000000': 1, '000001101000001 000000000000000': 3, '000011101001111 000000000000000': 4, '000101101101101 000000000000000': 3, '001100111001000 000000000000000': 1, '001000011000111 000000000000000': 2, '001010110100010 000000000000000': 3, '001011010111100 000000000000000': 1, '001101001111010 000000000000000': 5, '001000001010010 000000000000000': 1, '001110001010001 000000000000000': 4, '001111101100010 000000000000000': 3, '001000000001000 000000000000000': 2, '000010101111110 000000000000000': 4, '000111110001000 000000000000000': 5, '001011011010110 000000000000000': 2, '000100001000011 000000000000000': 1, '001000111110000 000000000000000': 3, '000001110110111 000000000000000': 1, '000010111110000 000000000000000': 3, '000011000100100 000000000000000': 1, '001101011101111 000000000000000': 2, '000001010011110 000000000000000': 5, '000001101010101 000000000000000': 2, '000111001000011 000000000000000': 1, '001010000001111 000000000000000': 1, '000100011010101 000000000000000': 1, '000111100000101 000000000000000': 4, '000110000001010 000000000000000': 2, '001000000111000 000000000000000': 2, '000011000000110 000000000000000': 2, '001101100101000 000000000000000': 1, '000100111100100 000000000000000': 1, '001100010111110 000000000000000': 3, '000110001110111 000000000000000': 6, '000001110000111 000000000000000': 4, '000011110011110 000000000000000': 3, '000100001010111 000000000000000': 2, '001010100100011 000000000000000': 1, '000101100011001 000000000000000': 3, '001111100001000 000000000000000': 3, '000101010010000 000000000000000': 1, '001000101000010 000000000000000': 3, '000100100110110 000000000000000': 3, '001011110111000 000000000000000': 2, '001010100111000 000000000000000': 4, '001111001111110 000000000000000': 1, '001000000000001 000000000000000': 1, '001011111010111 000000000000000': 3, '001110101110010 000000000000000': 3, '000101001100110 000000000000000': 4, '000101101110110 000000000000000': 2, '000111000100000 000000000000000': 3, '001000111011011 000000000000000': 3, '001010010100110 000000000000000': 2, '000100101111011 000000000000000': 3, '000100010101110 000000000000000': 2, '000000010100000 000000000000000': 3, '001001010000111 000000000000000': 3, '000011101111111 000000000000000': 2, '000100010011101 000000000000000': 2, '000110001000001 000000000000000': 5, '001011101011010 000000000000000': 3, '001000010011110 000000000000000': 1, '001011110000010 000000000000000': 3, '001000001110011 000000000000000': 4, '000000101000000 000000000000000': 1, '000001000010110 000000000000000': 3, '001011101100011 000000000000000': 2, '001011101111110 000000000000000': 1, '000101100111110 000000000000000': 2, '001110100010001 000000000000000': 2, '001000101111110 000000000000000': 3, '001000001001111 000000000000000': 3, '001110111100111 000000000000000': 1, '001011011100110 000000000000000': 4, '000110000100001 000000000000000': 2, '001000000110100 000000000000000': 2, '000111100011011 000000000000000': 1, '000110110100111 000000000000000': 1, '001010111000100 000000000000000': 1, '000100101111110 000000000000000': 1, '000101110000101 000000000000000': 1, '001001111011001 000000000000000': 3, '000010011111110 000000000000000': 1, '000011111111011 000000000000000': 4, '000011100110001 000000000000000': 1, '000111101011001 000000000000000': 2, '001100011001010 000000000000000': 2, '000111000110100 000000000000000': 2, '000011000011110 000000000000000': 2, '001001101011110 000000000000000': 1, '000001011010110 000000000000000': 3, '000111110001101 000000000000000': 4, '000100010111100 000000000000000': 5, '000101011001001 000000000000000': 1, '000011111110001 000000000000000': 1, '000000010111110 000000000000000': 4, '000110100110001 000000000000000': 3, '000100000111011 000000000000000': 2, '000011001110100 000000000000000': 3, '000100011100110 000000000000000': 2, '000001101010000 000000000000000': 3, '000101100010110 000000000000000': 2, '000011111011111 000000000000000': 3, '001111100110111 000000000000000': 1, '000101101010100 000000000000000': 3, '001011110001011 000000000000000': 2, '000111110010000 000000000000000': 2, '000001110100101 000000000000000': 3, '000010011111011 000000000000000': 4, '000001000011010 000000000000000': 2, '000100011011010 000000000000000': 1, '000101110001111 000000000000000': 4, '001011101110001 000000000000000': 3, '000010001011110 000000000000000': 1, '000110101011000 000000000000000': 2, '000010011100011 000000000000000': 1, '001001011101011 000000000000000': 1, '001001101000110 000000000000000': 4, '001011111001100 000000000000000': 1, '000000111100110 000000000000000': 2, '001100011010111 000000000000000': 1, '001000011011100 000000000000000': 3, '000000110011000 000000000000000': 3, '000011011000011 000000000000000': 1, '000111010010111 000000000000000': 1, '001110100011101 000000000000000': 1, '000111101110100 000000000000000': 2, '001111000000101 000000000000000': 2, '000111000110001 000000000000000': 3, '000111100100001 000000000000000': 4, '001101111111001 000000000000000': 2, '000000100110010 000000000000000': 4, '000000001011010 000000000000000': 3, '001011001001001 000000000000000': 4, '000001110111000 000000000000000': 2, '000010001100001 000000000000000': 1, '000010001111010 000000000000000': 1, '000101110101110 000000000000000': 2, '001000011101010 000000000000000': 5, '000110000000000 000000000000000': 2, '001010001010000 000000000000000': 1, '000100001101000 000000000000000': 3, '001001111111000 000000000000000': 2, '001110101101111 000000000000000': 2, '001100100101100 000000000000000': 3, '000100111101011 000000000000000': 1, '001001100110111 000000000000000': 2, '001100111000010 000000000000000': 5, '001001111011100 000000000000000': 2, '000000110111010 000000000000000': 2, '000110111000001 000000000000000': 2, '000100110011001 000000000000000': 1, '001000000000111 000000000000000': 1, '000110010101100 000000000000000': 2, '001011110011010 000000000000000': 1, '000110110001100 000000000000000': 4, '000101011100010 000000000000000': 4, '000000000001111 000000000000000': 1, '001000111000101 000000000000000': 2, '000000100011100 000000000000000': 1, '001110111001010 000000000000000': 2, '001110011101111 000000000000000': 1, '001111001010101 000000000000000': 3, '000000110010111 000000000000000': 3, '000011010111110 000000000000000': 3, '001111010110010 000000000000000': 1, '001000110001101 000000000000000': 2, '001000000011001 000000000000000': 2, '001011010011110 000000000000000': 4, '001101010100111 000000000000000': 2, '000111000100011 000000000000000': 1, '001001011000011 000000000000000': 2, '000110010001000 000000000000000': 1, '001101010001111 000000000000000': 1, '000001111011000 000000000000000': 2, '000110101110000 000000000000000': 1, '000011100101010 000000000000000': 4, '000010011011001 000000000000000': 2, '001100011110110 000000000000000': 1, '001100100100101 000000000000000': 2, '000111000011010 000000000000000': 3, '001111001001011 000000000000000': 1, '000011111010101 000000000000000': 5, '001001000100100 000000000000000': 3, '001001111101010 000000000000000': 3, '000100111100111 000000000000000': 2, '000001101110111 000000000000000': 3, '000110010100011 000000000000000': 2, '001101100111001 000000000000000': 5, '000001100110000 000000000000000': 3, '001100110001001 000000000000000': 3, '001110110010011 000000000000000': 1, '001110110001011 000000000000000': 5, '001100101011011 000000000000000': 3, '001101101001000 000000000000000': 2, '001010010001101 000000000000000': 2, '001001101111100 000000000000000': 2, '001101000100110 000000000000000': 3, '000100011010110 000000000000000': 1, '001010000110011 000000000000000': 6, '001000010111111 000000000000000': 4, '001011101101010 000000000000000': 2, '001110001001100 000000000000000': 1, '001100111100101 000000000000000': 3, '001001001100101 000000000000000': 2, '001111001111000 000000000000000': 2, '000101111110001 000000000000000': 1, '001110101101100 000000000000000': 4, '001011110010110 000000000000000': 5, '001011111000110 000000000000000': 6, '000111011110100 000000000000000': 2, '000011011000110 000000000000000': 4, '000100111111010 000000000000000': 1, '001101111110000 000000000000000': 1, '000101000100001 000000000000000': 3, '000111001101101 000000000000000': 1, '001001001000010 000000000000000': 2, '000000110011101 000000000000000': 1, '000010001100111 000000000000000': 2, '001110100110101 000000000000000': 2, '000101011101011 000000000000000': 5, '001011101010101 000000000000000': 1, '000000001111011 000000000000000': 1, '001110100010010 000000000000000': 3, '000000011001010 000000000000000': 3, '000000111110010 000000000000000': 2, '000011100010101 000000000000000': 3, '000001010101000 000000000000000': 1, '001111111100000 000000000000000': 3, '000011001010110 000000000000000': 2, '001000101110111 000000000000000': 1, '001111101011000 000000000000000': 4, '000001101000010 000000000000000': 3, '001110000101111 000000000000000': 4, '000100001110011 000000000000000': 1, '000001100111001 000000000000000': 2, '000000100001000 000000000000000': 1, '000100110110111 000000000000000': 2, '000010000100101 000000000000000': 3, '001000011100000 000000000000000': 2, '000100111001001 000000000000000': 1, '000101010101111 000000000000000': 4, '001001011100111 000000000000000': 2, '000010011000010 000000000000000': 3, '001000010100100 000000000000000': 4, '000100100010001 000000000000000': 2, '000101111011111 000000000000000': 2, '000011011110110 000000000000000': 3, '000101110111111 000000000000000': 2, '001100110001111 000000000000000': 3, '001001010010011 000000000000000': 5, '000111110101111 000000000000000': 4, '001011110110010 000000000000000': 2, '001110100101101 000000000000000': 3, '000010111001100 000000000000000': 4, '001001111110010 000000000000000': 2, '000111101010000 000000000000000': 2, '001111010100110 000000000000000': 4, '000100110101100 000000000000000': 3, '000001000011001 000000000000000': 2, '000101111101111 000000000000000': 4, '000011010001011 000000000000000': 1, '000101111011010 000000000000000': 1, '001110000101010 000000000000000': 2, '001100111111011 000000000000000': 3, '000011110111010 000000000000000': 3, '000001011011100 000000000000000': 2, '000110001011010 000000000000000': 2, '000111101111110 000000000000000': 3, '001110101111011 000000000000000': 1, '001110010110000 000000000000000': 2, '000011010110100 000000000000000': 2, '000000111011010 000000000000000': 2, '001101010100001 000000000000000': 2, '000000101101110 000000000000000': 2, '001101111001111 000000000000000': 3, '000111100110000 000000000000000': 5, '000110100101010 000000000000000': 2, '000011111100011 000000000000000': 3, '001011011100101 000000000000000': 2, '001001010000001 000000000000000': 5, '000111111010001 000000000000000': 1, '000010101100101 000000000000000': 1, '000100111011000 000000000000000': 1, '000010001100100 000000000000000': 3, '000111001101110 000000000000000': 1, '000010101110001 000000000000000': 3, '000100100100100 000000000000000': 1, '001100000001111 000000000000000': 2, '001011101010000 000000000000000': 6, '001000100100001 000000000000000': 1, '000000110000101 000000000000000': 1, '000111011010110 000000000000000': 6, '001001111001011 000000000000000': 2, '000011101111010 000000000000000': 2, '000111111001111 000000000000000': 3, '000100101000111 000000000000000': 3, '001100000111001 000000000000000': 4, '000111100101101 000000000000000': 4, '000000010111101 000000000000000': 1, '001101001010001 000000000000000': 2, '001110000111000 000000000000000': 5, '000111011110111 000000000000000': 3, '000101110110101 000000000000000': 1, '001110001111100 000000000000000': 3, '000111001010111 000000000000000': 1, '001000000000010 000000000000000': 3, '001001101000101 000000000000000': 2, '000000000111010 000000000000000': 4, '000111011111101 000000000000000': 1, '000110010001101 000000000000000': 3, '000100101110010 000000000000000': 3, '001010000111100 000000000000000': 3, '001010010000111 000000000000000': 1, '001111111111110 000000000000000': 3, '000000110110101 000000000000000': 2, '001011000100101 000000000000000': 1, '001100111110100 000000000000000': 2, '001100110101011 000000000000000': 2, '001001001110111 000000000000000': 1, '001001001110100 000000000000000': 4, '000010000001011 000000000000000': 1, '000000111001110 000000000000000': 4, '000101011110110 000000000000000': 4, '001101011010000 000000000000000': 2, '001010110000000 000000000000000': 3, '000011000110000 000000000000000': 1, '000101101100010 000000000000000': 2, '001110110000001 000000000000000': 4, '000011010101001 000000000000000': 2, '000001101101001 000000000000000': 1, '000101011111010 000000000000000': 3, '001111010101010 000000000000000': 3, '000101000111111 000000000000000': 3, '000011110010111 000000000000000': 1, '000000000100111 000000000000000': 1, '000011101011110 000000000000000': 1, '000001000000010 000000000000000': 3, '001010000110110 000000000000000': 4, '000000100101001 000000000000000': 2, '001101100001100 000000000000000': 2, '000000011111001 000000000000000': 3, '000110110111001 000000000000000': 2, '000010001100010 000000000000000': 5, '000011001110001 000000000000000': 2, '000100111011011 000000000000000': 3, '001101010001100 000000000000000': 2, '000000000110000 000000000000000': 4, '000011011011101 000000000000000': 1, '001011100011011 000000000000000': 2, '000100010100111 000000000000000': 5, '000100010011011 000000000000000': 2, '001000110011001 000000000000000': 2, '001001111000010 000000000000000': 4, '001000101000100 000000000000000': 1, '000111011001101 000000000000000': 2, '000000110110110 000000000000000': 4, '000010111101000 000000000000000': 1, '001001110000101 000000000000000': 1, '001100101101000 000000000000000': 3, '000110110111010 000000000000000': 1, '000000001101001 000000000000000': 2, '000001011010000 000000000000000': 3, '000010111100010 000000000000000': 1, '000001001110110 000000000000000': 2, '001011011101111 000000000000000': 1, '001111011000000 000000000000000': 2, '001010001100101 000000000000000': 1, '000100010010111 000000000000000': 2, '001100100011001 000000000000000': 2, '001111110100001 000000000000000': 2, '000010100100001 000000000000000': 3, '001001000011110 000000000000000': 4, '000001110101100 000000000000000': 4, '001000001101110 000000000000000': 1, '000111001001100 000000000000000': 1, '001100000011011 000000000000000': 5, '000001000100110 000000000000000': 3, '000101100001000 000000000000000': 1, '001001001110010 000000000000000': 2, '000011110000101 000000000000000': 3, '000110000000110 000000000000000': 3, '001010111110111 000000000000000': 2, '001111011001010 000000000000000': 1, '000111000010101 000000000000000': 3, '001011010110011 000000000000000': 3, '001000101100101 000000000000000': 1, '000010101001011 000000000000000': 4, '001010101011011 000000000000000': 3, '001111100101010 000000000000000': 1, '001101111010111 000000000000000': 3, '000010101001101 000000000000000': 3, '000110011000110 000000000000000': 3, '001101101010110 000000000000000': 4, '001101101111101 000000000000000': 3, '001100111101111 000000000000000': 3, '000100111101110 000000000000000': 2, '001011111100001 000000000000000': 3, '001100010111101 000000000000000': 3, '001000101001000 000000000000000': 5, '000000111010011 000000000000000': 4, '000011010001101 000000000000000': 2, '000100100000101 000000000000000': 2, '001000010100001 000000000000000': 3, '001010010010011 000000000000000': 3, '000100011000100 000000000000000': 1, '001110001000011 000000000000000': 2, '000100101010000 000000000000000': 3, '000101000110011 000000000000000': 2, '001110110111101 000000000000000': 2, '001111100011111 000000000000000': 1, '000111011000001 000000000000000': 5, '000010100110000 000000000000000': 4, '000010110100101 000000000000000': 3, '000001100101011 000000000000000': 3, '001100010010101 000000000000000': 5, '001110100011110 000000000000000': 4, '001101011110001 000000000000000': 1, '000000111001011 000000000000000': 2, '000011011100100 000000000000000': 1, '001000000001011 000000000000000': 6, '000101000001111 000000000000000': 6, '001000101111000 000000000000000': 5, '000000000011011 000000000000000': 1, '000011010101100 000000000000000': 1, '000111000110111 000000000000000': 2, '000001001110101 000000000000000': 3, '000110001100011 000000000000000': 3, '000001001111010 000000000000000': 1, '001100001011100 000000000000000': 3, '000011110001100 000000000000000': 3, '000111011100101 000000000000000': 3, '000010001010001 000000000000000': 1, '000111011101010 000000000000000': 2, '000101001111011 000000000000000': 2, '001010011100001 000000000000000': 3, '000000111111110 000000000000000': 4, '000100100011101 000000000000000': 1, '001111011001100 000000000000000': 1, '000111011000100 000000000000000': 3, '001001011010010 000000000000000': 4, '001001100001000 000000000000000': 3, '001111101110110 000000000000000': 3, '000010101010110 000000000000000': 1, '000000110001111 000000000000000': 4, '000000111001000 000000000000000': 2, '001111101110011 000000000000000': 1, '000101000000000 000000000000000': 2, '000011001010000 000000000000000': 3, '001100111001101 000000000000000': 2, '000010111111001 000000000000000': 2, '001001001001101 000000000000000': 4, '001001010010110 000000000000000': 2, '001000100101011 000000000000000': 3, '001111011110110 000000000000000': 1, '001011111011000 000000000000000': 2, '000010001110000 000000000000000': 3, '001001111111101 000000000000000': 2, '001110100100010 000000000000000': 3, '001010001100000 000000000000000': 4, '000011001110111 000000000000000': 1, '000011011111111 000000000000000': 5, '001100110111001 000000000000000': 2, '000010000101111 000000000000000': 2, '000110010001011 000000000000000': 1, '001011001110011 000000000000000': 1, '000111000000001 000000000000000': 1, '000010111001010 000000000000000': 1, '001000111111111 000000000000000': 1, '000000110001001 000000000000000': 2, '000101011101101 000000000000000': 4, '000001000110010 000000000000000': 1, '000011100100101 000000000000000': 2, '001011110010000 000000000000000': 1, '001111010011111 000000000000000': 2, '001001011001010 000000000000000': 2, '000111000000100 000000000000000': 2, '000110111100011 000000000000000': 3, '000110010110010 000000000000000': 1, '000101010111011 000000000000000': 1, '000100101001011 000000000000000': 5, '001011111011101 000000000000000': 2, '001110001111010 000000000000000': 2, '000101011101000 000000000000000': 3, '001100001001000 000000000000000': 1, '001010111010000 000000000000000': 1, '000010111010100 000000000000000': 2, '001000010111001 000000000000000': 2, '000001001101000 000000000000000': 3, '001001110001111 000000000000000': 3, '001101000111110 000000000000000': 3, '001000111000110 000000000000000': 2, '000001101101100 000000000000000': 2, '000111100001100 000000000000000': 2, '001000100111001 000000000000000': 3, '001001011110101 000000000000000': 3, '000011111000010 000000000000000': 1, '001000001100111 000000000000000': 2, '000010100111001 000000000000000': 1, '000000010011111 000000000000000': 2, '000100011111011 000000000000000': 1, '001110110011111 000000000000000': 4, '000010001010010 000000000000000': 1, '000100010000000 000000000000000': 4, '001101010011110 000000000000000': 3, '001001000110011 000000000000000': 3, '000010110010110 000000000000000': 1, '000111101000100 000000000000000': 1, '001111000110011 000000000000000': 4, '001001001001000 000000000000000': 3, '000000011100001 000000000000000': 3, '000110111100110 000000000000000': 2, '001101100001010 000000000000000': 3, '001101001010010 000000000000000': 2, '001010100100110 000000000000000': 1, '001010111011001 000000000000000': 2, '000001011101100 000000000000000': 1, '001101111001100 000000000000000': 1, '001101110001000 000000000000000': 2, '001011010110101 000000000000000': 1, '000110001001000 000000000000000': 2, '001001010010000 000000000000000': 1, '001010111101010 000000000000000': 3, '000010110101010 000000000000000': 2, '001000101110100 000000000000000': 3, '001110001001001 000000000000000': 2, '000010110011111 000000000000000': 5, '000110101100001 000000000000000': 7, '000100010101000 000000000000000': 4, '000100011000010 000000000000000': 3, '001110010101110 000000000000000': 4, '001101110010110 000000000000000': 1, '000011000100001 000000000000000': 4, '000000000011110 000000000000000': 2, '001100010100000 000000000000000': 2, '001010000111010 000000000000000': 3, '001111000111010 000000000000000': 5, '001011101001110 000000000000000': 1, '000110011001001 000000000000000': 2, '001100110100100 000000000000000': 1, '001011111101110 000000000000000': 1, '000100011101010 000000000000000': 1, '000011011010010 000000000000000': 4, '001011110011001 000000000000000': 2, '000010100101011 000000000000000': 1, '001100111110001 000000000000000': 4, '001110010000110 000000000000000': 6, '000110101101000 000000000000000': 4, '001101001100111 000000000000000': 3, '001011011011100 000000000000000': 1, '001100100110100 000000000000000': 2, '000101101110000 000000000000000': 2, '001111110110110 000000000000000': 3, '000110111000010 000000000000000': 1, '001110000101001 000000000000000': 1, '000010110110010 000000000000000': 2, '000001111101000 000000000000000': 2, '000111111010010 000000000000000': 2, '000111010011101 000000000000000': 3, '001000111111001 000000000000000': 5, '000101100010101 000000000000000': 2, '001001111000100 000000000000000': 4, '001100111101010 000000000000000': 4, '000011000001001 000000000000000': 2, '001000000010101 000000000000000': 3, '000111111000101 000000000000000': 1, '001000100001010 000000000000000': 1, '000011000001100 000000000000000': 3, '000110011110110 000000000000000': 3, '000111111000000 000000000000000': 1, '000100110000001 000000000000000': 5, '001000100001100 000000000000000': 3, '001111100010110 000000000000000': 2, '000001101111101 000000000000000': 1, '001000011001110 000000000000000': 1, '001111011110101 000000000000000': 3, '000111000101010 000000000000000': 2, '001011100000110 000000000000000': 3, '001000101010110 000000000000000': 4, '001000110011010 000000000000000': 4, '001010011100010 000000000000000': 1, '000000001000111 000000000000000': 3, '001101110111110 000000000000000': 3, '000010010010001 000000000000000': 1, '000010001101110 000000000000000': 3, '001000001000110 000000000000000': 1, '000001000001011 000000000000000': 4, '001000101111011 000000000000000': 2, '001101111011000 000000000000000': 2, '001000001100100 000000000000000': 1, '001001101111001 000000000000000': 2, '001110010111111 000000000000000': 2, '001111001011111 000000000000000': 4, '001010001011111 000000000000000': 2, '000111100010010 000000000000000': 2, '000000001111110 000000000000000': 3, '001011010110110 000000000000000': 3, '000101101100111 000000000000000': 5, '001101010000110 000000000000000': 2, '001110100111111 000000000000000': 2, '000010111100001 000000000000000': 1, '000000000001010 000000000000000': 1, '001001010011111 000000000000000': 3, '001100010001011 000000000000000': 6, '001001100001110 000000000000000': 4, '001001101000000 000000000000000': 4, '001011010000101 000000000000000': 1, '000001110010011 000000000000000': 1, '000010100010111 000000000000000': 3, '001000101110001 000000000000000': 2, '000011100100110 000000000000000': 5, '000000110010001 000000000000000': 2, '000101000101101 000000000000000': 3, '001000001101101 000000000000000': 2, '001001010110001 000000000000000': 1, '000110100010101 000000000000000': 3, '001101001001111 000000000000000': 6, '000010011101010 000000000000000': 1, '000101001001101 000000000000000': 5, '001100001010110 000000000000000': 3, '000011100100000 000000000000000': 5, '000111010000101 000000000000000': 1, '001001110101011 000000000000000': 1, '000001110011001 000000000000000': 1, '000011011111010 000000000000000': 1, '001011111100100 000000000000000': 1, '000011100000010 000000000000000': 3, '000101010111000 000000000000000': 1, '000001100100010 000000000000000': 1, '001111011000011 000000000000000': 1, '001010100001000 000000000000000': 1, '000011000011011 000000000000000': 1, '000011011100001 000000000000000': 4, '000000001010110 000000000000000': 1, '001010100101001 000000000000000': 2, '000001000110001 000000000000000': 3, '000001111110101 000000000000000': 2, '001100010100110 000000000000000': 3, '001111011111100 000000000000000': 5, '000010111011000 000000000000000': 3, '000001100110101 000000000000000': 1, '000000111011100 000000000000000': 1, '000100100100111 000000000000000': 3, '000000010101010 000000000000000': 3, '000000110101011 000000000000000': 2, '001100101000000 000000000000000': 2, '001110001010111 000000000000000': 2, '001101000111000 000000000000000': 1, '000100010000110 000000000000000': 3, '001100000001001 000000000000000': 3, '001010111001110 000000000000000': 2, '000010101010011 000000000000000': 1, '000001000010011 000000000000000': 1, '001000110110100 000000000000000': 2, '000011001111110 000000000000000': 2, '001111101010111 000000000000000': 1, '001111000011110 000000000000000': 3, '001110100010100 000000000000000': 4, '000000100001101 000000000000000': 2, '001011111101011 000000000000000': 1, '000110111010101 000000000000000': 4, '001111011000101 000000000000000': 3, '000001100100100 000000000000000': 1, '000010001000101 000000000000000': 1, '000001001001010 000000000000000': 2, '000101011110000 000000000000000': 2, '001101101011001 000000000000000': 2, '001001000001100 000000000000000': 2, '000001010001100 000000000000000': 2, '001000010101000 000000000000000': 1, '001011101011100 000000000000000': 3, '001101101010011 000000000000000': 3, '001101000101111 000000000000000': 1, '001011100110110 000000000000000': 4, '001110100011011 000000000000000': 3, '001001110010010 000000000000000': 2, '001101000010110 000000000000000': 2, '001010111011111 000000000000000': 3, '000111111001100 000000000000000': 2, '001011100100001 000000000000000': 5, '000001000101010 000000000000000': 3, '000101001101001 000000000000000': 3, '001101111110011 000000000000000': 1, '001110010101000 000000000000000': 3, '000110100010110 000000000000000': 2, '001011011101010 000000000000000': 1, '001011010110000 000000000000000': 4, '000111000101111 000000000000000': 2, '000100111000110 000000000000000': 3, '001101101000001 000000000000000': 5, '000000011010010 000000000000000': 2, '000001011000001 000000000000000': 2, '001001000111111 000000000000000': 3, '000001100110011 000000000000000': 4, '001101011110010 000000000000000': 1, '001011010001010 000000000000000': 1, '000101010011010 000000000000000': 3, '001010001011001 000000000000000': 4, '001111100100011 000000000000000': 2, '001100100010110 000000000000000': 1, '001010100011010 000000000000000': 2, '001111010010011 000000000000000': 4, '001010110011110 000000000000000': 4, '000111011110001 000000000000000': 2, '001110011010110 000000000000000': 1, '000000001010101 000000000000000': 1, '000101101100001 000000000000000': 5, '001001010100101 000000000000000': 3, '001100010101001 000000000000000': 5, '001100001101100 000000000000000': 4, '001111010010101 000000000000000': 2, '000101110000110 000000000000000': 1, '000001101101010 000000000000000': 3, '001110111001111 000000000000000': 2, '001110101011010 000000000000000': 2, '000110010101111 000000000000000': 2, '001000011100110 000000000000000': 2, '001010000001100 000000000000000': 2, '001010010001000 000000000000000': 1, '001011001101101 000000000000000': 3, '000100111000101 000000000000000': 3, '000001010011000 000000000000000': 2, '000010001010111 000000000000000': 1, '000111000000010 000000000000000': 4, '001101011110100 000000000000000': 1, '001011111111010 000000000000000': 2, '001111110110011 000000000000000': 2, '000110010110001 000000000000000': 1, '000100111100001 000000000000000': 3, '001111111110010 000000000000000': 2, '001101000110001 000000000000000': 3, '001000000100101 000000000000000': 1, '000101001011010 000000000000000': 4, '000111100000011 000000000000000': 5, '000000010111000 000000000000000': 1, '001111000101110 000000000000000': 1, '000111101111000 000000000000000': 3, '001100011100100 000000000000000': 1, '001011011001011 000000000000000': 2, '001010110011011 000000000000000': 1, '001110111110011 000000000000000': 4, '000000100100101 000000000000000': 3, '001111110001010 000000000000000': 2, '001111101010001 000000000000000': 2, '000011100010011 000000000000000': 2, '001001101010111 000000000000000': 3, '001001010101111 000000000000000': 2, '000001111001001 000000000000000': 2, '000100001000110 000000000000000': 4, '001011001010111 000000000000000': 4, '000110000001100 000000000000000': 1, '001111010111000 000000000000000': 1, '000011010111011 000000000000000': 1, '000101101111010 000000000000000': 2, '000011001000100 000000000000000': 4, '001001011001001 000000000000000': 3, '000001011100011 000000000000000': 1, '000010000011100 000000000000000': 1, '000111000010000 000000000000000': 3, '000100010001111 000000000000000': 1, '001011011110010 000000000000000': 2, '001100110101000 000000000000000': 2, '000110010001110 000000000000000': 1, '000000100000111 000000000000000': 1, '000110101100111 000000000000000': 1, '000101111000111 000000000000000': 4, '000001010000101 000000000000000': 3, '001001110111111 000000000000000': 5, '000101001000111 000000000000000': 2, '000110111010110 000000000000000': 2, '000010110100110 000000000000000': 3, '000100001011110 000000000000000': 3, '001010100010101 000000000000000': 5, '000001010110000 000000000000000': 1, '000010000100011 000000000000000': 2, '001110100001001 000000000000000': 2, '001011011110100 000000000000000': 2, '000110000111010 000000000000000': 2, '001101100110000 000000000000000': 2, '001100011111010 000000000000000': 1, '000010010101110 000000000000000': 6, '001000001001100 000000000000000': 2, '000110110000101 000000000000000': 2, '001110101010011 000000000000000': 3, '000000101011101 000000000000000': 1, '000100011100011 000000000000000': 2, '001001010000100 000000000000000': 2, '001110010011000 000000000000000': 2, '001010110010111 000000000000000': 1, '000010101000100 000000000000000': 2, '001000000011010 000000000000000': 2, '001100101010100 000000000000000': 1, '000000100010110 000000000000000': 3, '001011111010100 000000000000000': 1, '000101011001100 000000000000000': 2, '000100111001010 000000000000000': 2, '000000010010110 000000000000000': 1, '000000111010101 000000000000000': 4, '001000111100001 000000000000000': 4, '001100011011000 000000000000000': 2, '001000001011110 000000000000000': 2, '001010011011101 000000000000000': 2, '001000010001100 000000000000000': 1, '000011100011010 000000000000000': 2, '001111111010011 000000000000000': 2, '000101110110000 000000000000000': 2, '001000100101110 000000000000000': 3, '001001111001101 000000000000000': 2, '001100001111011 000000000000000': 4, '001100101111001 000000000000000': 4, '000010010001010 000000000000000': 1, '000000000000101 000000000000000': 1, '000111010000011 000000000000000': 2, '000000011011011 000000000000000': 1, '000000110100111 000000000000000': 4, '001101110000100 000000000000000': 1, '000111110111000 000000000000000': 2, '001100110011011 000000000000000': 2, '000001000001000 000000000000000': 2, '001000110010011 000000000000000': 3, '000011100111110 000000000000000': 2, '001110001000000 000000000000000': 1, '000011110100010 000000000000000': 3, '001000101001110 000000000000000': 1, '000010100111010 000000000000000': 3, '001101001011011 000000000000000': 2, '000100010110101 000000000000000': 3, '001111001011010 000000000000000': 3, '001111111101010 000000000000000': 3, '000110111111000 000000000000000': 2, '001001011010100 000000000000000': 2, '001000101001011 000000000000000': 2, '001010011001111 000000000000000': 4, '000110101010111 000000000000000': 3, '000101110111010 000000000000000': 2, '000000011000110 000000000000000': 2, '001001110010001 000000000000000': 2, '001111011011110 000000000000000': 2, '000100111000011 000000000000000': 3, '001000010110000 000000000000000': 2, '000101010001101 000000000000000': 2, '001101010010111 000000000000000': 1, '000001111011011 000000000000000': 2, '000110110011110 000000000000000': 1, '000111000001101 000000000000000': 1, '000111110010011 000000000000000': 1, '001110010010100 000000000000000': 2, '001101100101011 000000000000000': 3, '000010011101100 000000000000000': 3, '001001111101111 000000000000000': 1, '001010110100100 000000000000000': 2, '001110111111111 000000000000000': 2, '001111100100110 000000000000000': 1, '001011001101110 000000000000000': 1, '001100101101011 000000000000000': 1, '001001110011000 000000000000000': 3, '000110100000001 000000000000000': 3, '001001111101100 000000000000000': 1, '000001110010000 000000000000000': 3, '000010010111111 000000000000000': 2, '000010000100000 000000000000000': 2, '000000010000111 000000000000000': 2, '001010110010001 000000000000000': 1, '001010101010100 000000000000000': 3, '001011100111100 000000000000000': 1, '000010110010011 000000000000000': 2, '001111000001111 000000000000000': 1, '001010111100000 000000000000000': 3, '000001010100001 000000000000000': 2, '000010001001001 000000000000000': 1, '001011110001101 000000000000000': 1, '001110111101000 000000000000000': 5, '000101000011011 000000000000000': 1, '000111001111010 000000000000000': 2, '000101100001011 000000000000000': 1, '000000101101011 000000000000000': 4, '000111100001111 000000000000000': 3, '001111001010011 000000000000000': 3, '000110010101001 000000000000000': 2, '000111001111001 000000000000000': 3, '001010111101111 000000000000000': 3, '000110001000100 000000000000000': 2, '000100100110011 000000000000000': 2, '000101110101011 000000000000000': 2, '001010000111111 000000000000000': 1, '000101001001000 000000000000000': 3, '000110110011000 000000000000000': 1, '001001111000001 000000000000000': 3, '000101110001001 000000000000000': 3, '001001001010110 000000000000000': 4, '000111000111000 000000000000000': 1, '001100000101000 000000000000000': 2, '000110010010011 000000000000000': 1, '000010111101011 000000000000000': 3, '000001010011011 000000000000000': 2, '001000001111001 000000000000000': 4, '000110011011101 000000000000000': 1, '000000100110100 000000000000000': 3, '000100001001111 000000000000000': 2, '001101000110010 000000000000000': 3, '000100111011110 000000000000000': 2, '001011110011100 000000000000000': 3, '001111010100101 000000000000000': 2, '000001000010101 000000000000000': 2, '001111111100101 000000000000000': 3, '001101100000011 000000000000000': 4, '001001101010010 000000000000000': 5, '001111100110010 000000000000000': 3, '000111001011011 000000000000000': 1, '000011100000001 000000000000000': 4, '000000000010100 000000000000000': 4, '000000000000011 000000000000000': 1, '001101101111000 000000000000000': 3, '001001000111001 000000000000000': 1, '000011101011011 000000000000000': 1, '001000110111000 000000000000000': 3, '000110111110111 000000000000000': 2, '001101110111000 000000000000000': 1, '000010110111011 000000000000000': 4, '000011100001011 000000000000000': 1, '001100110110011 000000000000000': 1, '000001010101101 000000000000000': 1, '001110111000011 000000000000000': 1, '001101010101110 000000000000000': 3, '001011000110100 000000000000000': 1, '001110110011100 000000000000000': 4, '000101101001010 000000000000000': 1, '001000011110111 000000000000000': 4, '001001000100111 000000000000000': 2, '000110010100110 000000000000000': 2, '001010101011000 000000000000000': 1, '000111111100001 000000000000000': 2, '000000000100100 000000000000000': 2, '001000101010011 000000000000000': 2, '001010101011110 000000000000000': 4, '001000110011111 000000000000000': 1, '000001111000110 000000000000000': 2, '000110000011000 000000000000000': 2, '001000111010100 000000000000000': 1, '001011101101001 000000000000000': 2, '000001001001100 000000000000000': 3, '000001101011100 000000000000000': 2, '001110011110010 000000000000000': 2, '000111111111111 000000000000000': 1, '000111110101001 000000000000000': 4, '001001101001100 000000000000000': 1, '001011110100110 000000000000000': 1, '001111111000001 000000000000000': 2, '001010011111001 000000000000000': 2, '001110111000101 000000000000000': 2, '001001011011101 000000000000000': 2, '000100100100001 000000000000000': 4, '001101111010100 000000000000000': 2, '000011001011010 000000000000000': 3, '001001000010001 000000000000000': 2, '001101101011111 000000000000000': 2, '001011010010111 000000000000000': 3, '000101100110111 000000000000000': 3, '000111100010100 000000000000000': 2, '000000001101111 000000000000000': 1, '001111100010101 000000000000000': 3, '001010000000101 000000000000000': 1, '001001001000001 000000000000000': 3, '000111010001100 000000000000000': 2, '001011011001000 000000000000000': 3, '001100000000011 000000000000000': 1, '000100000010000 000000000000000': 2, '000000110101110 000000000000000': 1, '001100110111010 000000000000000': 3, '000001011011111 000000000000000': 2, '001110101010101 000000000000000': 1, '001110100111100 000000000000000': 1, '001110010000101 000000000000000': 3, '000001110101001 000000000000000': 2, '001110010100100 000000000000000': 3, '000101101010010 000000000000000': 1, '001010000100100 000000000000000': 1, '000001101010011 000000000000000': 4, '001101101001110 000000000000000': 4, '000011110010010 000000000000000': 4, '000110001111011 000000000000000': 1, '000100100111100 000000000000000': 3, '001111010000100 000000000000000': 1, '001101001010111 000000000000000': 2, '001111010001101 000000000000000': 2, '001111001001000 000000000000000': 3, '001001111001110 000000000000000': 2, '000000100111011 000000000000000': 4, '001101110000111 000000000000000': 1, '001000001010111 000000000000000': 2, '000100101111101 000000000000000': 1, '000100101011111 000000000000000': 1, '001001010101010 000000000000000': 2, '000101100101001 000000000000000': 3, '001110001101101 000000000000000': 1, '000110000101000 000000000000000': 2, '000100111010111 000000000000000': 1, '001010101110011 000000000000000': 3, '001001000100001 000000000000000': 2, '001001100100000 000000000000000': 3, '000000101110110 000000000000000': 2, '001010101000000 000000000000000': 2, '001001101011011 000000000000000': 2, '001000011000010 000000000000000': 1, '000010011001110 000000000000000': 2, '001010001111101 000000000000000': 2, '000000010010011 000000000000000': 4, '000011111010110 000000000000000': 4, '001010001110111 000000000000000': 1, '000111100111010 000000000000000': 2, '001001110101110 000000000000000': 1, '000010100001010 000000000000000': 2, '000111101100011 000000000000000': 3, '000100100001001 000000000000000': 2, '000001010111010 000000000000000': 1, '001110100011000 000000000000000': 2, '001010101000011 000000000000000': 2, '000010001110101 000000000000000': 2, '000011010100110 000000000000000': 3, '001101110101001 000000000000000': 4, '000000000011101 000000000000000': 2, '001011000010101 000000000000000': 3, '000100010011000 000000000000000': 4, '000111001100010 000000000000000': 2, '000000001101010 000000000000000': 4, '000001101100110 000000000000000': 2, '000010100000101 000000000000000': 3, '000011001001110 000000000000000': 2, '000101100100000 000000000000000': 2, '000000100011010 000000000000000': 2, '001110010010111 000000000000000': 2, '001000111110101 000000000000000': 2, '001100011100010 000000000000000': 2, '001011001101000 000000000000000': 2, '000110111101100 000000000000000': 2, '001001101111010 000000000000000': 4, '000100101001000 000000000000000': 2, '000110101000110 000000000000000': 2, '001011000010110 000000000000000': 3, '001010101111111 000000000000000': 2, '000010101001000 000000000000000': 5, '001100111111101 000000000000000': 1, '001001011001111 000000000000000': 1, '000001110100000 000000000000000': 1, '001011111110011 000000000000000': 3, '000110010100101 000000000000000': 1, '001101110010000 000000000000000': 1, '000110111001011 000000000000000': 1, '000101111101010 000000000000000': 3, '001000010010111 000000000000000': 1, '000111001111100 000000000000000': 1, '001010011110000 000000000000000': 1, '000011100111011 000000000000000': 4, '000011011111100 000000000000000': 3, '000011111000100 000000000000000': 2, '000000101110101 000000000000000': 5, '001010101101011 000000000000000': 1, '000111111011110 000000000000000': 3, '000110010011100 000000000000000': 1, '001011111110101 000000000000000': 4, '001101110000010 000000000000000': 2, '001000010001111 000000000000000': 1, '001011100100100 000000000000000': 1, '000111100111111 000000000000000': 1, '000011110110011 000000000000000': 1, '000110000101101 000000000000000': 1, '001011101110010 000000000000000': 2, '000001111111010 000000000000000': 2, '000101111000100 000000000000000': 2, '001110001101110 000000000000000': 4, '000111010001111 000000000000000': 1, '001011011010101 000000000000000': 2, '000010011110010 000000000000000': 2, '000110011110101 000000000000000': 1, '000110011101000 000000000000000': 1, '000001100010010 000000000000000': 2, '001111010000010 000000000000000': 3, '001101101110100 000000000000000': 5, '000010010010010 000000000000000': 1, '001001000000101 000000000000000': 1, '000000000100001 000000000000000': 5, '000000010100110 000000000000000': 3, '000010110110001 000000000000000': 1, '000011111011001 000000000000000': 1, '001110110010110 000000000000000': 2, '001101101100101 000000000000000': 2, '000101001110001 000000000000000': 1, '000001111111111 000000000000000': 3, '000001001011110 000000000000000': 2, '000011000000011 000000000000000': 2, '000000100101010 000000000000000': 1, '001101110001110 000000000000000': 2, '000011101111001 000000000000000': 3, '001101110110001 000000000000000': 3, '000000110001010 000000000000000': 2, '001001011100100 000000000000000': 1, '001001110000110 000000000000000': 4, '001010110111111 000000000000000': 1, '001001101001111 000000000000000': 2, '000110001010110 000000000000000': 3, '000101011100001 000000000000000': 2, '001101011111011 000000000000000': 1, '000100001011101 000000000000000': 3, '000001010010100 000000000000000': 3, '000001101011111 000000000000000': 3, '000001010100111 000000000000000': 1, '001110000110010 000000000000000': 3, '000011000110101 000000000000000': 2, '001100000100111 000000000000000': 3, '000101010000111 000000000000000': 4, '001010110001111 000000000000000': 2, '001101100011000 000000000000000': 1, '001011001111100 000000000000000': 1, '001001111001000 000000000000000': 2, '000000111111101 000000000000000': 3, '001011001111001 000000000000000': 1, '000100001001001 000000000000000': 1, '001010100011100 000000000000000': 1, '001000011110001 000000000000000': 3, '000001110101010 000000000000000': 2, '000111010110011 000000000000000': 1, '000100101010011 000000000000000': 3, '000111101100110 000000000000000': 5, '001011001110110 000000000000000': 3, '001101010011011 000000000000000': 3, '001010100110010 000000000000000': 1, '001000100111010 000000000000000': 1, '000101000011110 000000000000000': 1, '000010000011010 000000000000000': 1, '001010111000111 000000000000000': 4, '000110101001111 000000000000000': 1, '000010000010101 000000000000000': 2, '001000110001000 000000000000000': 1, '000001100001001 000000000000000': 3, '001011011010011 000000000000000': 1, '001010001000100 000000000000000': 1, '000001011001011 000000000000000': 1, '001011110000111 000000000000000': 2, '000000111000001 000000000000000': 3, '000110101000011 000000000000000': 1, '001100111111110 000000000000000': 2, '000101011110101 000000000000000': 4, '000010011001000 000000000000000': 1, '000100011110010 000000000000000': 1, '001100000001010 000000000000000': 4, '000100101101111 000000000000000': 1, '000011010000100 000000000000000': 1, '001101010011000 000000000000000': 2, '001101101110010 000000000000000': 3, '001001011100001 000000000000000': 2, '000010000011111 000000000000000': 5, '001010110011000 000000000000000': 3, '000000001010000 000000000000000': 2, '001000010011101 000000000000000': 2, '000011010011100 000000000000000': 5, '000000001111000 000000000000000': 3, '001000100100010 000000000000000': 2, '000011010001000 000000000000000': 2, '000001111101011 000000000000000': 4, '000111000011001 000000000000000': 5, '001000001000101 000000000000000': 1, '000010101110111 000000000000000': 3, '001000000111110 000000000000000': 3, '001110001000110 000000000000000': 3, '000111010100111 000000000000000': 1, '001100100111110 000000000000000': 2, '000101001000010 000000000000000': 1, '000110101010100 000000000000000': 1, '001100011000110 000000000000000': 5, '001110011110111 000000000000000': 3, '000010110101111 000000000000000': 3, '001100101101101 000000000000000': 2, '001011110110100 000000000000000': 3, '000000101111100 000000000000000': 1, '000100000000111 000000000000000': 1, '001111111011100 000000000000000': 1, '001100110100001 000000000000000': 2, '001101111011110 000000000000000': 2, '000111110000001 000000000000000': 3, '000100110111011 000000000000000': 3, '000100001111001 000000000000000': 3, '000000010101001 000000000000000': 1, '001000010000110 000000000000000': 2, '001100110000110 000000000000000': 2, '001001100000001 000000000000000': 4, '000001001110011 000000000000000': 3, '000010011000111 000000000000000': 2, '000010111000000 000000000000000': 1, '001001010100110 000000000000000': 3, '000011010010101 000000000000000': 4, '000110101111001 000000000000000': 2, '001000111001001 000000000000000': 2, '000010100000011 000000000000000': 1, '000010010100001 000000000000000': 1, '000111101010011 000000000000000': 1, '000111101001101 000000000000000': 2, '001000001000011 000000000000000': 6, '001010001001011 000000000000000': 2, '001100011110101 000000000000000': 1, '001111110111001 000000000000000': 1, '000011100001101 000000000000000': 4, '001111000001001 000000000000000': 3, '001101001110011 000000000000000': 5, '001101010101011 000000000000000': 3, '000001101111110 000000000000000': 1, '000101011111001 000000000000000': 2, '000011111000111 000000000000000': 1, '001111010110001 000000000000000': 1, '000111110000010 000000000000000': 2, '000000100011111 000000000000000': 4, '000000100001011 000000000000000': 2, '000110011101011 000000000000000': 3, '000110000001111 000000000000000': 1, '000001100101000 000000000000000': 1, '001000100101000 000000000000000': 2, '001111011010100 000000000000000': 5, '000001011001110 000000000000000': 2, '001010101110101 000000000000000': 1, '001101001001010 000000000000000': 3, '000001100110110 000000000000000': 2, '001110000011001 000000000000000': 1, '000011001101100 000000000000000': 3, '001010000000011 000000000000000': 3, '000001001100100 000000000000000': 1, '001001100001101 000000000000000': 3, '000011100110100 000000000000000': 3, '001001110000011 000000000000000': 5, '001011011000001 000000000000000': 5, '000110111111101 000000000000000': 2, '000111001011000 000000000000000': 2, '000100001001100 000000000000000': 3, '001101011110111 000000000000000': 1, '001010100001110 000000000000000': 2, '000001011100101 000000000000000': 3, '000100101010101 000000000000000': 2, '001100000010100 000000000000000': 3, '001101000001101 000000000000000': 2, '000000000101011 000000000000000': 4, '001011111010001 000000000000000': 2, '000010001001010 000000000000000': 5, '001000000101001 000000000000000': 2, '000000000011000 000000000000000': 4, '001011000111110 000000000000000': 1, '001010011110011 000000000000000': 3, '001110111010100 000000000000000': 4, '000011001000111 000000000000000': 4, '001110100010111 000000000000000': 2, '000000111100101 000000000000000': 2, '001101011001101 000000000000000': 1, '000010011101111 000000000000000': 2, '000011011010001 000000000000000': 1, '000100101100101 000000000000000': 2, '001000001111100 000000000000000': 2, '000001010111111 000000000000000': 2, '000000101111001 000000000000000': 4, '001111011000110 000000000000000': 3, '000010111010001 000000000000000': 2, '001011011101001 000000000000000': 4, '000001000011100 000000000000000': 2, '000001110001011 000000000000000': 1, '001111101001001 000000000000000': 1, '001010010110001 000000000000000': 5, '000011011000101 000000000000000': 3, '000001001011000 000000000000000': 2, '000100001010010 000000000000000': 1, '000010101011111 000000000000000': 2, '001011000111000 000000000000000': 1, '001000000100011 000000000000000': 1, '001000100110011 000000000000000': 1, '000110100000100 000000000000000': 3, '000111111101110 000000000000000': 3, '001010011000000 000000000000000': 1, '000000100111101 000000000000000': 1, '000111011111011 000000000000000': 1, '001011101111000 000000000000000': 3, '001011110101100 000000000000000': 1, '000000000001001 000000000000000': 1, '000101010000010 000000000000000': 1, '000000001100110 000000000000000': 2, '000001100000101 000000000000000': 1, '001100010011100 000000000000000': 3, '001111101110000 000000000000000': 1, '001010111100110 000000000000000': 3, '001001100101010 000000000000000': 1, '001011000110111 000000000000000': 1, '000011110101101 000000000000000': 2, '000110101010010 000000000000000': 2, '000000101010100 000000000000000': 1, '001000010110110 000000000000000': 2, '001011111101101 000000000000000': 4, '000000111000010 000000000000000': 2, '000000101011000 000000000000000': 4, '001111111010101 000000000000000': 2, '000111000010110 000000000000000': 2, '000101010000001 000000000000000': 1, '000111110111011 000000000000000': 4, '001011010101101 000000000000000': 2, '000100110011010 000000000000000': 2, '000001101101111 000000000000000': 2, '000100000011010 000000000000000': 3, '000111010110000 000000000000000': 3, '001000000111101 000000000000000': 6, '001100000100010 000000000000000': 2, '001111001100000 000000000000000': 2, '001011111110110 000000000000000': 1, '000000111100000 000000000000000': 1, '001100011100001 000000000000000': 1, '001001010101100 000000000000000': 2, '000011100000111 000000000000000': 3, '000101111010000 000000000000000': 3, '000111110110111 000000000000000': 1, '000101110010010 000000000000000': 1, '000111100101000 000000000000000': 2, '000110000110101 000000000000000': 2, '001001000001010 000000000000000': 1, '000111110010101 000000000000000': 1, '000010101110100 000000000000000': 2, '001000110100011 000000000000000': 3, '000110011111111 000000000000000': 2, '001110011100101 000000000000000': 2, '000100011101111 000000000000000': 2, '001001001000100 000000000000000': 1, '001001111010110 000000000000000': 1, '000011110111001 000000000000000': 2, '000010111000110 000000000000000': 1, '000101010011111 000000000000000': 7, '001000010010001 000000000000000': 2, '000011110010001 000000000000000': 1, '001011000001000 000000000000000': 3, '001111100101111 000000000000000': 1, '001010001001101 000000000000000': 1, '000010000100110 000000000000000': 1, '000111010100010 000000000000000': 1, '000011000010111 000000000000000': 1, '000000100010101 000000000000000': 1, '001011110011111 000000000000000': 1, '001011011111011 000000000000000': 3, '000010101101010 000000000000000': 1, '001010100000100 000000000000000': 1, '001010010001110 000000000000000': 2, '000111101001011 000000000000000': 2, '001110110000100 000000000000000': 2, '001001101101011 000000000000000': 1, '001011101001101 000000000000000': 2, '000101100101010 000000000000000': 1, '000111001101000 000000000000000': 2, '001010001000001 000000000000000': 3, '001100111010000 000000000000000': 1, '001001000010111 000000000000000': 3, '000001111111100 000000000000000': 2, '000000011000011 000000000000000': 3, '000110001011100 000000000000000': 2, '001011111000000 000000000000000': 3, '001010100000111 000000000000000': 2, '001111100110100 000000000000000': 1, '000011101001010 000000000000000': 2, '001001001001110 000000000000000': 2, '001110010011011 000000000000000': 2, '000100110101111 000000000000000': 4, '001111001000111 000000000000000': 2, '001011010001111 000000000000000': 2, '001101010010010 000000000000000': 1, '001010000100010 000000000000000': 1, '001010010010110 000000000000000': 3, '000100010100100 000000000000000': 1, '001011000011111 000000000000000': 1, '001010010101010 000000000000000': 2, '000000101100010 000000000000000': 5, '001000011111110 000000000000000': 5, '001101101001101 000000000000000': 1, '001111100101001 000000000000000': 2, '001000100011101 000000000000000': 2, '000101010100110 000000000000000': 7, '000000010000010 000000000000000': 2, '000111111100100 000000000000000': 1, '001111011100111 000000000000000': 1, '000101100000111 000000000000000': 2, '000110111010011 000000000000000': 1, '000110001010011 000000000000000': 2, '001110010001010 000000000000000': 1, '001111010010110 000000000000000': 1, '001010001110100 000000000000000': 2, '001010110111010 000000000000000': 1, '001100110100010 000000000000000': 4, '001111111000010 000000000000000': 2, '001010100110100 000000000000000': 2, '000100101010110 000000000000000': 1, '000001010010001 000000000000000': 1, '001011111111001 000000000000000': 1, '000101111010101 000000000000000': 2, '000011110010100 000000000000000': 3, '001001101101110 000000000000000': 3, '000111001011110 000000000000000': 4, '001000010001001 000000000000000': 1, '000111011011111 000000000000000': 2, '001001111011010 000000000000000': 1, '000001011111011 000000000000000': 1, '001001101011000 000000000000000': 3, '000010011011111 000000000000000': 2, '001101000011111 000000000000000': 4, '000011110000110 000000000000000': 1, '001001111110001 000000000000000': 1, '000101100110100 000000000000000': 3, '001000111110011 000000000000000': 2, '001110011100011 000000000000000': 2, '001111111111011 000000000000000': 1, '001101101100011 000000000000000': 1, '000011010100000 000000000000000': 4, '001111111110001 000000000000000': 2, '001101110001011 000000000000000': 2, '001110010001100 000000000000000': 1, '001010110111001 000000000000000': 2, '000100111100010 000000000000000': 2, '001011011110111 000000000000000': 2, '000011011110011 000000000000000': 2, '000000101100100 000000000000000': 4, '000100001110000 000000000000000': 2, '001010111000001 000000000000000': 2, '000110111110010 000000000000000': 3, '000001111101110 000000000000000': 1, '001101111000101 000000000000000': 2, '001011101111011 000000000000000': 1, '000000111011001 000000000000000': 1, '001000111011110 000000000000000': 3, '000111010101101 000000000000000': 1, '000111010010001 000000000000000': 4, '001101000011010 000000000000000': 2, '001000101011111 000000000000000': 3, '001111010110111 000000000000000': 1, '000101000011000 000000000000000': 6, '001111100001011 000000000000000': 2, '001101110110010 000000000000000': 1, '001010010111101 000000000000000': 2, '000100101111000 000000000000000': 1, '000011010110111 000000000000000': 1, '001100010101100 000000000000000': 3, '001100000000110 000000000000000': 1, '000110000010111 000000000000000': 1, '001000100011110 000000000000000': 2, '001010110110011 000000000000000': 3, '001000100101101 000000000000000': 1, '001011110100101 000000000000000': 1, '001000001001010 000000000000000': 1, '001111011100100 000000000000000': 1, '000010010001111 000000000000000': 2, '001110000110001 000000000000000': 2, '001000011011111 000000000000000': 1, '000001101000111 000000000000000': 2, '000000100111000 000000000000000': 1, '001010111000010 000000000000000': 1, '001101010110011 000000000000000': 1, '001110111101011 000000000000000': 1, '001001100011010 000000000000000': 1, '000110110110101 000000000000000': 1, '001100100000100 000000000000000': 2, '001101110101111 000000000000000': 1, '001000101010000 000000000000000': 2, '000010010110000 000000000000000': 4, '001011111001111 000000000000000': 2, '001111011100010 000000000000000': 2, '001110011010101 000000000000000': 1, '000111011101111 000000000000000': 2, '000100100111001 000000000000000': 2, '000011111011010 000000000000000': 1, '001110011101001 000000000000000': 3, '000101001001110 000000000000000': 2, '000010111000011 000000000000000': 3, '000010011010101 000000000000000': 5, '000111001110011 000000000000000': 2, '001100000011101 000000000000000': 2, '000101100011010 000000000000000': 1, '000111011101001 000000000000000': 2, '001101100001111 000000000000000': 3, '001101010111111 000000000000000': 2, '000001101111011 000000000000000': 1, '000100100001111 000000000000000': 1, '000000101011011 000000000000000': 1, '001011110000100 000000000000000': 1, '000001111001111 000000000000000': 1, '001111001100011 000000000000000': 4, '001000100000101 000000000000000': 2, '000010011000001 000000000000000': 1, '000011000110011 000000000000000': 1, '000000001001110 000000000000000': 1, '000010001010100 000000000000000': 1, '001111000000000 000000000000000': 1, '001111011111010 000000000000000': 2, '000100011001000 000000000000000': 2, '001011000110001 000000000000000': 1, '000111010010010 000000000000000': 3, '000000100100110 000000000000000': 1, '001111001100110 000000000000000': 2, '000010110001011 000000000000000': 2, '001010001111000 000000000000000': 1, '001101101000010 000000000000000': 1, '001111010101111 000000000000000': 2, '000110100101001 000000000000000': 1, '001011001011011 000000000000000': 6, '001110000111110 000000000000000': 1, '001100110001010 000000000000000': 2, '000100100110000 000000000000000': 1, '000011001001011 000000000000000': 3, '000110011011110 000000000000000': 1, '000010011100101 000000000000000': 2, '000101000011101 000000000000000': 3, '000011001111000 000000000000000': 3, '000101011010001 000000000000000': 2, '000011101110000 000000000000000': 2, '000011000111001 000000000000000': 1, '001010111010110 000000000000000': 2, '001011110111110 000000000000000': 2, '001010110101110 000000000000000': 1, '001111011010010 000000000000000': 1, '000001001011101 000000000000000': 3, '001011001011101 000000000000000': 3, '001011111010010 000000000000000': 2, '001000001001001 000000000000000': 1, '000110011100010 000000000000000': 2, '000101000111010 000000000000000': 3, '000111101000111 000000000000000': 2, '000100011111101 000000000000000': 1, '001110110011001 000000000000000': 4, '001100110110000 000000000000000': 1, '001011001110000 000000000000000': 2, '000101010110001 000000000000000': 1, '000101000110101 000000000000000': 1, '000001000101111 000000000000000': 1, '001100000101110 000000000000000': 1, '001100010101111 000000000000000': 2, '001101001111100 000000000000000': 2, '000100101110100 000000000000000': 1, '001101111000110 000000000000000': 1, '001101110011100 000000000000000': 3, '000110010000100 000000000000000': 1, '001111101011101 000000000000000': 1, '001100111101100 000000000000000': 2, '000011010010110 000000000000000': 1, '000111110011111 000000000000000': 1, '001101100110101 000000000000000': 1, '001011000100000 000000000000000': 1, '000101101111111 000000000000000': 2, '001011111110000 000000000000000': 1, '001110000110100 000000000000000': 3, '000011000101011 000000000000000': 2, '001000110101100 000000000000000': 2, '000011101100111 000000000000000': 1, '001110111110101 000000000000000': 3, '000110000101110 000000000000000': 2, '001011011100000 000000000000000': 1, '000100101110001 000000000000000': 1, '001001100101111 000000000000000': 1, '000001111011101 000000000000000': 3, '000100000110100 000000000000000': 1, '001010101010010 000000000000000': 3, '001111011101110 000000000000000': 1, '001000010101110 000000000000000': 1, '000110111011010 000000000000000': 2, '001110110010101 000000000000000': 1, '001000111010010 000000000000000': 2, '000101100010011 000000000000000': 2, '001001010011010 000000000000000': 2, '000101111111101 000000000000000': 4, '001110010101101 000000000000000': 3, '001001111000111 000000000000000': 2, '000110111111110 000000000000000': 2, '001010001010011 000000000000000': 2, '000101000000110 000000000000000': 2, '000110111011100 000000000000000': 3, '000011000001111 000000000000000': 2, '001100011100111 000000000000000': 2, '000110001011001 000000000000000': 1, '001010010110111 000000000000000': 2, '001100000111010 000000000000000': 3, '001011001001010 000000000000000': 1, '000111100100111 000000000000000': 1, '001000110000010 000000000000000': 2, '000011001011100 000000000000000': 2, '000100011000001 000000000000000': 2, '000000011101101 000000000000000': 1, '001101010101101 000000000000000': 2, '000010100110011 000000000000000': 2, '001110000001000 000000000000000': 2, '000101001010110 000000000000000': 1, '000001110011111 000000000000000': 4, '000111111111001 000000000000000': 2, '000101011000110 000000000000000': 3, '000010010110011 000000000000000': 2, '001010110001100 000000000000000': 1, '001111111110111 000000000000000': 3, '001010101110110 000000000000000': 1, '001101001110110 000000000000000': 2, '000111001100111 000000000000000': 1, '000011100011100 000000000000000': 2, '001010011000101 000000000000000': 4, '001100111000100 000000000000000': 2, '000011110111100 000000000000000': 2, '000001101010110 000000000000000': 2, '001110000010011 000000000000000': 2, '000111011010011 000000000000000': 3, '000100110000111 000000000000000': 2, '001101011001110 000000000000000': 1, '000000111010000 000000000000000': 1, '001011101100110 000000000000000': 1, '001011101110111 000000000000000': 1, '001000001110101 000000000000000': 1, '001001110001100 000000000000000': 1, '000110011000011 000000000000000': 3, '000100001111111 000000000000000': 2, '000100110100101 000000000000000': 3, '001010101011101 000000000000000': 2, '001100101001111 000000000000000': 1, '001110000010110 000000000000000': 3, '000001101000100 000000000000000': 2, '001001111011111 000000000000000': 4, '000001001111100 000000000000000': 1, '000101110111001 000000000000000': 2, '000101101000101 000000000000000': 2, '001010000100111 000000000000000': 2, '001111001000010 000000000000000': 1, '000000010100011 000000000000000': 2, '000111100110101 000000000000000': 3, '000110011101101 000000000000000': 1, '001111011111111 000000000000000': 2, '000111000110010 000000000000000': 4, '000111110011010 000000000000000': 1, '001111110011011 000000000000000': 2, '001110000100101 000000000000000': 2, '001100111010110 000000000000000': 3, '001111010111011 000000000000000': 2, '001010110100111 000000000000000': 1, '001010011110101 000000000000000': 1, '001110101010110 000000000000000': 2, '001110011110100 000000000000000': 2, '000011110011011 000000000000000': 1, '000010011010110 000000000000000': 2, '001100011001001 000000000000000': 2, '000001010100010 000000000000000': 4, '000100010001001 000000000000000': 1, '001010000101101 000000000000000': 1, '000010111101110 000000000000000': 2, '001100100100000 000000000000000': 1, '001110001110011 000000000000000': 3, '000011011001010 000000000000000': 2, '001000011110100 000000000000000': 1, '000101001100011 000000000000000': 2, '001100100111101 000000000000000': 2, '000110011111100 000000000000000': 6, '001001100110100 000000000000000': 1, '001010000010001 000000000000000': 5, '000110101011101 000000000000000': 3, '001010001101100 000000000000000': 1, '000101101010001 000000000000000': 1, '000101111000010 000000000000000': 1, '000000110000000 000000000000000': 1, '001100101011101 000000000000000': 2, '001111001001110 000000000000000': 3, '000101110001100 000000000000000': 1, '001101010000101 000000000000000': 2, '000001111001010 000000000000000': 1, '001111110100100 000000000000000': 3, '000000010011001 000000000000000': 3, '000100001010001 000000000000000': 3, '001001011110000 000000000000000': 2, '001101100011101 000000000000000': 4, '001001001111011 000000000000000': 1, '001001111010011 000000000000000': 2, '001000011011010 000000000000000': 1, '000111111110110 000000000000000': 1, '001000001011000 000000000000000': 2, '000100000000001 000000000000000': 5, '001111010010000 000000000000000': 2, '000110101101101 000000000000000': 2, '001111100000010 000000000000000': 2, '001010111100101 000000000000000': 2, '000010110111110 000000000000000': 2, '001100000011110 000000000000000': 1, '000000101001111 000000000000000': 3, '000000010001011 000000000000000': 1, '001010011111010 000000000000000': 4, '000110000010100 000000000000000': 2, '001111110000110 000000000000000': 2, '001101100011110 000000000000000': 2, '001010101010001 000000000000000': 1, '001110111010111 000000000000000': 3, '001100011000101 000000000000000': 1, '000110010100000 000000000000000': 1, '000111110100110 000000000000000': 2, '001000101011010 000000000000000': 1, '001100101110101 000000000000000': 2, '000101100110010 000000000000000': 1, '000001111001100 000000000000000': 3, '001100100001011 000000000000000': 1, '000110111001000 000000000000000': 2, '001001000001001 000000000000000': 1, '000001101001110 000000000000000': 1, '000100111110110 000000000000000': 1, '001001010111110 000000000000000': 1, '001100001100000 000000000000000': 2, '001101011000001 000000000000000': 2, '000000111110100 000000000000000': 3, '000001111110000 000000000000000': 1, '000101001111110 000000000000000': 1, '001110100001010 000000000000000': 2, '000110011000101 000000000000000': 3, '000101000101110 000000000000000': 2, '000011110101011 000000000000000': 1, '001111111001101 000000000000000': 1, '001000111000000 000000000000000': 3, '001111111101111 000000000000000': 2, '000001000010000 000000000000000': 1, '001011100010111 000000000000000': 2, '000011001011111 000000000000000': 2, '001100111011001 000000000000000': 1, '000011011110000 000000000000000': 3, '001100011111100 000000000000000': 2, '000100111111001 000000000000000': 3, '000100010111001 000000000000000': 1, '001011101000001 000000000000000': 1, '001101011100110 000000000000000': 2, '001001011000000 000000000000000': 1}\n"
          ]
        }
      ],
      "source": [
        "print(sim_result.get_counts(qc))"
      ]
    }
  ],
  "metadata": {
    "colab": {
      "provenance": []
    },
    "kernelspec": {
      "display_name": "Python 3",
      "language": "python",
      "name": "python3"
    },
    "language_info": {
      "codemirror_mode": {
        "name": "ipython",
        "version": 3
      },
      "file_extension": ".py",
      "mimetype": "text/x-python",
      "name": "python",
      "nbconvert_exporter": "python",
      "pygments_lexer": "ipython3",
      "version": "3.11.4"
    },
    "orig_nbformat": 4
  },
  "nbformat": 4,
  "nbformat_minor": 0
}
